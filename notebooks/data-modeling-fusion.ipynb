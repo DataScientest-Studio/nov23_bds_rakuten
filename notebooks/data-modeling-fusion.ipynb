{
  "nbformat": 4,
  "nbformat_minor": 0,
  "metadata": {
    "colab": {
      "provenance": [],
      "toc_visible": true,
      "gpuType": "T4"
    },
    "kernelspec": {
      "name": "python3",
      "display_name": "Python 3"
    },
    "language_info": {
      "name": "python"
    },
    "accelerator": "GPU"
  },
  "cells": [
    {
      "cell_type": "markdown",
      "metadata": {
        "id": "12RQGpRvrVZ3"
      },
      "source": [
        "# Introduction"
      ]
    },
    {
      "cell_type": "markdown",
      "metadata": {
        "id": "xxhU-ngztuo3"
      },
      "source": [
        "L'objectif de ce notebook est de tester des modèles d'ensemble qui permettent de fusionner les prédictions des meilleurs modèles qu'on pu trouver au cours de nos tests de modélisations sur les textes et les images.\n",
        "\n",
        "On tester un modèle classique de fusion qui reprend les principe de la classe **sklearn.ensemble.VotingClassifier** à laquelle on aurait passer le paramètre **voting = \"soft\"**."
      ]
    },
    {
      "cell_type": "markdown",
      "metadata": {
        "id": "318fdJ5JrZ9f"
      },
      "source": [
        "# Initialisation"
      ]
    },
    {
      "cell_type": "code",
      "execution_count": 1,
      "metadata": {
        "colab": {
          "base_uri": "https://localhost:8080/"
        },
        "id": "MF7wftWCvz-4",
        "outputId": "82b777a0-ebf9-4080-dc03-a919693b1943"
      },
      "outputs": [
        {
          "output_type": "stream",
          "name": "stdout",
          "text": [
            "Mounted at /content/drive/\n",
            "/content/drive/MyDrive/nov23_bds_rakuten\n"
          ]
        }
      ],
      "source": [
        "import sys\n",
        "import os\n",
        "\n",
        "if 'google.colab' in sys.modules:\n",
        "    from google.colab import drive\n",
        "    if not os.path.exists('/content/drive'):\n",
        "      drive.mount('/content/drive/')\n",
        "    %cd drive/MyDrive/nov23_bds_rakuten\n",
        "else:\n",
        "    root_files = os.listdir()\n",
        "    if not \"requirements.txt\" in root_files:\n",
        "        print(\"The jupyter server root should be set to root of git project\")\n",
        "        print(\"If you're on vscode add the following to your settings.json file\")\n",
        "        print('\"jupyter.notebookFileRoot\": \"${workspaceFolder}\"')"
      ]
    },
    {
      "cell_type": "code",
      "execution_count": 2,
      "metadata": {
        "id": "kZvAAQgT2XPB"
      },
      "outputs": [],
      "source": [
        "random_state = 42\n",
        "output_dir = \"output/data-modeling-fusion\""
      ]
    },
    {
      "cell_type": "code",
      "execution_count": 3,
      "metadata": {
        "id": "YvgXnZgfvz-8"
      },
      "outputs": [],
      "source": [
        "import numpy as np\n",
        "import pandas as pd\n",
        "import matplotlib.pyplot as plt\n",
        "%matplotlib inline\n",
        "import seaborn as sns\n",
        "\n",
        "from pathlib import Path\n",
        "import re\n",
        "from tqdm import tqdm\n",
        "import pickle as pickle\n",
        "\n",
        "import zipfile\n",
        "\n",
        "from sklearn.model_selection import train_test_split\n",
        "from sklearn.metrics import f1_score,accuracy_score,classification_report\n",
        "\n",
        "import tensorflow as tf\n",
        "from tensorflow.keras.models import Model\n",
        "from tensorflow.keras.layers import Input, Dense, Dropout, Flatten, AveragePooling2D, GlobalAveragePooling2D\n",
        "from tensorflow.keras.preprocessing.image import ImageDataGenerator\n",
        "from tensorflow.keras import Sequential\n",
        "from tensorflow.keras.optimizers import Adam\n",
        "from tensorflow.keras.callbacks import Callback,EarlyStopping, LearningRateScheduler\n",
        "from tensorflow.keras import backend as K\n",
        "import keras.saving\n",
        "\n",
        "from keras.utils import to_categorical\n",
        "from keras.models import load_model\n",
        "from keras.applications.vgg16 import VGG16\n",
        "from tensorflow.keras.applications.vgg16 import preprocess_input\n",
        "\n",
        "from sklearn.feature_extraction.text import CountVectorizer,TfidfTransformer\n",
        "from sklearn.svm import SVC\n",
        "\n",
        "from joblib import dump, load\n"
      ]
    },
    {
      "cell_type": "markdown",
      "metadata": {
        "id": "R-RN7e6HDzhe"
      },
      "source": [
        "# Librairie de fonctions"
      ]
    },
    {
      "cell_type": "markdown",
      "metadata": {
        "id": "bst58V8xD9Th"
      },
      "source": [
        "On récupère ici les fonctions définies dans le notebook **data-modeling-images-1**.\n",
        "\n",
        "Bien que je préfère en général définir les fonctions au fur et à mesure de leur utilisation, la multiplication des stratégies que nous allons tester rend plus simple de les rassembler dans cette section. En les extrayant du déroulement de chaque stratégie, nous pourrons plus efficacement dupliquer et identifier leur trame commune."
      ]
    },
    {
      "cell_type": "markdown",
      "metadata": {
        "id": "NVPLLv1FE6C_"
      },
      "source": [
        "## Import des données\n"
      ]
    },
    {
      "cell_type": "markdown",
      "metadata": {
        "id": "7VLTywQVxDZh"
      },
      "source": [
        "Commençons par définir une fonction **import_images** qui permet d'importer le jeu d'images que l'on souhaite utiliser."
      ]
    },
    {
      "cell_type": "code",
      "execution_count": 4,
      "metadata": {
        "id": "exmFIjCGr-5V"
      },
      "outputs": [],
      "source": [
        "def import_images(zip_path,dest_dir):\n",
        "    image_path = dest_dir\n",
        "    image_dir = Path(image_path)\n",
        "    if image_dir.exists():\n",
        "        print(\"images already imported from drive\")\n",
        "    else:\n",
        "        print(\"extracting images from drive into colab's session storage... (about 1 min)\")\n",
        "        with zipfile.ZipFile(zip_path,\"r\") as images_zip:\n",
        "            images_zip.extractall(image_path)\n",
        "    image_path = image_path + \"/images\"\n",
        "    return image_path"
      ]
    },
    {
      "cell_type": "markdown",
      "metadata": {
        "id": "h_ZiPtOljj21"
      },
      "source": [
        "## Rapport de modèle"
      ]
    },
    {
      "cell_type": "markdown",
      "metadata": {
        "id": "onGqFb04_wMH"
      },
      "source": [
        "Avant de commencer à créer notre modèle, nous allons nous occuper de comment on pourra comparer les différentes stratégies que nous allons tester.\n",
        "\n",
        "Nous allons créer un dataframe **df_reporting** qui contiendra les informations pertinentes sur notre stratégie de modélisation ainsi que ses résultats:\n",
        "* Un nom et un id de modèle\n",
        "* Les sources de données utilisées ainsi que la taille du subset de données.\n",
        "* Les hyper-paramètres du modèle\n",
        "* Les métriques de performance des tests.\n",
        "\n",
        "Au fur et à mesure de nos tests, on veillera à sauvegarder ce dataframe dans un fichier **model_reporting.csv**. Ce fichier nous assurera qu'on puisse reprendre nos tests là où ils se sont arrêtés en cas d'interruption.\n"
      ]
    },
    {
      "cell_type": "markdown",
      "metadata": {
        "id": "XPJgug0sCQkl"
      },
      "source": [
        "\n",
        "Ajoutons une fonction qui va créer le dataframe **df_reporting** en y ajoutant un modèle d'exemple.\n"
      ]
    },
    {
      "cell_type": "code",
      "execution_count": 6,
      "metadata": {
        "id": "F30Do8OFCbfM"
      },
      "outputs": [],
      "source": [
        "def create_reporting_df(save=True):\n",
        "  reporting_df = pd.DataFrame([{\n",
        "      #model infos\n",
        "      \"model_id\":int(0),\n",
        "      \"model_name\":\"Example model\",\n",
        "\n",
        "      #data sources\n",
        "      \"dataset_source\": \"output/data-exploration/X_train_pre.csv\",\n",
        "      \"dataset_resampled\": False,\n",
        "      \"image_dataset_source\" : \"data/images.zip\",\n",
        "      \"image_dataset_zoomed\" : False,\n",
        "      \"test_size\": int(42458),\n",
        "\n",
        "      # models selected\n",
        "      \"image_model_name\": \"Model 3.4.3\",\n",
        "      \"image_model_id\": \"343\",\n",
        "      \"image_model_path\": \"output/data-modeling-images-3/model-331.keras\",\n",
        "      \"text_model_name\": \"Model 1.10\",\n",
        "      \"text_model_id\": \"110\",\n",
        "      \"text_model_path\": \"output/data-modeling-text-1bis/model_10_svm.joblib\",\n",
        "\n",
        "      # fusion model\n",
        "      \"fusion_model\": \"VotingClassifier(voting='soft')\",\n",
        "\n",
        "      #hyper parameters\n",
        "      \"image_model_weight\": 0.5,\n",
        "      \"text_model_weight\": 0.5,\n",
        "\n",
        "      #metrics (on on test)\n",
        "      \"test_f1_score\": 0.42,\n",
        "      \"test_accuracy\": 0.57,\n",
        "\n",
        "      #other\n",
        "      \"remarks\": \"Ceci n'est pas un vrai modèle. C'est juste un exemple\",\n",
        "  }])\n",
        "\n",
        "  reporting_df.set_index(\"model_id\",inplace=True)\n",
        "  if save:\n",
        "    reporting_df.to_csv(output_dir+\"/model_reporting.csv\")\n",
        "  return reporting_df\n",
        "\n",
        "\n"
      ]
    },
    {
      "cell_type": "markdown",
      "metadata": {
        "id": "3WHItTxrlNE-"
      },
      "source": [
        "Ajoutons également une fonction qui va nous permettre de charger un **model_reporting_df** s'il existe.\n"
      ]
    },
    {
      "cell_type": "code",
      "execution_count": 7,
      "metadata": {
        "id": "pgimJraalYoT"
      },
      "outputs": [],
      "source": [
        "def load_reporting_df():\n",
        "  return pd.read_csv(output_dir+\"/model_reporting.csv\",index_col=\"model_id\")"
      ]
    },
    {
      "cell_type": "markdown",
      "metadata": {
        "id": "gTyej2kHFF1Q"
      },
      "source": [
        "On a besoin d'une fonction pour ajouter une nouvelle ligne dans **reporting_df**."
      ]
    },
    {
      "cell_type": "code",
      "execution_count": 8,
      "metadata": {
        "id": "mrh3JwHJFOKr"
      },
      "outputs": [],
      "source": [
        "def add_reporting_line(model_id:int,model_name:str,save:bool=True):\n",
        "  reporting_df.loc[int(model_id),\"model_name\"] = str(model_name)\n",
        "  if save:\n",
        "    reporting_df.to_csv(output_dir+\"/model_reporting.csv\")"
      ]
    },
    {
      "cell_type": "markdown",
      "metadata": {
        "id": "0wp2L4X1DYqm"
      },
      "source": [
        "Ajoutons une fonction pour ajouter ou modifier des informations dans notre modèle. On veillera à ce que cette fonction sauvegarde automatiquement le dataframe dans **model_reporting.csv**. On a besoin de garder le maximum d'informations en cas d'interruption."
      ]
    },
    {
      "cell_type": "code",
      "execution_count": 9,
      "metadata": {
        "id": "l_3maUh_EbEp"
      },
      "outputs": [],
      "source": [
        "def update_reporting_line(model_id: int,d:dict={},save:bool=True):\n",
        "  for key in d.keys():\n",
        "        reporting_df.at[int(model_id), str(key)] = d.get(key)\n",
        "  if save:\n",
        "    reporting_df.to_csv(output_dir+\"/model_reporting.csv\")"
      ]
    },
    {
      "cell_type": "markdown",
      "metadata": {
        "id": "9Xrorou27Khy"
      },
      "source": [
        "Ajoutons une fonction **get_reporting_value** qui permette de récupérer une information stockée pour un modèle."
      ]
    },
    {
      "cell_type": "code",
      "execution_count": 10,
      "metadata": {
        "id": "JC3OwMCprazp"
      },
      "outputs": [],
      "source": [
        "def get_reporting_value(model_id,key,default=None):\n",
        "  try:\n",
        "    value = reporting_df.at[model_id,key]\n",
        "    if np.isnan(value):\n",
        "      value=None\n",
        "  except KeyError:\n",
        "    value=None\n",
        "\n",
        "  if value == None and default != None:\n",
        "      value=default\n",
        "  return value"
      ]
    },
    {
      "cell_type": "markdown",
      "metadata": {
        "id": "QJ-hF0QOGw2m"
      },
      "source": [
        "## Création du modèle"
      ]
    },
    {
      "cell_type": "markdown",
      "metadata": {
        "id": "bOju9nxRIWXW"
      },
      "source": [
        "Nous allons également avoir besoin d'une métrique personnalisée **w_f1_score** qui permette de calculer le F1 Score pondéré. On veille à ajouter l'annotation **@keras.saving.register_keras_serializable** pour que Keras ne pose pas de problème lors du chargement du modèle.\n"
      ]
    },
    {
      "cell_type": "code",
      "execution_count": 11,
      "metadata": {
        "id": "AkinTDROGKJC"
      },
      "outputs": [],
      "source": [
        "def f1_score_sklearn(y_true, y_pred):\n",
        "    y_true_classes = np.argmax(y_true, axis=1)\n",
        "    y_pred_classes = np.argmax(y_pred, axis=1)\n",
        "    return f1_score(y_true_classes, y_pred_classes, average='weighted')\n",
        "\n",
        "@keras.saving.register_keras_serializable(name='w_f1_score')\n",
        "def w_f1_score(y_true, y_pred):\n",
        "    f1 = tf.py_function(f1_score_sklearn, (y_true, y_pred), tf.float64)\n",
        "    return f1"
      ]
    },
    {
      "cell_type": "markdown",
      "metadata": {
        "id": "EIdqXhvyG2Dh"
      },
      "source": [
        "## Sauvegarde du modèle"
      ]
    },
    {
      "cell_type": "markdown",
      "metadata": {
        "id": "4OaIabBWn6rz"
      },
      "source": [
        "Toujours en vue d'être résilient par rapport aux interruptions qui ont lieu régulièrement lors de la phase d'entraînement du modèle, créons des fonctions qui vont nous permettre de sauvegarder et restaurer un modèle Keras, afin de pouvoir reprendre l'entraînement s'il a été stoppé, ou même d'afficher les métriques d'un modèle dont l'entraînement est complet.\n"
      ]
    },
    {
      "cell_type": "code",
      "execution_count": 12,
      "metadata": {
        "id": "8C_aBhf_ALJq"
      },
      "outputs": [],
      "source": [
        "def load_saved_model(model_dir,model_id):\n",
        "  model_path = model_dir+(\"/model-%d.keras\" % model_id)\n",
        "  model_path_obj = Path(model_path)\n",
        "  if model_path_obj.exists():\n",
        "    print(\"Load previous model from\",model_path)\n",
        "    return load_model(model_path)\n",
        "  else:\n",
        "    print(\"No previous model found at\",model_path)\n",
        "    return None"
      ]
    },
    {
      "cell_type": "markdown",
      "metadata": {
        "id": "2MlcPhSEL6S9"
      },
      "source": [
        "## Évaluation du modèle"
      ]
    },
    {
      "cell_type": "markdown",
      "metadata": {
        "id": "T7hk1gA3MCa3"
      },
      "source": [
        "Ajoutons quelques fonctions qui vont nous faciliter l'affichage de graphiques et de matrices lors de la phase d'évaluation du modèle.\n"
      ]
    },
    {
      "cell_type": "markdown",
      "metadata": {
        "id": "a7KB-QYGMNQ4"
      },
      "source": [
        "Ici, on récupère du notebook **data-exploration** les labels correspondant aux classes, pour donner plus de lisibilité lors de l'évaluation.\n"
      ]
    },
    {
      "cell_type": "code",
      "execution_count": 13,
      "metadata": {
        "id": "M8aOSMNBMLzR"
      },
      "outputs": [],
      "source": [
        "prdcodetype2label = {\n",
        "    10 : \"Livre occasion\",\n",
        "    40 : \"Jeu vidéo, accessoire tech\",\n",
        "    50 : \"Accessoire Console\",\n",
        "    60 : \"Console de jeu\",\n",
        "    1140 : \"Figurine\",\n",
        "    1160 : \"Carte Collection\",\n",
        "    1180 : \"Jeu Plateau\",\n",
        "    1280 : \"Jouet enfant,déguisement\",\n",
        "    1281 : \"Jeu société\",\n",
        "    1300 : \"Jouet tech\",\n",
        "    1301 : \"Jeu intérieur,chaussettes\",\n",
        "    1302 : \"Jeu extérieur,vêtement\",\n",
        "    1320 : \"Bébé\",\n",
        "    1560 : \"Mobilier intérieur\",\n",
        "    1920 : \"Chambre\",\n",
        "    1940 : \"Cuisine\",\n",
        "    2060 : \"Décoration intérieure\",\n",
        "    2220 : \"Animal\",\n",
        "    2280 : \"Revues,journaux\",\n",
        "    2403 : \"Magazines,livres,BDs\",\n",
        "    2462 : \"Jeu occasion\",\n",
        "    2522 : \"Bureautique,papeterie\",\n",
        "    2582 : \"Mobilier extérieur\",\n",
        "    2583 : \"Piscine\",\n",
        "    2585 : \"Bricolage\",\n",
        "    2705 : \"Livre neuf\",\n",
        "    2905 : \"Jeu PC\",\n",
        "}"
      ]
    },
    {
      "cell_type": "markdown",
      "metadata": {
        "id": "kNIpt9ZqMq9i"
      },
      "source": [
        "Enfin, ajoutons une fonction **plot_confusion_matrix** qui nous permette d'afficher la matrice de confusion de manière lisible.\n"
      ]
    },
    {
      "cell_type": "code",
      "execution_count": 14,
      "metadata": {
        "id": "y7uSuY_r_0M4"
      },
      "outputs": [],
      "source": [
        "def plot_confusion_matrix(cm):\n",
        "  plt.figure(figsize=(15, 8))\n",
        "  sns.set(font_scale=0.8)\n",
        "  classes = [(str(c) +\": \"+ prdcodetype2label[int(c)]) for c in classes_ordered]\n",
        "  sns.heatmap(cm, annot=True, cbar=True, square=False,fmt='g'\n",
        "              ,xticklabels=classes,yticklabels=classes)\n",
        "  plt.xlabel('Prédit')\n",
        "  plt.ylabel('Réel')\n",
        "  plt.title('Matrice de confusion')\n",
        "  plt.show()"
      ]
    },
    {
      "cell_type": "markdown",
      "source": [
        "Ajoutons une fonction qui va nous permettre de réordonner les colonnes de la matrice de prédiction retournée par **model.predict** pour un modèle keras selon le nouvel ordre passé"
      ],
      "metadata": {
        "id": "l7q9RuAn2PnX"
      }
    },
    {
      "cell_type": "code",
      "source": [
        "def reorder_predict_cols(pred,old_ordered_classes,new_ordered_classes):\n",
        "  old_classes_to_index = {}\n",
        "  for i in range(len(old_ordered_classes)):\n",
        "    old_classes_to_index[old_ordered_classes[i]] = i\n",
        "\n",
        "  reordered_indexes = [old_classes_to_index[c] for c in new_ordered_classes]\n",
        "  reordered_pred = pred[:, reordered_indexes]\n",
        "  return reordered_pred\n"
      ],
      "metadata": {
        "id": "ijUOflCO2nwb"
      },
      "execution_count": 15,
      "outputs": []
    },
    {
      "cell_type": "markdown",
      "source": [
        "Créons une fonction **get_average_pred** qui combine les predictions du modèle d'image et du modèle de text en calculant la prediction moyenne des deux."
      ],
      "metadata": {
        "id": "9xu7DGgK8RBM"
      }
    },
    {
      "cell_type": "code",
      "source": [
        "def get_average_pred(img_pred,text_pred,img_pred_weight=0.5,text_pred_weight=0.5):\n",
        "  combined_pred = (img_pred * img_pred_weight) + (text_pred * text_pred_weight)\n",
        "  final_pred = np.argmax(combined_pred, axis=1)\n",
        "  return final_pred"
      ],
      "metadata": {
        "id": "_T7Lc2iP7WKh"
      },
      "execution_count": 16,
      "outputs": []
    },
    {
      "cell_type": "markdown",
      "metadata": {
        "id": "gFSM5ko3tTaN"
      },
      "source": [
        "# Modélisation 1.1"
      ]
    },
    {
      "cell_type": "markdown",
      "metadata": {
        "id": "yUdYNk8ausoa"
      },
      "source": [
        "Comme annoncé dans l'introduction, pour ce premier test de fusion de nos modèles texte et image, nous allons utiliser une approche probabiliste qui réplique l'algorithme employés par la classe **sklearn.ensemble.VotingClassifier** à laquelle on aurait passer le paramètre **voting = \"soft\"**.\n",
        "\n",
        "On aurait pu simplement utiliser cette classe, malheuresement, elle n'est pas compatible avec les modèles keras. Sachant qu'il s'agit simplement de faire une moyenne des probabilités des prédictions en sortie des deux modèles, il ne paraît pas compliqué de ré-implémenter nous même son comportement."
      ]
    },
    {
      "cell_type": "code",
      "execution_count": 17,
      "metadata": {
        "id": "hU7xDoUfviNr"
      },
      "outputs": [],
      "source": [
        "model_id = 411"
      ]
    },
    {
      "cell_type": "markdown",
      "metadata": {
        "id": "EGcPLLT7_lHk"
      },
      "source": [
        "## Initialisation du rapport de modèle"
      ]
    },
    {
      "cell_type": "markdown",
      "metadata": {
        "id": "5GBCxJuonBhK"
      },
      "source": [
        "Si un fichier **model_reporting.csv** existe, on le charge. Autrement, on en crée un nouveau.\n"
      ]
    },
    {
      "cell_type": "code",
      "execution_count": 18,
      "metadata": {
        "id": "b1XZccrm--yI",
        "colab": {
          "base_uri": "https://localhost:8080/"
        },
        "outputId": "543d537d-109e-4fb1-b000-380ae702cdfe"
      },
      "outputs": [
        {
          "output_type": "stream",
          "name": "stdout",
          "text": [
            "output/data-modeling-fusion/model_reporting.csv not found. creating one\n"
          ]
        }
      ],
      "source": [
        "Path(output_dir).mkdir(parents=True, exist_ok=True)\n",
        "try:\n",
        "  reporting_df = load_reporting_df()\n",
        "  print(\"loaded \",output_dir+\"/model_reporting.csv\")\n",
        "except FileNotFoundError:\n",
        "  reporting_df = create_reporting_df()\n",
        "  print(output_dir+\"/model_reporting.csv\",\"not found. creating one\")\n"
      ]
    },
    {
      "cell_type": "code",
      "execution_count": 19,
      "metadata": {
        "id": "VPLqWsozMZ_v",
        "colab": {
          "base_uri": "https://localhost:8080/",
          "height": 236
        },
        "outputId": "29f0e1fe-af4f-4bbf-988a-34ffc8a4bea0"
      },
      "outputs": [
        {
          "output_type": "execute_result",
          "data": {
            "text/plain": [
              "             model_name                           dataset_source  \\\n",
              "model_id                                                           \n",
              "0         Example model  output/data-exploration/X_train_pre.csv   \n",
              "\n",
              "          dataset_resampled image_dataset_source  image_dataset_zoomed  \\\n",
              "model_id                                                                 \n",
              "0                     False      data/images.zip                 False   \n",
              "\n",
              "          test_size image_model_name image_model_id  \\\n",
              "model_id                                              \n",
              "0             42458      Model 3.4.3            343   \n",
              "\n",
              "                                       image_model_path text_model_name  \\\n",
              "model_id                                                                  \n",
              "0         output/data-modeling-images-3/model-331.keras      Model 1.10   \n",
              "\n",
              "         text_model_id                                    text_model_path  \\\n",
              "model_id                                                                    \n",
              "0                  110  output/data-modeling-text-1bis/model_10_svm.jo...   \n",
              "\n",
              "                             fusion_model  image_model_weight  \\\n",
              "model_id                                                        \n",
              "0         VotingClassifier(voting='soft')                 0.5   \n",
              "\n",
              "          text_model_weight  test_f1_score  test_accuracy  \\\n",
              "model_id                                                    \n",
              "0                       0.5           0.42           0.57   \n",
              "\n",
              "                                                    remarks  \n",
              "model_id                                                     \n",
              "0         Ceci n'est pas un vrai modèle. C'est juste un ...  "
            ],
            "text/html": [
              "\n",
              "  <div id=\"df-868458ae-9490-41db-b7fe-2b2c40f3b507\" class=\"colab-df-container\">\n",
              "    <div>\n",
              "<style scoped>\n",
              "    .dataframe tbody tr th:only-of-type {\n",
              "        vertical-align: middle;\n",
              "    }\n",
              "\n",
              "    .dataframe tbody tr th {\n",
              "        vertical-align: top;\n",
              "    }\n",
              "\n",
              "    .dataframe thead th {\n",
              "        text-align: right;\n",
              "    }\n",
              "</style>\n",
              "<table border=\"1\" class=\"dataframe\">\n",
              "  <thead>\n",
              "    <tr style=\"text-align: right;\">\n",
              "      <th></th>\n",
              "      <th>model_name</th>\n",
              "      <th>dataset_source</th>\n",
              "      <th>dataset_resampled</th>\n",
              "      <th>image_dataset_source</th>\n",
              "      <th>image_dataset_zoomed</th>\n",
              "      <th>test_size</th>\n",
              "      <th>image_model_name</th>\n",
              "      <th>image_model_id</th>\n",
              "      <th>image_model_path</th>\n",
              "      <th>text_model_name</th>\n",
              "      <th>text_model_id</th>\n",
              "      <th>text_model_path</th>\n",
              "      <th>fusion_model</th>\n",
              "      <th>image_model_weight</th>\n",
              "      <th>text_model_weight</th>\n",
              "      <th>test_f1_score</th>\n",
              "      <th>test_accuracy</th>\n",
              "      <th>remarks</th>\n",
              "    </tr>\n",
              "    <tr>\n",
              "      <th>model_id</th>\n",
              "      <th></th>\n",
              "      <th></th>\n",
              "      <th></th>\n",
              "      <th></th>\n",
              "      <th></th>\n",
              "      <th></th>\n",
              "      <th></th>\n",
              "      <th></th>\n",
              "      <th></th>\n",
              "      <th></th>\n",
              "      <th></th>\n",
              "      <th></th>\n",
              "      <th></th>\n",
              "      <th></th>\n",
              "      <th></th>\n",
              "      <th></th>\n",
              "      <th></th>\n",
              "      <th></th>\n",
              "    </tr>\n",
              "  </thead>\n",
              "  <tbody>\n",
              "    <tr>\n",
              "      <th>0</th>\n",
              "      <td>Example model</td>\n",
              "      <td>output/data-exploration/X_train_pre.csv</td>\n",
              "      <td>False</td>\n",
              "      <td>data/images.zip</td>\n",
              "      <td>False</td>\n",
              "      <td>42458</td>\n",
              "      <td>Model 3.4.3</td>\n",
              "      <td>343</td>\n",
              "      <td>output/data-modeling-images-3/model-331.keras</td>\n",
              "      <td>Model 1.10</td>\n",
              "      <td>110</td>\n",
              "      <td>output/data-modeling-text-1bis/model_10_svm.jo...</td>\n",
              "      <td>VotingClassifier(voting='soft')</td>\n",
              "      <td>0.5</td>\n",
              "      <td>0.5</td>\n",
              "      <td>0.42</td>\n",
              "      <td>0.57</td>\n",
              "      <td>Ceci n'est pas un vrai modèle. C'est juste un ...</td>\n",
              "    </tr>\n",
              "  </tbody>\n",
              "</table>\n",
              "</div>\n",
              "    <div class=\"colab-df-buttons\">\n",
              "\n",
              "  <div class=\"colab-df-container\">\n",
              "    <button class=\"colab-df-convert\" onclick=\"convertToInteractive('df-868458ae-9490-41db-b7fe-2b2c40f3b507')\"\n",
              "            title=\"Convert this dataframe to an interactive table.\"\n",
              "            style=\"display:none;\">\n",
              "\n",
              "  <svg xmlns=\"http://www.w3.org/2000/svg\" height=\"24px\" viewBox=\"0 -960 960 960\">\n",
              "    <path d=\"M120-120v-720h720v720H120Zm60-500h600v-160H180v160Zm220 220h160v-160H400v160Zm0 220h160v-160H400v160ZM180-400h160v-160H180v160Zm440 0h160v-160H620v160ZM180-180h160v-160H180v160Zm440 0h160v-160H620v160Z\"/>\n",
              "  </svg>\n",
              "    </button>\n",
              "\n",
              "  <style>\n",
              "    .colab-df-container {\n",
              "      display:flex;\n",
              "      gap: 12px;\n",
              "    }\n",
              "\n",
              "    .colab-df-convert {\n",
              "      background-color: #E8F0FE;\n",
              "      border: none;\n",
              "      border-radius: 50%;\n",
              "      cursor: pointer;\n",
              "      display: none;\n",
              "      fill: #1967D2;\n",
              "      height: 32px;\n",
              "      padding: 0 0 0 0;\n",
              "      width: 32px;\n",
              "    }\n",
              "\n",
              "    .colab-df-convert:hover {\n",
              "      background-color: #E2EBFA;\n",
              "      box-shadow: 0px 1px 2px rgba(60, 64, 67, 0.3), 0px 1px 3px 1px rgba(60, 64, 67, 0.15);\n",
              "      fill: #174EA6;\n",
              "    }\n",
              "\n",
              "    .colab-df-buttons div {\n",
              "      margin-bottom: 4px;\n",
              "    }\n",
              "\n",
              "    [theme=dark] .colab-df-convert {\n",
              "      background-color: #3B4455;\n",
              "      fill: #D2E3FC;\n",
              "    }\n",
              "\n",
              "    [theme=dark] .colab-df-convert:hover {\n",
              "      background-color: #434B5C;\n",
              "      box-shadow: 0px 1px 3px 1px rgba(0, 0, 0, 0.15);\n",
              "      filter: drop-shadow(0px 1px 2px rgba(0, 0, 0, 0.3));\n",
              "      fill: #FFFFFF;\n",
              "    }\n",
              "  </style>\n",
              "\n",
              "    <script>\n",
              "      const buttonEl =\n",
              "        document.querySelector('#df-868458ae-9490-41db-b7fe-2b2c40f3b507 button.colab-df-convert');\n",
              "      buttonEl.style.display =\n",
              "        google.colab.kernel.accessAllowed ? 'block' : 'none';\n",
              "\n",
              "      async function convertToInteractive(key) {\n",
              "        const element = document.querySelector('#df-868458ae-9490-41db-b7fe-2b2c40f3b507');\n",
              "        const dataTable =\n",
              "          await google.colab.kernel.invokeFunction('convertToInteractive',\n",
              "                                                    [key], {});\n",
              "        if (!dataTable) return;\n",
              "\n",
              "        const docLinkHtml = 'Like what you see? Visit the ' +\n",
              "          '<a target=\"_blank\" href=https://colab.research.google.com/notebooks/data_table.ipynb>data table notebook</a>'\n",
              "          + ' to learn more about interactive tables.';\n",
              "        element.innerHTML = '';\n",
              "        dataTable['output_type'] = 'display_data';\n",
              "        await google.colab.output.renderOutput(dataTable, element);\n",
              "        const docLink = document.createElement('div');\n",
              "        docLink.innerHTML = docLinkHtml;\n",
              "        element.appendChild(docLink);\n",
              "      }\n",
              "    </script>\n",
              "  </div>\n",
              "\n",
              "    </div>\n",
              "  </div>\n"
            ]
          },
          "metadata": {},
          "execution_count": 19
        }
      ],
      "source": [
        "reporting_df.head()"
      ]
    },
    {
      "cell_type": "markdown",
      "metadata": {
        "id": "nZaNgIR3BvwH"
      },
      "source": [
        "Ajoutons une ligne correspondant à notre modèle\n"
      ]
    },
    {
      "cell_type": "code",
      "execution_count": 20,
      "metadata": {
        "id": "H_fYGbirOsB0"
      },
      "outputs": [],
      "source": [
        "add_reporting_line(model_id,\"Modèle 4.1.1\")"
      ]
    },
    {
      "cell_type": "markdown",
      "metadata": {
        "id": "S2shx3_QtoeL"
      },
      "source": [
        "## Import des données"
      ]
    },
    {
      "cell_type": "markdown",
      "metadata": {
        "id": "n-snQOMP3SC7"
      },
      "source": [
        "On importe les images zoomées qui ont été produites par le notebook **data_preprocessing_images**"
      ]
    },
    {
      "cell_type": "code",
      "execution_count": 21,
      "metadata": {
        "colab": {
          "base_uri": "https://localhost:8080/"
        },
        "id": "Gch4AVpS3SC8",
        "outputId": "f60fba47-612e-4f5c-e117-839b40d8c07a"
      },
      "outputs": [
        {
          "output_type": "stream",
          "name": "stdout",
          "text": [
            "extracting images from drive into colab's session storage... (about 1 min)\n"
          ]
        }
      ],
      "source": [
        "image_path = import_images(\"output/data-preprocessing-images/images_pre.zip\",\"/tmp/rakuten-images-2\")"
      ]
    },
    {
      "cell_type": "markdown",
      "metadata": {
        "id": "wMdVs43j3SC9"
      },
      "source": [
        "On charge maintenant le csv des données en sortie du notebook **Data-preprocessing-text-stopWord-Steming** qui a lui même utilisé la sortie du notebook **data_preprocessing_resampling**.\n",
        "\n",
        "Nous n'aurons pas besoin de refaire le split des données d'entrainement, **data_preprocessing_resampling** s'en étant déjà chargé. Nous avons juste à charger les datasets d'entrainement et de test:\n",
        "- **X_train_trad.csv**: L'ensemble d'entrainement\n",
        "- **X_test_trad.csv**: L'ensemble de test"
      ]
    },
    {
      "cell_type": "code",
      "execution_count": 22,
      "metadata": {
        "colab": {
          "base_uri": "https://localhost:8080/",
          "height": 515
        },
        "id": "RlNhw6P23SC9",
        "outputId": "1760a988-c805-4d40-89d7-25ac25835336"
      },
      "outputs": [
        {
          "output_type": "execute_result",
          "data": {
            "text/plain": [
              "        productid     imageid  \\\n",
              "index                           \n",
              "29927  3469563513  1215209457   \n",
              "42596  4152889175  1309607798   \n",
              "158    1190507078  1068211845   \n",
              "20061  4236041996  1324088536   \n",
              "20931  3836739131  1250952042   \n",
              "\n",
              "                                                    text lang  \\\n",
              "index                                                           \n",
              "29927  Adventure Parks Heavy Duty Tree Strap - Dont t...   en   \n",
              "42596  Magideal 2 Pcs Orff Instrument De Musique Hoch...   fr   \n",
              "158    Casa Padrino Baroque Dining Room With Armrests...   en   \n",
              "20061  T6 Xml Zoomable Led Lampe De Poche Tactique + ...   fr   \n",
              "20931  Organisateur Enfants En Bois Keepsake Cadeau P...   fr   \n",
              "\n",
              "                                          imagefile  prdtypecode  \\\n",
              "index                                                              \n",
              "29927  1280/image_1215209457_product_3469563513.jpg         1280   \n",
              "42596  1320/image_1309607798_product_4152889175.jpg         1320   \n",
              "158    1560/image_1068211845_product_1190507078.jpg         1560   \n",
              "20061  1302/image_1324088536_product_4236041996.jpg         1302   \n",
              "20931  1280/image_1250952042_product_3836739131.jpg         1280   \n",
              "\n",
              "                                                 text_fr  \n",
              "index                                                     \n",
              "29927  attachez pouvez faire correctement balançoire ...  \n",
              "42596  enfants cm stimuler développant orff accessoir...  \n",
              "158    pouvez cm produit original hauteur motif noir ...  \n",
              "20061  clickyswitch emitter type tactique 18650mode x...  \n",
              "20931  stockage temp non séparée venir placez morceau...  "
            ],
            "text/html": [
              "\n",
              "  <div id=\"df-50690c48-1936-42e4-8cd1-7eb0147a58f0\" class=\"colab-df-container\">\n",
              "    <div>\n",
              "<style scoped>\n",
              "    .dataframe tbody tr th:only-of-type {\n",
              "        vertical-align: middle;\n",
              "    }\n",
              "\n",
              "    .dataframe tbody tr th {\n",
              "        vertical-align: top;\n",
              "    }\n",
              "\n",
              "    .dataframe thead th {\n",
              "        text-align: right;\n",
              "    }\n",
              "</style>\n",
              "<table border=\"1\" class=\"dataframe\">\n",
              "  <thead>\n",
              "    <tr style=\"text-align: right;\">\n",
              "      <th></th>\n",
              "      <th>productid</th>\n",
              "      <th>imageid</th>\n",
              "      <th>text</th>\n",
              "      <th>lang</th>\n",
              "      <th>imagefile</th>\n",
              "      <th>prdtypecode</th>\n",
              "      <th>text_fr</th>\n",
              "    </tr>\n",
              "    <tr>\n",
              "      <th>index</th>\n",
              "      <th></th>\n",
              "      <th></th>\n",
              "      <th></th>\n",
              "      <th></th>\n",
              "      <th></th>\n",
              "      <th></th>\n",
              "      <th></th>\n",
              "    </tr>\n",
              "  </thead>\n",
              "  <tbody>\n",
              "    <tr>\n",
              "      <th>29927</th>\n",
              "      <td>3469563513</td>\n",
              "      <td>1215209457</td>\n",
              "      <td>Adventure Parks Heavy Duty Tree Strap - Dont t...</td>\n",
              "      <td>en</td>\n",
              "      <td>1280/image_1215209457_product_3469563513.jpg</td>\n",
              "      <td>1280</td>\n",
              "      <td>attachez pouvez faire correctement balançoire ...</td>\n",
              "    </tr>\n",
              "    <tr>\n",
              "      <th>42596</th>\n",
              "      <td>4152889175</td>\n",
              "      <td>1309607798</td>\n",
              "      <td>Magideal 2 Pcs Orff Instrument De Musique Hoch...</td>\n",
              "      <td>fr</td>\n",
              "      <td>1320/image_1309607798_product_4152889175.jpg</td>\n",
              "      <td>1320</td>\n",
              "      <td>enfants cm stimuler développant orff accessoir...</td>\n",
              "    </tr>\n",
              "    <tr>\n",
              "      <th>158</th>\n",
              "      <td>1190507078</td>\n",
              "      <td>1068211845</td>\n",
              "      <td>Casa Padrino Baroque Dining Room With Armrests...</td>\n",
              "      <td>en</td>\n",
              "      <td>1560/image_1068211845_product_1190507078.jpg</td>\n",
              "      <td>1560</td>\n",
              "      <td>pouvez cm produit original hauteur motif noir ...</td>\n",
              "    </tr>\n",
              "    <tr>\n",
              "      <th>20061</th>\n",
              "      <td>4236041996</td>\n",
              "      <td>1324088536</td>\n",
              "      <td>T6 Xml Zoomable Led Lampe De Poche Tactique + ...</td>\n",
              "      <td>fr</td>\n",
              "      <td>1302/image_1324088536_product_4236041996.jpg</td>\n",
              "      <td>1302</td>\n",
              "      <td>clickyswitch emitter type tactique 18650mode x...</td>\n",
              "    </tr>\n",
              "    <tr>\n",
              "      <th>20931</th>\n",
              "      <td>3836739131</td>\n",
              "      <td>1250952042</td>\n",
              "      <td>Organisateur Enfants En Bois Keepsake Cadeau P...</td>\n",
              "      <td>fr</td>\n",
              "      <td>1280/image_1250952042_product_3836739131.jpg</td>\n",
              "      <td>1280</td>\n",
              "      <td>stockage temp non séparée venir placez morceau...</td>\n",
              "    </tr>\n",
              "  </tbody>\n",
              "</table>\n",
              "</div>\n",
              "    <div class=\"colab-df-buttons\">\n",
              "\n",
              "  <div class=\"colab-df-container\">\n",
              "    <button class=\"colab-df-convert\" onclick=\"convertToInteractive('df-50690c48-1936-42e4-8cd1-7eb0147a58f0')\"\n",
              "            title=\"Convert this dataframe to an interactive table.\"\n",
              "            style=\"display:none;\">\n",
              "\n",
              "  <svg xmlns=\"http://www.w3.org/2000/svg\" height=\"24px\" viewBox=\"0 -960 960 960\">\n",
              "    <path d=\"M120-120v-720h720v720H120Zm60-500h600v-160H180v160Zm220 220h160v-160H400v160Zm0 220h160v-160H400v160ZM180-400h160v-160H180v160Zm440 0h160v-160H620v160ZM180-180h160v-160H180v160Zm440 0h160v-160H620v160Z\"/>\n",
              "  </svg>\n",
              "    </button>\n",
              "\n",
              "  <style>\n",
              "    .colab-df-container {\n",
              "      display:flex;\n",
              "      gap: 12px;\n",
              "    }\n",
              "\n",
              "    .colab-df-convert {\n",
              "      background-color: #E8F0FE;\n",
              "      border: none;\n",
              "      border-radius: 50%;\n",
              "      cursor: pointer;\n",
              "      display: none;\n",
              "      fill: #1967D2;\n",
              "      height: 32px;\n",
              "      padding: 0 0 0 0;\n",
              "      width: 32px;\n",
              "    }\n",
              "\n",
              "    .colab-df-convert:hover {\n",
              "      background-color: #E2EBFA;\n",
              "      box-shadow: 0px 1px 2px rgba(60, 64, 67, 0.3), 0px 1px 3px 1px rgba(60, 64, 67, 0.15);\n",
              "      fill: #174EA6;\n",
              "    }\n",
              "\n",
              "    .colab-df-buttons div {\n",
              "      margin-bottom: 4px;\n",
              "    }\n",
              "\n",
              "    [theme=dark] .colab-df-convert {\n",
              "      background-color: #3B4455;\n",
              "      fill: #D2E3FC;\n",
              "    }\n",
              "\n",
              "    [theme=dark] .colab-df-convert:hover {\n",
              "      background-color: #434B5C;\n",
              "      box-shadow: 0px 1px 3px 1px rgba(0, 0, 0, 0.15);\n",
              "      filter: drop-shadow(0px 1px 2px rgba(0, 0, 0, 0.3));\n",
              "      fill: #FFFFFF;\n",
              "    }\n",
              "  </style>\n",
              "\n",
              "    <script>\n",
              "      const buttonEl =\n",
              "        document.querySelector('#df-50690c48-1936-42e4-8cd1-7eb0147a58f0 button.colab-df-convert');\n",
              "      buttonEl.style.display =\n",
              "        google.colab.kernel.accessAllowed ? 'block' : 'none';\n",
              "\n",
              "      async function convertToInteractive(key) {\n",
              "        const element = document.querySelector('#df-50690c48-1936-42e4-8cd1-7eb0147a58f0');\n",
              "        const dataTable =\n",
              "          await google.colab.kernel.invokeFunction('convertToInteractive',\n",
              "                                                    [key], {});\n",
              "        if (!dataTable) return;\n",
              "\n",
              "        const docLinkHtml = 'Like what you see? Visit the ' +\n",
              "          '<a target=\"_blank\" href=https://colab.research.google.com/notebooks/data_table.ipynb>data table notebook</a>'\n",
              "          + ' to learn more about interactive tables.';\n",
              "        element.innerHTML = '';\n",
              "        dataTable['output_type'] = 'display_data';\n",
              "        await google.colab.output.renderOutput(dataTable, element);\n",
              "        const docLink = document.createElement('div');\n",
              "        docLink.innerHTML = docLinkHtml;\n",
              "        element.appendChild(docLink);\n",
              "      }\n",
              "    </script>\n",
              "  </div>\n",
              "\n",
              "\n",
              "<div id=\"df-b7f30978-08e9-4110-a652-1ae60c43a540\">\n",
              "  <button class=\"colab-df-quickchart\" onclick=\"quickchart('df-b7f30978-08e9-4110-a652-1ae60c43a540')\"\n",
              "            title=\"Suggest charts\"\n",
              "            style=\"display:none;\">\n",
              "\n",
              "<svg xmlns=\"http://www.w3.org/2000/svg\" height=\"24px\"viewBox=\"0 0 24 24\"\n",
              "     width=\"24px\">\n",
              "    <g>\n",
              "        <path d=\"M19 3H5c-1.1 0-2 .9-2 2v14c0 1.1.9 2 2 2h14c1.1 0 2-.9 2-2V5c0-1.1-.9-2-2-2zM9 17H7v-7h2v7zm4 0h-2V7h2v10zm4 0h-2v-4h2v4z\"/>\n",
              "    </g>\n",
              "</svg>\n",
              "  </button>\n",
              "\n",
              "<style>\n",
              "  .colab-df-quickchart {\n",
              "      --bg-color: #E8F0FE;\n",
              "      --fill-color: #1967D2;\n",
              "      --hover-bg-color: #E2EBFA;\n",
              "      --hover-fill-color: #174EA6;\n",
              "      --disabled-fill-color: #AAA;\n",
              "      --disabled-bg-color: #DDD;\n",
              "  }\n",
              "\n",
              "  [theme=dark] .colab-df-quickchart {\n",
              "      --bg-color: #3B4455;\n",
              "      --fill-color: #D2E3FC;\n",
              "      --hover-bg-color: #434B5C;\n",
              "      --hover-fill-color: #FFFFFF;\n",
              "      --disabled-bg-color: #3B4455;\n",
              "      --disabled-fill-color: #666;\n",
              "  }\n",
              "\n",
              "  .colab-df-quickchart {\n",
              "    background-color: var(--bg-color);\n",
              "    border: none;\n",
              "    border-radius: 50%;\n",
              "    cursor: pointer;\n",
              "    display: none;\n",
              "    fill: var(--fill-color);\n",
              "    height: 32px;\n",
              "    padding: 0;\n",
              "    width: 32px;\n",
              "  }\n",
              "\n",
              "  .colab-df-quickchart:hover {\n",
              "    background-color: var(--hover-bg-color);\n",
              "    box-shadow: 0 1px 2px rgba(60, 64, 67, 0.3), 0 1px 3px 1px rgba(60, 64, 67, 0.15);\n",
              "    fill: var(--button-hover-fill-color);\n",
              "  }\n",
              "\n",
              "  .colab-df-quickchart-complete:disabled,\n",
              "  .colab-df-quickchart-complete:disabled:hover {\n",
              "    background-color: var(--disabled-bg-color);\n",
              "    fill: var(--disabled-fill-color);\n",
              "    box-shadow: none;\n",
              "  }\n",
              "\n",
              "  .colab-df-spinner {\n",
              "    border: 2px solid var(--fill-color);\n",
              "    border-color: transparent;\n",
              "    border-bottom-color: var(--fill-color);\n",
              "    animation:\n",
              "      spin 1s steps(1) infinite;\n",
              "  }\n",
              "\n",
              "  @keyframes spin {\n",
              "    0% {\n",
              "      border-color: transparent;\n",
              "      border-bottom-color: var(--fill-color);\n",
              "      border-left-color: var(--fill-color);\n",
              "    }\n",
              "    20% {\n",
              "      border-color: transparent;\n",
              "      border-left-color: var(--fill-color);\n",
              "      border-top-color: var(--fill-color);\n",
              "    }\n",
              "    30% {\n",
              "      border-color: transparent;\n",
              "      border-left-color: var(--fill-color);\n",
              "      border-top-color: var(--fill-color);\n",
              "      border-right-color: var(--fill-color);\n",
              "    }\n",
              "    40% {\n",
              "      border-color: transparent;\n",
              "      border-right-color: var(--fill-color);\n",
              "      border-top-color: var(--fill-color);\n",
              "    }\n",
              "    60% {\n",
              "      border-color: transparent;\n",
              "      border-right-color: var(--fill-color);\n",
              "    }\n",
              "    80% {\n",
              "      border-color: transparent;\n",
              "      border-right-color: var(--fill-color);\n",
              "      border-bottom-color: var(--fill-color);\n",
              "    }\n",
              "    90% {\n",
              "      border-color: transparent;\n",
              "      border-bottom-color: var(--fill-color);\n",
              "    }\n",
              "  }\n",
              "</style>\n",
              "\n",
              "  <script>\n",
              "    async function quickchart(key) {\n",
              "      const quickchartButtonEl =\n",
              "        document.querySelector('#' + key + ' button');\n",
              "      quickchartButtonEl.disabled = true;  // To prevent multiple clicks.\n",
              "      quickchartButtonEl.classList.add('colab-df-spinner');\n",
              "      try {\n",
              "        const charts = await google.colab.kernel.invokeFunction(\n",
              "            'suggestCharts', [key], {});\n",
              "      } catch (error) {\n",
              "        console.error('Error during call to suggestCharts:', error);\n",
              "      }\n",
              "      quickchartButtonEl.classList.remove('colab-df-spinner');\n",
              "      quickchartButtonEl.classList.add('colab-df-quickchart-complete');\n",
              "    }\n",
              "    (() => {\n",
              "      let quickchartButtonEl =\n",
              "        document.querySelector('#df-b7f30978-08e9-4110-a652-1ae60c43a540 button');\n",
              "      quickchartButtonEl.style.display =\n",
              "        google.colab.kernel.accessAllowed ? 'block' : 'none';\n",
              "    })();\n",
              "  </script>\n",
              "</div>\n",
              "    </div>\n",
              "  </div>\n"
            ]
          },
          "metadata": {},
          "execution_count": 22
        }
      ],
      "source": [
        "df_train = pd.read_csv(\"output/data-preprocessing-text-stopWord-steming/X_train_trad.csv\",index_col=0)\n",
        "\n",
        "df_test = pd.read_csv(\"output/data-preprocessing-text-stopWord-steming/X_test_trad.csv\",index_col=0)\n",
        "df_test.head()"
      ]
    },
    {
      "cell_type": "markdown",
      "metadata": {
        "id": "lWAb_-kKd9rO"
      },
      "source": [
        "On peut déjà renseigner les informations sur les données sources qu'on utilise.\n"
      ]
    },
    {
      "cell_type": "code",
      "execution_count": 23,
      "metadata": {
        "id": "cAawyaJHB6df"
      },
      "outputs": [],
      "source": [
        "\n",
        "update_reporting_line(model_id,{\n",
        "    \"dataset_source\": \"output/data-preprocessing-text-stopWord-steming/X_test_trad.csv\",\n",
        "    \"dataset_resampled\": True,\n",
        "    \"image_dataset_source\" : \"output/data-preprocessing-images/images_pre.zip\",\n",
        "    \"image_dataset_zoomed\" : True,\n",
        "})"
      ]
    },
    {
      "cell_type": "markdown",
      "metadata": {
        "id": "hLrE7DJJ33xF"
      },
      "source": [
        "## Preprocessing"
      ]
    },
    {
      "cell_type": "code",
      "source": [
        "df_test.info()"
      ],
      "metadata": {
        "colab": {
          "base_uri": "https://localhost:8080/"
        },
        "id": "7Au_0kO5RCqO",
        "outputId": "4cac9361-d9c4-4ad5-f174-8eed9b170e78"
      },
      "execution_count": 24,
      "outputs": [
        {
          "output_type": "stream",
          "name": "stdout",
          "text": [
            "<class 'pandas.core.frame.DataFrame'>\n",
            "Int64Index: 8492 entries, 29927 to 18545\n",
            "Data columns (total 7 columns):\n",
            " #   Column       Non-Null Count  Dtype \n",
            "---  ------       --------------  ----- \n",
            " 0   productid    8492 non-null   int64 \n",
            " 1   imageid      8492 non-null   int64 \n",
            " 2   text         8492 non-null   object\n",
            " 3   lang         8492 non-null   object\n",
            " 4   imagefile    8492 non-null   object\n",
            " 5   prdtypecode  8492 non-null   int64 \n",
            " 6   text_fr      8491 non-null   object\n",
            "dtypes: int64(3), object(4)\n",
            "memory usage: 530.8+ KB\n"
          ]
        }
      ]
    },
    {
      "cell_type": "markdown",
      "source": [
        "Comme vu dans le notebook **data-modeling-text-1bis-TF-IDF**, il y a une valeur manquante dans la colonne **text_fr**, nous allons donc la supprimer puis réafficher les infos"
      ],
      "metadata": {
        "id": "FTx3SPCHQ0NZ"
      }
    },
    {
      "cell_type": "code",
      "source": [
        "df_test = df_test.dropna(subset=['text_fr'])\n",
        "df_test.info()"
      ],
      "metadata": {
        "colab": {
          "base_uri": "https://localhost:8080/"
        },
        "id": "SrDBGv4YQ389",
        "outputId": "a8b70160-0369-4c6b-f914-b7fa65572bc3"
      },
      "execution_count": 25,
      "outputs": [
        {
          "output_type": "stream",
          "name": "stdout",
          "text": [
            "<class 'pandas.core.frame.DataFrame'>\n",
            "Int64Index: 8491 entries, 29927 to 18545\n",
            "Data columns (total 7 columns):\n",
            " #   Column       Non-Null Count  Dtype \n",
            "---  ------       --------------  ----- \n",
            " 0   productid    8491 non-null   int64 \n",
            " 1   imageid      8491 non-null   int64 \n",
            " 2   text         8491 non-null   object\n",
            " 3   lang         8491 non-null   object\n",
            " 4   imagefile    8491 non-null   object\n",
            " 5   prdtypecode  8491 non-null   int64 \n",
            " 6   text_fr      8491 non-null   object\n",
            "dtypes: int64(3), object(4)\n",
            "memory usage: 530.7+ KB\n"
          ]
        }
      ]
    },
    {
      "cell_type": "markdown",
      "source": [
        "Il en va de même avec l'ensemble d'entrainement qui contient lui aussi quelques valeurs manquantes"
      ],
      "metadata": {
        "id": "In1HPx1Zyzbo"
      }
    },
    {
      "cell_type": "code",
      "source": [
        "df_train.info()"
      ],
      "metadata": {
        "colab": {
          "base_uri": "https://localhost:8080/"
        },
        "id": "czOQaofWyy3o",
        "outputId": "512a2ce1-c540-44e7-bf34-7b1b03fea586"
      },
      "execution_count": 26,
      "outputs": [
        {
          "output_type": "stream",
          "name": "stdout",
          "text": [
            "<class 'pandas.core.frame.DataFrame'>\n",
            "Int64Index: 109566 entries, 0 to 109565\n",
            "Data columns (total 7 columns):\n",
            " #   Column       Non-Null Count   Dtype \n",
            "---  ------       --------------   ----- \n",
            " 0   productid    109566 non-null  int64 \n",
            " 1   imageid      109566 non-null  int64 \n",
            " 2   text         109566 non-null  object\n",
            " 3   lang         109566 non-null  object\n",
            " 4   imagefile    109566 non-null  object\n",
            " 5   prdtypecode  109566 non-null  int64 \n",
            " 6   text_fr      109562 non-null  object\n",
            "dtypes: int64(3), object(4)\n",
            "memory usage: 6.7+ MB\n"
          ]
        }
      ]
    },
    {
      "cell_type": "code",
      "source": [
        "df_train = df_train.dropna(subset=['text_fr'])\n",
        "df_train.info()"
      ],
      "metadata": {
        "colab": {
          "base_uri": "https://localhost:8080/"
        },
        "id": "EHdkNYpWy9e5",
        "outputId": "3d236242-451a-410a-bc05-17f0d92f3e2d"
      },
      "execution_count": 27,
      "outputs": [
        {
          "output_type": "stream",
          "name": "stdout",
          "text": [
            "<class 'pandas.core.frame.DataFrame'>\n",
            "Int64Index: 109562 entries, 0 to 109565\n",
            "Data columns (total 7 columns):\n",
            " #   Column       Non-Null Count   Dtype \n",
            "---  ------       --------------   ----- \n",
            " 0   productid    109562 non-null  int64 \n",
            " 1   imageid      109562 non-null  int64 \n",
            " 2   text         109562 non-null  object\n",
            " 3   lang         109562 non-null  object\n",
            " 4   imagefile    109562 non-null  object\n",
            " 5   prdtypecode  109562 non-null  int64 \n",
            " 6   text_fr      109562 non-null  object\n",
            "dtypes: int64(3), object(4)\n",
            "memory usage: 6.7+ MB\n"
          ]
        }
      ]
    },
    {
      "cell_type": "markdown",
      "metadata": {
        "id": "ag_f2smm6Qpq"
      },
      "source": [
        "On sépare les variables explicatives de la cible."
      ]
    },
    {
      "cell_type": "code",
      "execution_count": 28,
      "metadata": {
        "id": "dgF77fwA6Qp2"
      },
      "outputs": [],
      "source": [
        "X_train = df_train.drop(\"prdtypecode\",axis=1)\n",
        "y_train = df_train[\"prdtypecode\"]\n",
        "\n",
        "X_test = df_test.drop(\"prdtypecode\",axis=1)\n",
        "y_test = df_test[\"prdtypecode\"]"
      ]
    },
    {
      "cell_type": "markdown",
      "source": [
        "Complétons le rapport avec la taille de jeu de données de test utilisé"
      ],
      "metadata": {
        "id": "6mgK7Lx5OHbE"
      }
    },
    {
      "cell_type": "code",
      "source": [
        "update_reporting_line(model_id,{\n",
        "    \"test_size\": len(X_test),\n",
        "})"
      ],
      "metadata": {
        "id": "Yu4tPadKOE6D"
      },
      "execution_count": 29,
      "outputs": []
    },
    {
      "cell_type": "markdown",
      "metadata": {
        "id": "Jbg-RwVOvz_E"
      },
      "source": [
        "### Preprocessing images"
      ]
    },
    {
      "cell_type": "markdown",
      "metadata": {
        "id": "bC3JWpZOAZjJ"
      },
      "source": [
        "Dans cette section, nous allons créer les générateurs qui vont fournir au modèle les images.\n"
      ]
    },
    {
      "cell_type": "markdown",
      "metadata": {
        "id": "5fzraNIcArCY"
      },
      "source": [
        "Commençons par créer une liste ordonnée des classes que l'on va fournir aux générateurs. Plus tard, cette liste nous servira à retrouver les classes correspondant aux prédictions, car la méthode **predict** de Keras retourne une matrice dont les colonnes correspondent aux classes dans l'ordre auquel on les a fournies.\n"
      ]
    },
    {
      "cell_type": "code",
      "execution_count": 30,
      "metadata": {
        "id": "3gBuIiXEvz_G"
      },
      "outputs": [],
      "source": [
        "classes_ordered = list(np.sort(np.array(df_test[\"prdtypecode\"].unique(),dtype=\"str\")))\n"
      ]
    },
    {
      "cell_type": "markdown",
      "metadata": {
        "id": "gPvZuI0JOHvZ"
      },
      "source": [
        "Pour le générateur de test, on doit bien sûr conserver les mêmes paramètres que ceux qui ont été utilisé par le modèle qu'on séléctionne."
      ]
    },
    {
      "cell_type": "code",
      "execution_count": 31,
      "metadata": {
        "colab": {
          "base_uri": "https://localhost:8080/"
        },
        "id": "SboQ3Tp1vz_I",
        "outputId": "6106683c-ffa7-4059-be27-1400d549c272"
      },
      "outputs": [
        {
          "output_type": "stream",
          "name": "stdout",
          "text": [
            "Found 8491 validated image filenames belonging to 27 classes.\n"
          ]
        }
      ],
      "source": [
        "test_data_generator = ImageDataGenerator(\n",
        "    preprocessing_function=preprocess_input\n",
        ")\n",
        "\n",
        "batch_size=64\n",
        "target_img_size = (224,224,3)\n",
        "color_mode = \"rgb\"\n",
        "\n",
        "test_generator = test_data_generator.flow_from_dataframe(\n",
        "    dataframe=pd.DataFrame({\"imagefile\": X_test['imagefile'],\"prdtypecode\": y_test.astype(\"str\")}),\n",
        "    x_col=\"imagefile\",\n",
        "    y_col=\"prdtypecode\",\n",
        "    directory=image_path,\n",
        "    target_size=target_img_size[:2],\n",
        "    color_mode=color_mode,\n",
        "    batch_size=batch_size,\n",
        "    class_mode=\"categorical\",\n",
        "    classes=classes_ordered,\n",
        "    shuffle=False\n",
        ")"
      ]
    },
    {
      "cell_type": "markdown",
      "source": [
        "### Preprocessing texte"
      ],
      "metadata": {
        "id": "CPlXGRs1RaEK"
      }
    },
    {
      "cell_type": "code",
      "source": [
        "# Créer un vectorisateur\n",
        "vectorizer = CountVectorizer()\n",
        "\n",
        "X_train_counts = vectorizer.fit_transform(X_train.text_fr)\n",
        "# Appliquer CountVectorizer au texte lemmatisé\n",
        "X_test_counts = vectorizer.transform(X_test.text_fr)"
      ],
      "metadata": {
        "id": "lmNVMgKZRnoQ"
      },
      "execution_count": 32,
      "outputs": []
    },
    {
      "cell_type": "code",
      "source": [
        "# Initialiser le transformateur TF-IDF\n",
        "tfidf_transformer = TfidfTransformer()\n",
        "\n",
        "tfidf_transformer.fit_transform(X_train_counts)\n",
        "# Appliquer la transformation TF-IDF\n",
        "X_test_tfidf = tfidf_transformer.transform(X_test_counts)"
      ],
      "metadata": {
        "id": "zwA3b5h2RwWw"
      },
      "execution_count": 33,
      "outputs": []
    },
    {
      "cell_type": "markdown",
      "metadata": {
        "id": "bkvQqYZ0n1DN"
      },
      "source": [
        "## Chargement des modèles"
      ]
    },
    {
      "cell_type": "markdown",
      "metadata": {
        "id": "t72t5p-5PIbp"
      },
      "source": [
        "Nous allons maintenant charger les modèles que nous avons séléctionné pour ce test"
      ]
    },
    {
      "cell_type": "code",
      "execution_count": 34,
      "metadata": {
        "colab": {
          "base_uri": "https://localhost:8080/"
        },
        "id": "B9-Uj7WnA1XO",
        "outputId": "a4a4d9a0-fd6c-4d0d-af15-4f86b4b4bb0c"
      },
      "outputs": [
        {
          "output_type": "stream",
          "name": "stdout",
          "text": [
            "Load previous model from output/data-modeling-images-3/model-331.keras\n",
            "Model: \"sequential\"\n",
            "_________________________________________________________________\n",
            " Layer (type)                Output Shape              Param #   \n",
            "=================================================================\n",
            " vgg16 (Functional)          (None, 7, 7, 512)         14714688  \n",
            "                                                                 \n",
            " global_average_pooling2d (  (None, 512)               0         \n",
            " GlobalAveragePooling2D)                                         \n",
            "                                                                 \n",
            " dense (Dense)               (None, 1024)              525312    \n",
            "                                                                 \n",
            " dropout (Dropout)           (None, 1024)              0         \n",
            "                                                                 \n",
            " dense_1 (Dense)             (None, 512)               524800    \n",
            "                                                                 \n",
            " dropout_1 (Dropout)         (None, 512)               0         \n",
            "                                                                 \n",
            " dense_2 (Dense)             (None, 27)                13851     \n",
            "                                                                 \n",
            "=================================================================\n",
            "Total params: 15778651 (60.19 MB)\n",
            "Trainable params: 8143387 (31.06 MB)\n",
            "Non-trainable params: 7635264 (29.13 MB)\n",
            "_________________________________________________________________\n"
          ]
        }
      ],
      "source": [
        "model_image = load_saved_model(\"output/data-modeling-images-3\",331)\n",
        "update_reporting_line(model_id,{\n",
        "    \"image_model_name\": \"Model 3.3.1\",\n",
        "    \"image_model_id\": \"331\",\n",
        "    \"image_model_path\": \"output/data-modeling-images-3/model-331.keras\",\n",
        "})\n",
        "model_image.summary()"
      ]
    },
    {
      "cell_type": "code",
      "source": [
        "model_text = load(\"output/data-modeling-text-1bis/model_10_svm.joblib\")\n",
        "update_reporting_line(model_id,{\n",
        "    \"text_model_name\": \"Model 1.10 svm\",\n",
        "    \"text_model_id\": \"1.10 svm\",\n",
        "    \"text_model_path\": \"output/data-modeling-text-1bis/model_10_svm.joblib\",\n",
        "})"
      ],
      "metadata": {
        "id": "OZxsv4jZVOG-"
      },
      "execution_count": 35,
      "outputs": []
    },
    {
      "cell_type": "markdown",
      "metadata": {
        "id": "PDPznCir0vAj"
      },
      "source": [
        "## Évaluation du modèle"
      ]
    },
    {
      "cell_type": "markdown",
      "metadata": {
        "id": "ynclhTKgR4IS"
      },
      "source": [
        "Calculons les prédictions sur l'ensemble de test pour les images."
      ]
    },
    {
      "cell_type": "code",
      "execution_count": 36,
      "metadata": {
        "colab": {
          "base_uri": "https://localhost:8080/"
        },
        "id": "E0kFOcdKrHD7",
        "outputId": "943355c2-d9f2-47a7-a94e-cd441126d710"
      },
      "outputs": [
        {
          "output_type": "stream",
          "name": "stdout",
          "text": [
            "133/133 [==============================] - 78s 493ms/step\n"
          ]
        }
      ],
      "source": [
        "test_pred_image = model_image.predict(test_generator,verbose=1)"
      ]
    },
    {
      "cell_type": "markdown",
      "source": [
        "Calculons les prédictions sur l'ensemble de test pour le texte."
      ],
      "metadata": {
        "id": "vbjgappSXBdL"
      }
    },
    {
      "cell_type": "code",
      "source": [
        "test_pred_text = model_text.predict_proba(X_test_tfidf)"
      ],
      "metadata": {
        "id": "iQHLJ-zMXDKT"
      },
      "execution_count": 37,
      "outputs": []
    },
    {
      "cell_type": "markdown",
      "source": [
        "L'ordre qu'on a utilisé pour les labels de classes passé à notre modéle keras est alphanumérique. Il n'est pas compatible avec l'ordre numérique des labels de classes utilisé par **model_text**. On appelle donc **reorder_predict_cols** pour convertir l'ordre des colonnes de **test_pred_text**."
      ],
      "metadata": {
        "id": "m0OMC7t-482E"
      }
    },
    {
      "cell_type": "code",
      "source": [
        "test_pred_text = reorder_predict_cols(test_pred_text,model_text.classes_,np.array(classes_ordered,dtype=\"int\") )"
      ],
      "metadata": {
        "id": "22qe71UP478q"
      },
      "execution_count": 38,
      "outputs": []
    },
    {
      "cell_type": "markdown",
      "source": [
        "On peut maintenant combiner les prédictions des deux modèles pour en tirer la classe la plus probable"
      ],
      "metadata": {
        "id": "ytqyfMFw9mZp"
      }
    },
    {
      "cell_type": "code",
      "source": [
        "test_pred = get_average_pred(test_pred_image,test_pred_text)\n",
        "update_reporting_line(model_id,{\n",
        "    \"fusion_model\": \"VotingClassifier(voting='soft')\",\n",
        "    \"image_model_weight\": 0.5,\n",
        "    \"text_model_weight\": 0.5,\n",
        "})\n"
      ],
      "metadata": {
        "id": "uhjfYvpO9l2b"
      },
      "execution_count": 39,
      "outputs": []
    },
    {
      "cell_type": "markdown",
      "metadata": {
        "id": "FvqQhexzR_bK"
      },
      "source": [
        "Il ne nous reste plus qu'à convertir les index de classes de **test_pred** en labels en se servant de **classes_ordered**.\n"
      ]
    },
    {
      "cell_type": "code",
      "execution_count": 40,
      "metadata": {
        "id": "LgI7yv_w1Dt6"
      },
      "outputs": [],
      "source": [
        "\n",
        "test_pred_class = [classes_ordered[c] for c in test_pred]"
      ]
    },
    {
      "cell_type": "markdown",
      "metadata": {
        "id": "uPzzQfAhi2J1"
      },
      "source": [
        "À partir des classes prédites et des observations réelles, on calcule le score F1 ainsi que l'accuracy de notre modèle, toujours sur le jeu de test.\n",
        "\n",
        "On enregistre ces informations dans le rapport.\n"
      ]
    },
    {
      "cell_type": "code",
      "execution_count": 41,
      "metadata": {
        "id": "OqaR_Rro09qF",
        "colab": {
          "base_uri": "https://localhost:8080/"
        },
        "outputId": "d8c2c7d7-dad4-48fb-a90f-ee4632646802"
      },
      "outputs": [
        {
          "output_type": "stream",
          "name": "stdout",
          "text": [
            "f1_score on test dataset=0.8252\n",
            "accuracy on test dataset=0.8272\n"
          ]
        }
      ],
      "source": [
        "f1_weighted = f1_score(y_test.astype(\"str\"),test_pred_class,average=\"weighted\")\n",
        "accuracy = accuracy_score(y_test.astype(\"str\"),test_pred_class)\n",
        "update_reporting_line(model_id,{\n",
        "    \"test_f1_score\":f1_weighted,\n",
        "    \"test_accuracy\":accuracy\n",
        "})\n",
        "\n",
        "print(\"f1_score on test dataset=%.4f\" % f1_weighted)\n",
        "print(\"accuracy on test dataset=%.4f\" % accuracy)"
      ]
    },
    {
      "cell_type": "markdown",
      "metadata": {
        "id": "Y4mu6vh836eN"
      },
      "source": [
        "todo: comment"
      ]
    },
    {
      "cell_type": "code",
      "execution_count": 42,
      "metadata": {
        "id": "IP9_UWfaD8dh",
        "colab": {
          "base_uri": "https://localhost:8080/"
        },
        "outputId": "68e3d330-6317-477d-e5bf-1a8bcdca5e6e"
      },
      "outputs": [
        {
          "output_type": "stream",
          "name": "stdout",
          "text": [
            "              precision    recall  f1-score   support\n",
            "\n",
            "          10       0.66      0.59      0.62       311\n",
            "        1140       0.81      0.82      0.82       267\n",
            "        1160       0.94      0.98      0.96       396\n",
            "        1180       0.71      0.49      0.58        76\n",
            "        1280       0.70      0.66      0.68       487\n",
            "        1281       0.62      0.58      0.60       207\n",
            "        1300       0.87      0.95      0.91       505\n",
            "        1301       0.97      0.84      0.90        81\n",
            "        1302       0.75      0.78      0.77       249\n",
            "        1320       0.84      0.77      0.81       324\n",
            "        1560       0.79      0.79      0.79       507\n",
            "        1920       0.87      0.94      0.90       431\n",
            "        1940       0.82      0.86      0.84        81\n",
            "        2060       0.77      0.82      0.79       499\n",
            "        2220       0.93      0.65      0.76        82\n",
            "        2280       0.83      0.83      0.83       475\n",
            "        2403       0.80      0.84      0.82       477\n",
            "        2462       0.84      0.81      0.82       142\n",
            "        2522       0.90      0.93      0.91       499\n",
            "        2582       0.73      0.68      0.70       259\n",
            "        2583       0.97      0.97      0.97      1021\n",
            "        2585       0.78      0.79      0.79       250\n",
            "        2705       0.78      0.80      0.79       276\n",
            "        2905       0.81      0.99      0.89        87\n",
            "          40       0.83      0.71      0.76       251\n",
            "          50       0.78      0.82      0.80       168\n",
            "          60       0.82      0.84      0.83        83\n",
            "\n",
            "    accuracy                           0.83      8491\n",
            "   macro avg       0.81      0.80      0.80      8491\n",
            "weighted avg       0.83      0.83      0.83      8491\n",
            "\n"
          ]
        }
      ],
      "source": [
        "\n",
        "print(classification_report(y_test.astype(\"str\"),test_pred_class))\n",
        "\n",
        "pd.DataFrame(\n",
        "    classification_report(y_test.astype(\"str\"),test_pred_class,output_dict=True)\n",
        ").transpose().to_csv(output_dir+(\"/classification-report-%d.csv\" % model_id),index=True  )\n",
        "\n"
      ]
    },
    {
      "cell_type": "markdown",
      "metadata": {
        "id": "SzFVx17IwM6j"
      },
      "source": [
        "todo: comment"
      ]
    },
    {
      "cell_type": "markdown",
      "metadata": {
        "id": "Xr8wjdtjkblI"
      },
      "source": [
        "Affichons la matrice de confusion sous forme de heatmap pour plus de lisibilité."
      ]
    },
    {
      "cell_type": "code",
      "execution_count": 43,
      "metadata": {
        "id": "YBf7Z4D8mrCQ",
        "colab": {
          "base_uri": "https://localhost:8080/",
          "height": 698
        },
        "outputId": "0d94235e-11e1-43ca-dbf6-6f1ddbcf3893"
      },
      "outputs": [
        {
          "output_type": "display_data",
          "data": {
            "text/plain": [
              "<Figure size 1500x800 with 2 Axes>"
            ],
            "image/png": "[encoded data removed]"
          },
          "metadata": {}
        }
      ],
      "source": [
        "cm = pd.crosstab(y_test.astype(\"str\"),test_pred_class,rownames=[\"réel\"],colnames=[\"prédit\"])\n",
        "plot_confusion_matrix(np.array(cm))"
      ]
    },
    {
      "cell_type": "markdown",
      "metadata": {
        "id": "oDz5zwGZxByR"
      },
      "source": [
        "todo: comment"
      ]
    },
    {
      "cell_type": "markdown",
      "metadata": {
        "id": "sl2T5jQGknkw"
      },
      "source": [
        "## Résumé"
      ]
    },
    {
      "cell_type": "markdown",
      "metadata": {
        "id": "DZX8i052lEfv"
      },
      "source": [
        "Nous avons atteint la fin de l'évaluation de cette modélisation. Affichons le rapport du modèle."
      ]
    },
    {
      "cell_type": "code",
      "execution_count": 44,
      "metadata": {
        "id": "AjzGSYNvlKit",
        "colab": {
          "base_uri": "https://localhost:8080/"
        },
        "outputId": "f605cacc-beba-4c74-9d70-53b2eb952c73"
      },
      "outputs": [
        {
          "output_type": "execute_result",
          "data": {
            "text/plain": [
              "model_name                                                   Modèle 4.1.1\n",
              "dataset_source          output/data-preprocessing-text-stopWord-stemin...\n",
              "dataset_resampled                                                    True\n",
              "image_dataset_source      output/data-preprocessing-images/images_pre.zip\n",
              "image_dataset_zoomed                                                 True\n",
              "test_size                                                          8491.0\n",
              "image_model_name                                              Model 3.3.1\n",
              "image_model_id                                                        331\n",
              "image_model_path            output/data-modeling-images-3/model-331.keras\n",
              "text_model_name                                            Model 1.10 svm\n",
              "text_model_id                                                    1.10 svm\n",
              "text_model_path         output/data-modeling-text-1bis/model_10_svm.jo...\n",
              "fusion_model                              VotingClassifier(voting='soft')\n",
              "image_model_weight                                                    0.5\n",
              "text_model_weight                                                     0.5\n",
              "test_f1_score                                                    0.825214\n",
              "test_accuracy                                                    0.827229\n",
              "remarks                                                               NaN\n",
              "Name: 411, dtype: object"
            ]
          },
          "metadata": {},
          "execution_count": 44
        }
      ],
      "source": [
        "reporting_df.loc[model_id].T"
      ]
    },
    {
      "cell_type": "markdown",
      "metadata": {
        "id": "xjekCVoSyPeJ"
      },
      "source": [
        "todo: comment"
      ]
    },
    {
      "cell_type": "markdown",
      "metadata": {
        "id": "z5HrPiMLOAtL"
      },
      "source": [
        "# Modélisation 1.2"
      ]
    },
    {
      "cell_type": "markdown",
      "metadata": {
        "id": "FvRMRlcNOAtd"
      },
      "source": [
        "Ce nouveau réitère le test précédent mais en modifiant cette fois les poids des différents modèles:\n",
        "\n",
        "- Pour le modèle de texte, on met un poids de 0.6\n",
        "- Pour le modèle d'image, on en met un de 0.4\n"
      ]
    },
    {
      "cell_type": "code",
      "execution_count": 45,
      "metadata": {
        "id": "Rz96Los_OAte"
      },
      "outputs": [],
      "source": [
        "model_id = 412"
      ]
    },
    {
      "cell_type": "markdown",
      "metadata": {
        "id": "Ggj9G8VHOAte"
      },
      "source": [
        "## Initialisation du rapport de modèle"
      ]
    },
    {
      "cell_type": "markdown",
      "metadata": {
        "id": "FdyhlQagOAtg"
      },
      "source": [
        "Si un fichier **model_reporting.csv** existe, on le charge. Autrement, on en crée un nouveau.\n"
      ]
    },
    {
      "cell_type": "code",
      "execution_count": 46,
      "metadata": {
        "colab": {
          "base_uri": "https://localhost:8080/"
        },
        "outputId": "4acd9ede-770f-449d-aa67-28f60c4f5fcc",
        "id": "1TshYAVeOAtg"
      },
      "outputs": [
        {
          "output_type": "stream",
          "name": "stdout",
          "text": [
            "loaded  output/data-modeling-fusion/model_reporting.csv\n"
          ]
        }
      ],
      "source": [
        "Path(output_dir).mkdir(parents=True, exist_ok=True)\n",
        "try:\n",
        "  reporting_df = load_reporting_df()\n",
        "  print(\"loaded \",output_dir+\"/model_reporting.csv\")\n",
        "except FileNotFoundError:\n",
        "  reporting_df = create_reporting_df()\n",
        "  print(output_dir+\"/model_reporting.csv\",\"not found. creating one\")\n"
      ]
    },
    {
      "cell_type": "code",
      "execution_count": 47,
      "metadata": {
        "colab": {
          "base_uri": "https://localhost:8080/",
          "height": 302
        },
        "outputId": "9e120395-82fc-45b1-f348-9f8270fa513c",
        "id": "bUirdnznOAth"
      },
      "outputs": [
        {
          "output_type": "execute_result",
          "data": {
            "text/plain": [
              "             model_name                                     dataset_source  \\\n",
              "model_id                                                                     \n",
              "0         Example model            output/data-exploration/X_train_pre.csv   \n",
              "411        Modèle 4.1.1  output/data-preprocessing-text-stopWord-stemin...   \n",
              "\n",
              "          dataset_resampled                             image_dataset_source  \\\n",
              "model_id                                                                       \n",
              "0                     False                                  data/images.zip   \n",
              "411                    True  output/data-preprocessing-images/images_pre.zip   \n",
              "\n",
              "          image_dataset_zoomed  test_size image_model_name  image_model_id  \\\n",
              "model_id                                                                     \n",
              "0                        False    42458.0      Model 3.4.3             343   \n",
              "411                       True     8491.0      Model 3.3.1             331   \n",
              "\n",
              "                                       image_model_path text_model_name  \\\n",
              "model_id                                                                  \n",
              "0         output/data-modeling-images-3/model-331.keras      Model 1.10   \n",
              "411       output/data-modeling-images-3/model-331.keras  Model 1.10 svm   \n",
              "\n",
              "         text_model_id                                    text_model_path  \\\n",
              "model_id                                                                    \n",
              "0                  110  output/data-modeling-text-1bis/model_10_svm.jo...   \n",
              "411           1.10 svm  output/data-modeling-text-1bis/model_10_svm.jo...   \n",
              "\n",
              "                             fusion_model  image_model_weight  \\\n",
              "model_id                                                        \n",
              "0         VotingClassifier(voting='soft')                 0.5   \n",
              "411       VotingClassifier(voting='soft')                 0.5   \n",
              "\n",
              "          text_model_weight  test_f1_score  test_accuracy  \\\n",
              "model_id                                                    \n",
              "0                       0.5       0.420000       0.570000   \n",
              "411                     0.5       0.825214       0.827229   \n",
              "\n",
              "                                                    remarks  \n",
              "model_id                                                     \n",
              "0         Ceci n'est pas un vrai modèle. C'est juste un ...  \n",
              "411                                                     NaN  "
            ],
            "text/html": [
              "\n",
              "  <div id=\"df-dae2e50c-b1c3-49fa-982d-0e7af01beeed\" class=\"colab-df-container\">\n",
              "    <div>\n",
              "<style scoped>\n",
              "    .dataframe tbody tr th:only-of-type {\n",
              "        vertical-align: middle;\n",
              "    }\n",
              "\n",
              "    .dataframe tbody tr th {\n",
              "        vertical-align: top;\n",
              "    }\n",
              "\n",
              "    .dataframe thead th {\n",
              "        text-align: right;\n",
              "    }\n",
              "</style>\n",
              "<table border=\"1\" class=\"dataframe\">\n",
              "  <thead>\n",
              "    <tr style=\"text-align: right;\">\n",
              "      <th></th>\n",
              "      <th>model_name</th>\n",
              "      <th>dataset_source</th>\n",
              "      <th>dataset_resampled</th>\n",
              "      <th>image_dataset_source</th>\n",
              "      <th>image_dataset_zoomed</th>\n",
              "      <th>test_size</th>\n",
              "      <th>image_model_name</th>\n",
              "      <th>image_model_id</th>\n",
              "      <th>image_model_path</th>\n",
              "      <th>text_model_name</th>\n",
              "      <th>text_model_id</th>\n",
              "      <th>text_model_path</th>\n",
              "      <th>fusion_model</th>\n",
              "      <th>image_model_weight</th>\n",
              "      <th>text_model_weight</th>\n",
              "      <th>test_f1_score</th>\n",
              "      <th>test_accuracy</th>\n",
              "      <th>remarks</th>\n",
              "    </tr>\n",
              "    <tr>\n",
              "      <th>model_id</th>\n",
              "      <th></th>\n",
              "      <th></th>\n",
              "      <th></th>\n",
              "      <th></th>\n",
              "      <th></th>\n",
              "      <th></th>\n",
              "      <th></th>\n",
              "      <th></th>\n",
              "      <th></th>\n",
              "      <th></th>\n",
              "      <th></th>\n",
              "      <th></th>\n",
              "      <th></th>\n",
              "      <th></th>\n",
              "      <th></th>\n",
              "      <th></th>\n",
              "      <th></th>\n",
              "      <th></th>\n",
              "    </tr>\n",
              "  </thead>\n",
              "  <tbody>\n",
              "    <tr>\n",
              "      <th>0</th>\n",
              "      <td>Example model</td>\n",
              "      <td>output/data-exploration/X_train_pre.csv</td>\n",
              "      <td>False</td>\n",
              "      <td>data/images.zip</td>\n",
              "      <td>False</td>\n",
              "      <td>42458.0</td>\n",
              "      <td>Model 3.4.3</td>\n",
              "      <td>343</td>\n",
              "      <td>output/data-modeling-images-3/model-331.keras</td>\n",
              "      <td>Model 1.10</td>\n",
              "      <td>110</td>\n",
              "      <td>output/data-modeling-text-1bis/model_10_svm.jo...</td>\n",
              "      <td>VotingClassifier(voting='soft')</td>\n",
              "      <td>0.5</td>\n",
              "      <td>0.5</td>\n",
              "      <td>0.420000</td>\n",
              "      <td>0.570000</td>\n",
              "      <td>Ceci n'est pas un vrai modèle. C'est juste un ...</td>\n",
              "    </tr>\n",
              "    <tr>\n",
              "      <th>411</th>\n",
              "      <td>Modèle 4.1.1</td>\n",
              "      <td>output/data-preprocessing-text-stopWord-stemin...</td>\n",
              "      <td>True</td>\n",
              "      <td>output/data-preprocessing-images/images_pre.zip</td>\n",
              "      <td>True</td>\n",
              "      <td>8491.0</td>\n",
              "      <td>Model 3.3.1</td>\n",
              "      <td>331</td>\n",
              "      <td>output/data-modeling-images-3/model-331.keras</td>\n",
              "      <td>Model 1.10 svm</td>\n",
              "      <td>1.10 svm</td>\n",
              "      <td>output/data-modeling-text-1bis/model_10_svm.jo...</td>\n",
              "      <td>VotingClassifier(voting='soft')</td>\n",
              "      <td>0.5</td>\n",
              "      <td>0.5</td>\n",
              "      <td>0.825214</td>\n",
              "      <td>0.827229</td>\n",
              "      <td>NaN</td>\n",
              "    </tr>\n",
              "  </tbody>\n",
              "</table>\n",
              "</div>\n",
              "    <div class=\"colab-df-buttons\">\n",
              "\n",
              "  <div class=\"colab-df-container\">\n",
              "    <button class=\"colab-df-convert\" onclick=\"convertToInteractive('df-dae2e50c-b1c3-49fa-982d-0e7af01beeed')\"\n",
              "            title=\"Convert this dataframe to an interactive table.\"\n",
              "            style=\"display:none;\">\n",
              "\n",
              "  <svg xmlns=\"http://www.w3.org/2000/svg\" height=\"24px\" viewBox=\"0 -960 960 960\">\n",
              "    <path d=\"M120-120v-720h720v720H120Zm60-500h600v-160H180v160Zm220 220h160v-160H400v160Zm0 220h160v-160H400v160ZM180-400h160v-160H180v160Zm440 0h160v-160H620v160ZM180-180h160v-160H180v160Zm440 0h160v-160H620v160Z\"/>\n",
              "  </svg>\n",
              "    </button>\n",
              "\n",
              "  <style>\n",
              "    .colab-df-container {\n",
              "      display:flex;\n",
              "      gap: 12px;\n",
              "    }\n",
              "\n",
              "    .colab-df-convert {\n",
              "      background-color: #E8F0FE;\n",
              "      border: none;\n",
              "      border-radius: 50%;\n",
              "      cursor: pointer;\n",
              "      display: none;\n",
              "      fill: #1967D2;\n",
              "      height: 32px;\n",
              "      padding: 0 0 0 0;\n",
              "      width: 32px;\n",
              "    }\n",
              "\n",
              "    .colab-df-convert:hover {\n",
              "      background-color: #E2EBFA;\n",
              "      box-shadow: 0px 1px 2px rgba(60, 64, 67, 0.3), 0px 1px 3px 1px rgba(60, 64, 67, 0.15);\n",
              "      fill: #174EA6;\n",
              "    }\n",
              "\n",
              "    .colab-df-buttons div {\n",
              "      margin-bottom: 4px;\n",
              "    }\n",
              "\n",
              "    [theme=dark] .colab-df-convert {\n",
              "      background-color: #3B4455;\n",
              "      fill: #D2E3FC;\n",
              "    }\n",
              "\n",
              "    [theme=dark] .colab-df-convert:hover {\n",
              "      background-color: #434B5C;\n",
              "      box-shadow: 0px 1px 3px 1px rgba(0, 0, 0, 0.15);\n",
              "      filter: drop-shadow(0px 1px 2px rgba(0, 0, 0, 0.3));\n",
              "      fill: #FFFFFF;\n",
              "    }\n",
              "  </style>\n",
              "\n",
              "    <script>\n",
              "      const buttonEl =\n",
              "        document.querySelector('#df-dae2e50c-b1c3-49fa-982d-0e7af01beeed button.colab-df-convert');\n",
              "      buttonEl.style.display =\n",
              "        google.colab.kernel.accessAllowed ? 'block' : 'none';\n",
              "\n",
              "      async function convertToInteractive(key) {\n",
              "        const element = document.querySelector('#df-dae2e50c-b1c3-49fa-982d-0e7af01beeed');\n",
              "        const dataTable =\n",
              "          await google.colab.kernel.invokeFunction('convertToInteractive',\n",
              "                                                    [key], {});\n",
              "        if (!dataTable) return;\n",
              "\n",
              "        const docLinkHtml = 'Like what you see? Visit the ' +\n",
              "          '<a target=\"_blank\" href=https://colab.research.google.com/notebooks/data_table.ipynb>data table notebook</a>'\n",
              "          + ' to learn more about interactive tables.';\n",
              "        element.innerHTML = '';\n",
              "        dataTable['output_type'] = 'display_data';\n",
              "        await google.colab.output.renderOutput(dataTable, element);\n",
              "        const docLink = document.createElement('div');\n",
              "        docLink.innerHTML = docLinkHtml;\n",
              "        element.appendChild(docLink);\n",
              "      }\n",
              "    </script>\n",
              "  </div>\n",
              "\n",
              "\n",
              "<div id=\"df-170398a7-f7d0-4193-a299-385d3318ab80\">\n",
              "  <button class=\"colab-df-quickchart\" onclick=\"quickchart('df-170398a7-f7d0-4193-a299-385d3318ab80')\"\n",
              "            title=\"Suggest charts\"\n",
              "            style=\"display:none;\">\n",
              "\n",
              "<svg xmlns=\"http://www.w3.org/2000/svg\" height=\"24px\"viewBox=\"0 0 24 24\"\n",
              "     width=\"24px\">\n",
              "    <g>\n",
              "        <path d=\"M19 3H5c-1.1 0-2 .9-2 2v14c0 1.1.9 2 2 2h14c1.1 0 2-.9 2-2V5c0-1.1-.9-2-2-2zM9 17H7v-7h2v7zm4 0h-2V7h2v10zm4 0h-2v-4h2v4z\"/>\n",
              "    </g>\n",
              "</svg>\n",
              "  </button>\n",
              "\n",
              "<style>\n",
              "  .colab-df-quickchart {\n",
              "      --bg-color: #E8F0FE;\n",
              "      --fill-color: #1967D2;\n",
              "      --hover-bg-color: #E2EBFA;\n",
              "      --hover-fill-color: #174EA6;\n",
              "      --disabled-fill-color: #AAA;\n",
              "      --disabled-bg-color: #DDD;\n",
              "  }\n",
              "\n",
              "  [theme=dark] .colab-df-quickchart {\n",
              "      --bg-color: #3B4455;\n",
              "      --fill-color: #D2E3FC;\n",
              "      --hover-bg-color: #434B5C;\n",
              "      --hover-fill-color: #FFFFFF;\n",
              "      --disabled-bg-color: #3B4455;\n",
              "      --disabled-fill-color: #666;\n",
              "  }\n",
              "\n",
              "  .colab-df-quickchart {\n",
              "    background-color: var(--bg-color);\n",
              "    border: none;\n",
              "    border-radius: 50%;\n",
              "    cursor: pointer;\n",
              "    display: none;\n",
              "    fill: var(--fill-color);\n",
              "    height: 32px;\n",
              "    padding: 0;\n",
              "    width: 32px;\n",
              "  }\n",
              "\n",
              "  .colab-df-quickchart:hover {\n",
              "    background-color: var(--hover-bg-color);\n",
              "    box-shadow: 0 1px 2px rgba(60, 64, 67, 0.3), 0 1px 3px 1px rgba(60, 64, 67, 0.15);\n",
              "    fill: var(--button-hover-fill-color);\n",
              "  }\n",
              "\n",
              "  .colab-df-quickchart-complete:disabled,\n",
              "  .colab-df-quickchart-complete:disabled:hover {\n",
              "    background-color: var(--disabled-bg-color);\n",
              "    fill: var(--disabled-fill-color);\n",
              "    box-shadow: none;\n",
              "  }\n",
              "\n",
              "  .colab-df-spinner {\n",
              "    border: 2px solid var(--fill-color);\n",
              "    border-color: transparent;\n",
              "    border-bottom-color: var(--fill-color);\n",
              "    animation:\n",
              "      spin 1s steps(1) infinite;\n",
              "  }\n",
              "\n",
              "  @keyframes spin {\n",
              "    0% {\n",
              "      border-color: transparent;\n",
              "      border-bottom-color: var(--fill-color);\n",
              "      border-left-color: var(--fill-color);\n",
              "    }\n",
              "    20% {\n",
              "      border-color: transparent;\n",
              "      border-left-color: var(--fill-color);\n",
              "      border-top-color: var(--fill-color);\n",
              "    }\n",
              "    30% {\n",
              "      border-color: transparent;\n",
              "      border-left-color: var(--fill-color);\n",
              "      border-top-color: var(--fill-color);\n",
              "      border-right-color: var(--fill-color);\n",
              "    }\n",
              "    40% {\n",
              "      border-color: transparent;\n",
              "      border-right-color: var(--fill-color);\n",
              "      border-top-color: var(--fill-color);\n",
              "    }\n",
              "    60% {\n",
              "      border-color: transparent;\n",
              "      border-right-color: var(--fill-color);\n",
              "    }\n",
              "    80% {\n",
              "      border-color: transparent;\n",
              "      border-right-color: var(--fill-color);\n",
              "      border-bottom-color: var(--fill-color);\n",
              "    }\n",
              "    90% {\n",
              "      border-color: transparent;\n",
              "      border-bottom-color: var(--fill-color);\n",
              "    }\n",
              "  }\n",
              "</style>\n",
              "\n",
              "  <script>\n",
              "    async function quickchart(key) {\n",
              "      const quickchartButtonEl =\n",
              "        document.querySelector('#' + key + ' button');\n",
              "      quickchartButtonEl.disabled = true;  // To prevent multiple clicks.\n",
              "      quickchartButtonEl.classList.add('colab-df-spinner');\n",
              "      try {\n",
              "        const charts = await google.colab.kernel.invokeFunction(\n",
              "            'suggestCharts', [key], {});\n",
              "      } catch (error) {\n",
              "        console.error('Error during call to suggestCharts:', error);\n",
              "      }\n",
              "      quickchartButtonEl.classList.remove('colab-df-spinner');\n",
              "      quickchartButtonEl.classList.add('colab-df-quickchart-complete');\n",
              "    }\n",
              "    (() => {\n",
              "      let quickchartButtonEl =\n",
              "        document.querySelector('#df-170398a7-f7d0-4193-a299-385d3318ab80 button');\n",
              "      quickchartButtonEl.style.display =\n",
              "        google.colab.kernel.accessAllowed ? 'block' : 'none';\n",
              "    })();\n",
              "  </script>\n",
              "</div>\n",
              "    </div>\n",
              "  </div>\n"
            ]
          },
          "metadata": {},
          "execution_count": 47
        }
      ],
      "source": [
        "reporting_df.head()"
      ]
    },
    {
      "cell_type": "markdown",
      "metadata": {
        "id": "FraD7BlBOAth"
      },
      "source": [
        "Ajoutons une ligne correspondant à notre modèle\n"
      ]
    },
    {
      "cell_type": "code",
      "execution_count": 48,
      "metadata": {
        "id": "1qz0yq8GOAti"
      },
      "outputs": [],
      "source": [
        "add_reporting_line(model_id,\"Modèle 4.1.2\")"
      ]
    },
    {
      "cell_type": "markdown",
      "metadata": {
        "id": "-1l-xc8yOAti"
      },
      "source": [
        "## Import des données"
      ]
    },
    {
      "cell_type": "markdown",
      "source": [
        "On réutilise les données importées précédemment"
      ],
      "metadata": {
        "id": "VVXGhga8OwNv"
      }
    },
    {
      "cell_type": "markdown",
      "metadata": {
        "id": "cv-m6oQAOAtk"
      },
      "source": [
        "On peut déjà renseigner les informations sur les données sources qu'on utilise.\n"
      ]
    },
    {
      "cell_type": "code",
      "execution_count": 49,
      "metadata": {
        "id": "kJ1wiOH1OAtk"
      },
      "outputs": [],
      "source": [
        "\n",
        "update_reporting_line(model_id,{\n",
        "    \"dataset_source\": \"output/data-preprocessing-text-stopWord-steming/X_test_trad.csv\",\n",
        "    \"dataset_resampled\": True,\n",
        "    \"image_dataset_source\" : \"output/data-preprocessing-images/images_pre.zip\",\n",
        "    \"image_dataset_zoomed\" : True,\n",
        "})"
      ]
    },
    {
      "cell_type": "markdown",
      "metadata": {
        "id": "CDa-pWD_OAtk"
      },
      "source": [
        "## Preprocessing"
      ]
    },
    {
      "cell_type": "markdown",
      "source": [
        "On réutilise le preprocessing de la section précédente"
      ],
      "metadata": {
        "id": "M-6didZLO7b9"
      }
    },
    {
      "cell_type": "markdown",
      "source": [
        "Complétons le rapport avec la taille de jeu de données de test utilisé"
      ],
      "metadata": {
        "id": "GFmfxwdJOAtm"
      }
    },
    {
      "cell_type": "code",
      "source": [
        "update_reporting_line(model_id,{\n",
        "    \"test_size\": len(X_test),\n",
        "})"
      ],
      "metadata": {
        "id": "N_cu9wOaOAtn"
      },
      "execution_count": 50,
      "outputs": []
    },
    {
      "cell_type": "markdown",
      "metadata": {
        "id": "OYQxbyO4OAtp"
      },
      "source": [
        "## Chargement des modèles"
      ]
    },
    {
      "cell_type": "markdown",
      "metadata": {
        "id": "qQmHG8ZmOAtq"
      },
      "source": [
        "On réutililise les modèles chargés dans la dernière section."
      ]
    },
    {
      "cell_type": "code",
      "execution_count": 51,
      "metadata": {
        "colab": {
          "base_uri": "https://localhost:8080/"
        },
        "outputId": "eb01af1f-e5a6-4cbb-dbc4-b52b20de12d8",
        "id": "xparAxyFOAtq"
      },
      "outputs": [
        {
          "output_type": "stream",
          "name": "stdout",
          "text": [
            "Model: \"sequential\"\n",
            "_________________________________________________________________\n",
            " Layer (type)                Output Shape              Param #   \n",
            "=================================================================\n",
            " vgg16 (Functional)          (None, 7, 7, 512)         14714688  \n",
            "                                                                 \n",
            " global_average_pooling2d (  (None, 512)               0         \n",
            " GlobalAveragePooling2D)                                         \n",
            "                                                                 \n",
            " dense (Dense)               (None, 1024)              525312    \n",
            "                                                                 \n",
            " dropout (Dropout)           (None, 1024)              0         \n",
            "                                                                 \n",
            " dense_1 (Dense)             (None, 512)               524800    \n",
            "                                                                 \n",
            " dropout_1 (Dropout)         (None, 512)               0         \n",
            "                                                                 \n",
            " dense_2 (Dense)             (None, 27)                13851     \n",
            "                                                                 \n",
            "=================================================================\n",
            "Total params: 15778651 (60.19 MB)\n",
            "Trainable params: 8143387 (31.06 MB)\n",
            "Non-trainable params: 7635264 (29.13 MB)\n",
            "_________________________________________________________________\n"
          ]
        }
      ],
      "source": [
        "update_reporting_line(model_id,{\n",
        "    \"image_model_name\": \"Model 3.3.1\",\n",
        "    \"image_model_id\": \"331\",\n",
        "    \"image_model_path\": \"output/data-modeling-images-3/model-331.keras\",\n",
        "})\n",
        "model_image.summary()"
      ]
    },
    {
      "cell_type": "code",
      "source": [
        "update_reporting_line(model_id,{\n",
        "    \"text_model_name\": \"Model 1.10 svm\",\n",
        "    \"text_model_id\": \"1.10 svm\",\n",
        "    \"text_model_path\": \"output/data-modeling-text-1bis/model_10_svm.joblib\",\n",
        "})"
      ],
      "metadata": {
        "id": "wnonIeS_OAtr"
      },
      "execution_count": 52,
      "outputs": []
    },
    {
      "cell_type": "markdown",
      "metadata": {
        "id": "lQ1oE2DNOAtr"
      },
      "source": [
        "## Évaluation du modèle"
      ]
    },
    {
      "cell_type": "markdown",
      "source": [
        "En nous servant des predictions des modèles d'image de de texte calculés dans la section précédente, on peut reclaculer les prédictions d'ensemble en appliquant cette fois les poids determinés dans le préambule de la section"
      ],
      "metadata": {
        "id": "rtSYC44NOAtu"
      }
    },
    {
      "cell_type": "code",
      "source": [
        "img_pred_weight = 0.4\n",
        "text_pred_weight= 0.6\n",
        "test_pred = get_average_pred(test_pred_image,test_pred_text,\n",
        "                             img_pred_weight=img_pred_weight,\n",
        "                             text_pred_weight=text_pred_weight\n",
        ")\n",
        "update_reporting_line(model_id,{\n",
        "    \"fusion_model\": \"VotingClassifier(voting='soft')\",\n",
        "    \"image_model_weight\": img_pred_weight,\n",
        "    \"text_model_weight\": text_pred_weight,\n",
        "})\n"
      ],
      "metadata": {
        "id": "oGKE6QVIOAtu"
      },
      "execution_count": 53,
      "outputs": []
    },
    {
      "cell_type": "markdown",
      "metadata": {
        "id": "jS2JYnO7OAtv"
      },
      "source": [
        "Il ne nous reste plus qu'à convertir les index de classes de **test_pred** en labels en se servant de **classes_ordered**.\n"
      ]
    },
    {
      "cell_type": "code",
      "execution_count": 54,
      "metadata": {
        "id": "ttkMarIQOAtv"
      },
      "outputs": [],
      "source": [
        "test_pred_class = [classes_ordered[c] for c in test_pred]"
      ]
    },
    {
      "cell_type": "markdown",
      "metadata": {
        "id": "bwr0rsSMOAtv"
      },
      "source": [
        "À partir des classes prédites et des observations réelles, on calcule le score F1 ainsi que l'accuracy de notre modèle, toujours sur le jeu de test.\n",
        "\n",
        "On enregistre ces informations dans le rapport.\n"
      ]
    },
    {
      "cell_type": "code",
      "execution_count": 55,
      "metadata": {
        "colab": {
          "base_uri": "https://localhost:8080/"
        },
        "outputId": "c2ce0f64-ac95-4b29-eca8-c69c537f4e91",
        "id": "SFtr6lebOAtv"
      },
      "outputs": [
        {
          "output_type": "stream",
          "name": "stdout",
          "text": [
            "f1_score on test dataset=0.8328\n",
            "accuracy on test dataset=0.8348\n"
          ]
        }
      ],
      "source": [
        "f1_weighted = f1_score(y_test.astype(\"str\"),test_pred_class,average=\"weighted\")\n",
        "accuracy = accuracy_score(y_test.astype(\"str\"),test_pred_class)\n",
        "update_reporting_line(model_id,{\n",
        "    \"test_f1_score\":f1_weighted,\n",
        "    \"test_accuracy\":accuracy\n",
        "})\n",
        "\n",
        "print(\"f1_score on test dataset=%.4f\" % f1_weighted)\n",
        "print(\"accuracy on test dataset=%.4f\" % accuracy)"
      ]
    },
    {
      "cell_type": "markdown",
      "metadata": {
        "id": "S1k-f2MROAtw"
      },
      "source": [
        "todo: comment"
      ]
    },
    {
      "cell_type": "code",
      "execution_count": 56,
      "metadata": {
        "colab": {
          "base_uri": "https://localhost:8080/"
        },
        "outputId": "12288f58-604e-4b94-9f0f-a2ba65d0ab5b",
        "id": "eSUk_2LCOAtw"
      },
      "outputs": [
        {
          "output_type": "stream",
          "name": "stdout",
          "text": [
            "              precision    recall  f1-score   support\n",
            "\n",
            "          10       0.63      0.55      0.59       311\n",
            "        1140       0.80      0.82      0.81       267\n",
            "        1160       0.94      0.98      0.96       396\n",
            "        1180       0.76      0.46      0.57        76\n",
            "        1280       0.70      0.69      0.69       487\n",
            "        1281       0.66      0.62      0.64       207\n",
            "        1300       0.89      0.96      0.92       505\n",
            "        1301       0.99      0.88      0.93        81\n",
            "        1302       0.80      0.79      0.79       249\n",
            "        1320       0.87      0.80      0.83       324\n",
            "        1560       0.79      0.82      0.81       507\n",
            "        1920       0.88      0.94      0.91       431\n",
            "        1940       0.88      0.86      0.87        81\n",
            "        2060       0.78      0.83      0.80       499\n",
            "        2220       0.96      0.67      0.79        82\n",
            "        2280       0.78      0.83      0.81       475\n",
            "        2403       0.81      0.83      0.82       477\n",
            "        2462       0.87      0.84      0.85       142\n",
            "        2522       0.90      0.94      0.92       499\n",
            "        2582       0.75      0.68      0.72       259\n",
            "        2583       0.98      0.98      0.98      1021\n",
            "        2585       0.82      0.81      0.82       250\n",
            "        2705       0.79      0.77      0.78       276\n",
            "        2905       0.88      0.99      0.93        87\n",
            "          40       0.79      0.72      0.75       251\n",
            "          50       0.80      0.83      0.82       168\n",
            "          60       0.88      0.83      0.86        83\n",
            "\n",
            "    accuracy                           0.83      8491\n",
            "   macro avg       0.83      0.80      0.81      8491\n",
            "weighted avg       0.83      0.83      0.83      8491\n",
            "\n"
          ]
        }
      ],
      "source": [
        "print(classification_report(y_test.astype(\"str\"),test_pred_class))\n",
        "\n",
        "pd.DataFrame(\n",
        "    classification_report(y_test.astype(\"str\"),test_pred_class,output_dict=True)\n",
        ").transpose().to_csv(output_dir+(\"/classification-report-%d.csv\" % model_id),index=True  )"
      ]
    },
    {
      "cell_type": "markdown",
      "metadata": {
        "id": "7tSJycwrOAtw"
      },
      "source": [
        "todo: comment"
      ]
    },
    {
      "cell_type": "markdown",
      "metadata": {
        "id": "0NL_FW6rOAtx"
      },
      "source": [
        "Affichons la matrice de confusion sous forme de heatmap pour plus de lisibilité."
      ]
    },
    {
      "cell_type": "code",
      "execution_count": 57,
      "metadata": {
        "colab": {
          "base_uri": "https://localhost:8080/",
          "height": 698
        },
        "outputId": "e1189e5d-cd0e-4fd4-c544-5ac55bcc6d0d",
        "id": "y_NFs1u6OAtx"
      },
      "outputs": [
        {
          "output_type": "display_data",
          "data": {
            "text/plain": [
              "<Figure size 1500x800 with 2 Axes>"
            ],
            "image/png": "[encoded data removed]"
          },
          "metadata": {}
        }
      ],
      "source": [
        "cm = pd.crosstab(y_test.astype(\"str\"),test_pred_class,rownames=[\"réel\"],colnames=[\"prédit\"])\n",
        "plot_confusion_matrix(np.array(cm))"
      ]
    },
    {
      "cell_type": "markdown",
      "metadata": {
        "id": "QeNNOQooOAtx"
      },
      "source": [
        "todo: comment"
      ]
    },
    {
      "cell_type": "markdown",
      "metadata": {
        "id": "PWqZhC4cOAtx"
      },
      "source": [
        "## Résumé"
      ]
    },
    {
      "cell_type": "markdown",
      "metadata": {
        "id": "EY92hQSgOAty"
      },
      "source": [
        "Nous avons atteint la fin de l'évaluation de cette modélisation. Affichons le rapport du modèle."
      ]
    },
    {
      "cell_type": "code",
      "execution_count": 58,
      "metadata": {
        "colab": {
          "base_uri": "https://localhost:8080/"
        },
        "outputId": "c3a1085b-f96f-4b01-964b-a4d68a9e26b4",
        "id": "TFHuRxwtOAty"
      },
      "outputs": [
        {
          "output_type": "execute_result",
          "data": {
            "text/plain": [
              "model_name                                                   Modèle 4.1.2\n",
              "dataset_source          output/data-preprocessing-text-stopWord-stemin...\n",
              "dataset_resampled                                                    True\n",
              "image_dataset_source      output/data-preprocessing-images/images_pre.zip\n",
              "image_dataset_zoomed                                                 True\n",
              "test_size                                                          8491.0\n",
              "image_model_name                                              Model 3.3.1\n",
              "image_model_id                                                        331\n",
              "image_model_path            output/data-modeling-images-3/model-331.keras\n",
              "text_model_name                                            Model 1.10 svm\n",
              "text_model_id                                                    1.10 svm\n",
              "text_model_path         output/data-modeling-text-1bis/model_10_svm.jo...\n",
              "fusion_model                              VotingClassifier(voting='soft')\n",
              "image_model_weight                                                    0.4\n",
              "text_model_weight                                                     0.6\n",
              "test_f1_score                                                    0.832794\n",
              "test_accuracy                                                    0.834766\n",
              "remarks                                                               NaN\n",
              "Name: 412, dtype: object"
            ]
          },
          "metadata": {},
          "execution_count": 58
        }
      ],
      "source": [
        "reporting_df.loc[model_id].T"
      ]
    },
    {
      "cell_type": "markdown",
      "source": [
        "# Comparaison de tous les modèles de fusion"
      ],
      "metadata": {
        "id": "whKSndSHUDyP"
      }
    },
    {
      "cell_type": "markdown",
      "source": [
        "Comparons maintenant tous les modèles du notebooks."
      ],
      "metadata": {
        "id": "Z5TwaF3eUuwQ"
      }
    },
    {
      "cell_type": "code",
      "source": [
        "model_comparison_cols = [\"model_name\",\"fusion_model\",\"image_model_weight\",\"text_model_weight\",\n",
        "                         \"image_model_id\",\"text_model_id\",\n",
        "                         \"dataset_resampled\",\"image_dataset_zoomed\",\n",
        "                      \"test_size\",\n",
        "                      \"test_f1_score\",\"test_accuracy\"]\n",
        "display(reporting_df.loc[[411,412],model_comparison_cols].T)"
      ],
      "metadata": {
        "colab": {
          "base_uri": "https://localhost:8080/",
          "height": 394
        },
        "id": "loCScBdDUzL_",
        "outputId": "d0e9d8ec-9917-44c1-a35c-675242f58869"
      },
      "execution_count": 59,
      "outputs": [
        {
          "output_type": "display_data",
          "data": {
            "text/plain": [
              "model_id                                          411  \\\n",
              "model_name                               Modèle 4.1.1   \n",
              "fusion_model          VotingClassifier(voting='soft')   \n",
              "image_model_weight                                0.5   \n",
              "text_model_weight                                 0.5   \n",
              "image_model_id                                  331.0   \n",
              "text_model_id                                1.10 svm   \n",
              "dataset_resampled                                True   \n",
              "image_dataset_zoomed                             True   \n",
              "test_size                                      8491.0   \n",
              "test_f1_score                                0.825214   \n",
              "test_accuracy                                0.827229   \n",
              "\n",
              "model_id                                          412  \n",
              "model_name                               Modèle 4.1.2  \n",
              "fusion_model          VotingClassifier(voting='soft')  \n",
              "image_model_weight                                0.4  \n",
              "text_model_weight                                 0.6  \n",
              "image_model_id                                    331  \n",
              "text_model_id                                1.10 svm  \n",
              "dataset_resampled                                True  \n",
              "image_dataset_zoomed                             True  \n",
              "test_size                                      8491.0  \n",
              "test_f1_score                                0.832794  \n",
              "test_accuracy                                0.834766  "
            ],
            "text/html": [
              "\n",
              "  <div id=\"df-ee349a36-37b0-4b9d-b1e8-9ddb278c8cdb\" class=\"colab-df-container\">\n",
              "    <div>\n",
              "<style scoped>\n",
              "    .dataframe tbody tr th:only-of-type {\n",
              "        vertical-align: middle;\n",
              "    }\n",
              "\n",
              "    .dataframe tbody tr th {\n",
              "        vertical-align: top;\n",
              "    }\n",
              "\n",
              "    .dataframe thead th {\n",
              "        text-align: right;\n",
              "    }\n",
              "</style>\n",
              "<table border=\"1\" class=\"dataframe\">\n",
              "  <thead>\n",
              "    <tr style=\"text-align: right;\">\n",
              "      <th>model_id</th>\n",
              "      <th>411</th>\n",
              "      <th>412</th>\n",
              "    </tr>\n",
              "  </thead>\n",
              "  <tbody>\n",
              "    <tr>\n",
              "      <th>model_name</th>\n",
              "      <td>Modèle 4.1.1</td>\n",
              "      <td>Modèle 4.1.2</td>\n",
              "    </tr>\n",
              "    <tr>\n",
              "      <th>fusion_model</th>\n",
              "      <td>VotingClassifier(voting='soft')</td>\n",
              "      <td>VotingClassifier(voting='soft')</td>\n",
              "    </tr>\n",
              "    <tr>\n",
              "      <th>image_model_weight</th>\n",
              "      <td>0.5</td>\n",
              "      <td>0.4</td>\n",
              "    </tr>\n",
              "    <tr>\n",
              "      <th>text_model_weight</th>\n",
              "      <td>0.5</td>\n",
              "      <td>0.6</td>\n",
              "    </tr>\n",
              "    <tr>\n",
              "      <th>image_model_id</th>\n",
              "      <td>331.0</td>\n",
              "      <td>331</td>\n",
              "    </tr>\n",
              "    <tr>\n",
              "      <th>text_model_id</th>\n",
              "      <td>1.10 svm</td>\n",
              "      <td>1.10 svm</td>\n",
              "    </tr>\n",
              "    <tr>\n",
              "      <th>dataset_resampled</th>\n",
              "      <td>True</td>\n",
              "      <td>True</td>\n",
              "    </tr>\n",
              "    <tr>\n",
              "      <th>image_dataset_zoomed</th>\n",
              "      <td>True</td>\n",
              "      <td>True</td>\n",
              "    </tr>\n",
              "    <tr>\n",
              "      <th>test_size</th>\n",
              "      <td>8491.0</td>\n",
              "      <td>8491.0</td>\n",
              "    </tr>\n",
              "    <tr>\n",
              "      <th>test_f1_score</th>\n",
              "      <td>0.825214</td>\n",
              "      <td>0.832794</td>\n",
              "    </tr>\n",
              "    <tr>\n",
              "      <th>test_accuracy</th>\n",
              "      <td>0.827229</td>\n",
              "      <td>0.834766</td>\n",
              "    </tr>\n",
              "  </tbody>\n",
              "</table>\n",
              "</div>\n",
              "    <div class=\"colab-df-buttons\">\n",
              "\n",
              "  <div class=\"colab-df-container\">\n",
              "    <button class=\"colab-df-convert\" onclick=\"convertToInteractive('df-ee349a36-37b0-4b9d-b1e8-9ddb278c8cdb')\"\n",
              "            title=\"Convert this dataframe to an interactive table.\"\n",
              "            style=\"display:none;\">\n",
              "\n",
              "  <svg xmlns=\"http://www.w3.org/2000/svg\" height=\"24px\" viewBox=\"0 -960 960 960\">\n",
              "    <path d=\"M120-120v-720h720v720H120Zm60-500h600v-160H180v160Zm220 220h160v-160H400v160Zm0 220h160v-160H400v160ZM180-400h160v-160H180v160Zm440 0h160v-160H620v160ZM180-180h160v-160H180v160Zm440 0h160v-160H620v160Z\"/>\n",
              "  </svg>\n",
              "    </button>\n",
              "\n",
              "  <style>\n",
              "    .colab-df-container {\n",
              "      display:flex;\n",
              "      gap: 12px;\n",
              "    }\n",
              "\n",
              "    .colab-df-convert {\n",
              "      background-color: #E8F0FE;\n",
              "      border: none;\n",
              "      border-radius: 50%;\n",
              "      cursor: pointer;\n",
              "      display: none;\n",
              "      fill: #1967D2;\n",
              "      height: 32px;\n",
              "      padding: 0 0 0 0;\n",
              "      width: 32px;\n",
              "    }\n",
              "\n",
              "    .colab-df-convert:hover {\n",
              "      background-color: #E2EBFA;\n",
              "      box-shadow: 0px 1px 2px rgba(60, 64, 67, 0.3), 0px 1px 3px 1px rgba(60, 64, 67, 0.15);\n",
              "      fill: #174EA6;\n",
              "    }\n",
              "\n",
              "    .colab-df-buttons div {\n",
              "      margin-bottom: 4px;\n",
              "    }\n",
              "\n",
              "    [theme=dark] .colab-df-convert {\n",
              "      background-color: #3B4455;\n",
              "      fill: #D2E3FC;\n",
              "    }\n",
              "\n",
              "    [theme=dark] .colab-df-convert:hover {\n",
              "      background-color: #434B5C;\n",
              "      box-shadow: 0px 1px 3px 1px rgba(0, 0, 0, 0.15);\n",
              "      filter: drop-shadow(0px 1px 2px rgba(0, 0, 0, 0.3));\n",
              "      fill: #FFFFFF;\n",
              "    }\n",
              "  </style>\n",
              "\n",
              "    <script>\n",
              "      const buttonEl =\n",
              "        document.querySelector('#df-ee349a36-37b0-4b9d-b1e8-9ddb278c8cdb button.colab-df-convert');\n",
              "      buttonEl.style.display =\n",
              "        google.colab.kernel.accessAllowed ? 'block' : 'none';\n",
              "\n",
              "      async function convertToInteractive(key) {\n",
              "        const element = document.querySelector('#df-ee349a36-37b0-4b9d-b1e8-9ddb278c8cdb');\n",
              "        const dataTable =\n",
              "          await google.colab.kernel.invokeFunction('convertToInteractive',\n",
              "                                                    [key], {});\n",
              "        if (!dataTable) return;\n",
              "\n",
              "        const docLinkHtml = 'Like what you see? Visit the ' +\n",
              "          '<a target=\"_blank\" href=https://colab.research.google.com/notebooks/data_table.ipynb>data table notebook</a>'\n",
              "          + ' to learn more about interactive tables.';\n",
              "        element.innerHTML = '';\n",
              "        dataTable['output_type'] = 'display_data';\n",
              "        await google.colab.output.renderOutput(dataTable, element);\n",
              "        const docLink = document.createElement('div');\n",
              "        docLink.innerHTML = docLinkHtml;\n",
              "        element.appendChild(docLink);\n",
              "      }\n",
              "    </script>\n",
              "  </div>\n",
              "\n",
              "\n",
              "<div id=\"df-969bd1aa-8834-49d1-a853-00299e429c9e\">\n",
              "  <button class=\"colab-df-quickchart\" onclick=\"quickchart('df-969bd1aa-8834-49d1-a853-00299e429c9e')\"\n",
              "            title=\"Suggest charts\"\n",
              "            style=\"display:none;\">\n",
              "\n",
              "<svg xmlns=\"http://www.w3.org/2000/svg\" height=\"24px\"viewBox=\"0 0 24 24\"\n",
              "     width=\"24px\">\n",
              "    <g>\n",
              "        <path d=\"M19 3H5c-1.1 0-2 .9-2 2v14c0 1.1.9 2 2 2h14c1.1 0 2-.9 2-2V5c0-1.1-.9-2-2-2zM9 17H7v-7h2v7zm4 0h-2V7h2v10zm4 0h-2v-4h2v4z\"/>\n",
              "    </g>\n",
              "</svg>\n",
              "  </button>\n",
              "\n",
              "<style>\n",
              "  .colab-df-quickchart {\n",
              "      --bg-color: #E8F0FE;\n",
              "      --fill-color: #1967D2;\n",
              "      --hover-bg-color: #E2EBFA;\n",
              "      --hover-fill-color: #174EA6;\n",
              "      --disabled-fill-color: #AAA;\n",
              "      --disabled-bg-color: #DDD;\n",
              "  }\n",
              "\n",
              "  [theme=dark] .colab-df-quickchart {\n",
              "      --bg-color: #3B4455;\n",
              "      --fill-color: #D2E3FC;\n",
              "      --hover-bg-color: #434B5C;\n",
              "      --hover-fill-color: #FFFFFF;\n",
              "      --disabled-bg-color: #3B4455;\n",
              "      --disabled-fill-color: #666;\n",
              "  }\n",
              "\n",
              "  .colab-df-quickchart {\n",
              "    background-color: var(--bg-color);\n",
              "    border: none;\n",
              "    border-radius: 50%;\n",
              "    cursor: pointer;\n",
              "    display: none;\n",
              "    fill: var(--fill-color);\n",
              "    height: 32px;\n",
              "    padding: 0;\n",
              "    width: 32px;\n",
              "  }\n",
              "\n",
              "  .colab-df-quickchart:hover {\n",
              "    background-color: var(--hover-bg-color);\n",
              "    box-shadow: 0 1px 2px rgba(60, 64, 67, 0.3), 0 1px 3px 1px rgba(60, 64, 67, 0.15);\n",
              "    fill: var(--button-hover-fill-color);\n",
              "  }\n",
              "\n",
              "  .colab-df-quickchart-complete:disabled,\n",
              "  .colab-df-quickchart-complete:disabled:hover {\n",
              "    background-color: var(--disabled-bg-color);\n",
              "    fill: var(--disabled-fill-color);\n",
              "    box-shadow: none;\n",
              "  }\n",
              "\n",
              "  .colab-df-spinner {\n",
              "    border: 2px solid var(--fill-color);\n",
              "    border-color: transparent;\n",
              "    border-bottom-color: var(--fill-color);\n",
              "    animation:\n",
              "      spin 1s steps(1) infinite;\n",
              "  }\n",
              "\n",
              "  @keyframes spin {\n",
              "    0% {\n",
              "      border-color: transparent;\n",
              "      border-bottom-color: var(--fill-color);\n",
              "      border-left-color: var(--fill-color);\n",
              "    }\n",
              "    20% {\n",
              "      border-color: transparent;\n",
              "      border-left-color: var(--fill-color);\n",
              "      border-top-color: var(--fill-color);\n",
              "    }\n",
              "    30% {\n",
              "      border-color: transparent;\n",
              "      border-left-color: var(--fill-color);\n",
              "      border-top-color: var(--fill-color);\n",
              "      border-right-color: var(--fill-color);\n",
              "    }\n",
              "    40% {\n",
              "      border-color: transparent;\n",
              "      border-right-color: var(--fill-color);\n",
              "      border-top-color: var(--fill-color);\n",
              "    }\n",
              "    60% {\n",
              "      border-color: transparent;\n",
              "      border-right-color: var(--fill-color);\n",
              "    }\n",
              "    80% {\n",
              "      border-color: transparent;\n",
              "      border-right-color: var(--fill-color);\n",
              "      border-bottom-color: var(--fill-color);\n",
              "    }\n",
              "    90% {\n",
              "      border-color: transparent;\n",
              "      border-bottom-color: var(--fill-color);\n",
              "    }\n",
              "  }\n",
              "</style>\n",
              "\n",
              "  <script>\n",
              "    async function quickchart(key) {\n",
              "      const quickchartButtonEl =\n",
              "        document.querySelector('#' + key + ' button');\n",
              "      quickchartButtonEl.disabled = true;  // To prevent multiple clicks.\n",
              "      quickchartButtonEl.classList.add('colab-df-spinner');\n",
              "      try {\n",
              "        const charts = await google.colab.kernel.invokeFunction(\n",
              "            'suggestCharts', [key], {});\n",
              "      } catch (error) {\n",
              "        console.error('Error during call to suggestCharts:', error);\n",
              "      }\n",
              "      quickchartButtonEl.classList.remove('colab-df-spinner');\n",
              "      quickchartButtonEl.classList.add('colab-df-quickchart-complete');\n",
              "    }\n",
              "    (() => {\n",
              "      let quickchartButtonEl =\n",
              "        document.querySelector('#df-969bd1aa-8834-49d1-a853-00299e429c9e button');\n",
              "      quickchartButtonEl.style.display =\n",
              "        google.colab.kernel.accessAllowed ? 'block' : 'none';\n",
              "    })();\n",
              "  </script>\n",
              "</div>\n",
              "    </div>\n",
              "  </div>\n"
            ]
          },
          "metadata": {}
        }
      ]
    },
    {
      "cell_type": "markdown",
      "source": [
        "# Conclusion"
      ],
      "metadata": {
        "id": "mDDwFuYnQSYI"
      }
    },
    {
      "cell_type": "markdown",
      "source": [
        "todo: comment"
      ],
      "metadata": {
        "id": "_8MYpuFFQVoO"
      }
    }
  ]
}