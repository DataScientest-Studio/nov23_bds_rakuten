{
  "cells": [
    {
      "cell_type": "markdown",
      "source": [
        "# Introduction"
      ],
      "metadata": {
        "id": "12RQGpRvrVZ3"
      }
    },
    {
      "cell_type": "markdown",
      "source": [
        "L'objectif du notebook est de concevoir un premier modèle de classification d'images. On va utliser une architecture lenet pour commencer. C'est CNN simple qui va nous permettre de nous faire une première idée de la contribution des différents facteurs (data, hyper-paramètres) à la performance de notre modèle.\n",
        "\n",
        "On va adopter la stratégie suivante:\n",
        "\n",
        "1. Tenter d'abord de mesurer l'impact des différentes étapes de pre-processing sur nos modèles. Toutes choses égales par ailleurs, on va tester le même modèle avec dans l'ordre:\n",
        "  1. Le dataset sans ré-équilibrage de classes et avec les images non zoomées\n",
        "  2. Le dataset sans ré-équilibrage de classes et avec les images zoomées\n",
        "  3. Le dataset avec ré-équilibrage de classes et avec les images zoomées\n",
        "2. Enfin, après avoir trouvé le dataset le plus approprié, on va tester l'impact de différents hyper-paramètres sur la performance\n",
        "\n",
        "Nos ressources de calul (et de temps) étant limitées, on va mener ces tests sur un sous-ensemble des données et sur un nombre d'époques limitées."
      ],
      "metadata": {
        "id": "xxhU-ngztuo3"
      }
    },
    {
      "cell_type": "markdown",
      "source": [
        "# Initialisation"
      ],
      "metadata": {
        "id": "318fdJ5JrZ9f"
      }
    },
    {
      "cell_type": "code",
      "execution_count": 121,
      "metadata": {
        "colab": {
          "base_uri": "https://localhost:8080/"
        },
        "id": "MF7wftWCvz-4",
        "outputId": "8ce16a7c-dce2-42d6-a42c-0899e35a691e"
      },
      "outputs": [
        {
          "output_type": "stream",
          "name": "stdout",
          "text": [
            "[Errno 2] No such file or directory: 'drive/MyDrive/nov23_bds_rakuten'\n",
            "/content/drive/.shortcut-targets-by-id/1_2JJeYhhAHn4xWGD5kC2VtjM-_SxznEm/nov23_bds_rakuten\n"
          ]
        }
      ],
      "source": [
        "import sys\n",
        "import os\n",
        "\n",
        "if 'google.colab' in sys.modules:\n",
        "    from google.colab import drive\n",
        "    if not os.path.exists('/content/drive'):\n",
        "      drive.mount('/content/drive/')\n",
        "    %cd drive/MyDrive/nov23_bds_rakuten\n",
        "else:\n",
        "    root_files = os.listdir()\n",
        "    if not \"requirements.txt\" in root_files:\n",
        "        print(\"The jupyter server root should be set to root of git project\")\n",
        "        print(\"If you're on vscode add the following to your settings.json file\")\n",
        "        print('\"jupyter.notebookFileRoot\": \"${workspaceFolder}\"')"
      ]
    },
    {
      "cell_type": "code",
      "source": [
        "random_state = 42\n",
        "output_dir = \"output/data-modeling-images-1\""
      ],
      "metadata": {
        "id": "kZvAAQgT2XPB"
      },
      "execution_count": 122,
      "outputs": []
    },
    {
      "cell_type": "code",
      "execution_count": 123,
      "metadata": {
        "id": "YvgXnZgfvz-8"
      },
      "outputs": [],
      "source": [
        "import numpy as np\n",
        "import pandas as pd\n",
        "import matplotlib.pyplot as plt\n",
        "%matplotlib inline\n",
        "import seaborn as sns\n",
        "\n",
        "from pathlib import Path\n",
        "import re\n",
        "from tqdm import tqdm\n",
        "import pickle as pickle\n",
        "\n",
        "import zipfile\n",
        "\n",
        "from sklearn.model_selection import train_test_split\n",
        "from sklearn.metrics import f1_score,accuracy_score,classification_report\n",
        "\n",
        "import tensorflow as tf\n",
        "from tensorflow.keras.models import Model\n",
        "from tensorflow.keras.layers import Input, Dense, Dropout, Flatten, Conv2D, MaxPooling2D, AveragePooling2D\n",
        "from tensorflow.keras.preprocessing.image import ImageDataGenerator\n",
        "from tensorflow.keras import Sequential\n",
        "from tensorflow.keras.optimizers import Adam\n",
        "from tensorflow.keras.callbacks import Callback,EarlyStopping\n",
        "from tensorflow.keras import backend as K\n",
        "import keras.saving\n",
        "\n",
        "from keras.utils import to_categorical\n",
        "from keras.models import load_model\n",
        "\n",
        "random_state = 42\n",
        "output_dir = \"output/data-modeling-images-1\""
      ]
    },
    {
      "cell_type": "markdown",
      "source": [
        "# Librarie de fonctions"
      ],
      "metadata": {
        "id": "R-RN7e6HDzhe"
      }
    },
    {
      "cell_type": "markdown",
      "source": [
        "Bien que je préfère en général définir les fonctions au fur et à mesure de leur utilisation, la multiplication des stratégies que nous allons tester rend plus simple de les rassembler dans cette sections. En les extrayant du déroulement de chaque stratégie, nous pourrons plus efficacement dpuliquer et identifier leur trame commune."
      ],
      "metadata": {
        "id": "bst58V8xD9Th"
      }
    },
    {
      "cell_type": "markdown",
      "source": [
        "## Import des données"
      ],
      "metadata": {
        "id": "NVPLLv1FE6C_"
      }
    },
    {
      "cell_type": "markdown",
      "source": [
        "Commençons par définir une fonction **import_images** qui permet d'importer le set d'images qu'on souhaite utiliser"
      ],
      "metadata": {
        "id": "7VLTywQVxDZh"
      }
    },
    {
      "cell_type": "code",
      "source": [
        "def import_images(zip_path,dest_dir):\n",
        "    image_path = dest_dir\n",
        "    image_dir = Path(image_path)\n",
        "    if image_dir.exists():\n",
        "        print(\"images already imported from drive\")\n",
        "    else:\n",
        "        print(\"extracting images from drive into colab's session storage... (about 1 min)\")\n",
        "        with zipfile.ZipFile(zip_path,\"r\") as images_zip:\n",
        "            images_zip.extractall(image_path)\n",
        "    image_path = image_path + \"/images\"\n",
        "    return image_path"
      ],
      "metadata": {
        "id": "exmFIjCGr-5V"
      },
      "execution_count": 124,
      "outputs": []
    },
    {
      "cell_type": "markdown",
      "source": [
        "## Rapport des modéles"
      ],
      "metadata": {
        "id": "rPXQMK76FLpk"
      }
    },
    {
      "cell_type": "markdown",
      "source": [
        "Avant de commencer à créer notre modèle, nous allons nous occuper de comment on pourra comparer les différentes statégies que nous allons tester.\n",
        "\n",
        "Nous allons créer un dataframe **df_reporting** qui contiendra les informations pertinentes sur notre stratégie de modélisation ainsi que ses resultats:\n",
        "* Un nom et un id de modèle\n",
        "* les sources de données utlisées ainsi que la taille du subset de données.\n",
        "* Les hyper-paramètres du modèle\n",
        "* L'état en cours de l'entrainement ainsi que nombre d'éqoques à atteindre\n",
        "* Les métriques de performance de l'entrainement, la validation et des tests.\n",
        "\n",
        "Au fur et à mesure de nos tests, on veillera à sauvegarder ce dataframe dans un fichier **model_reporting.csv**. Ce fichier nous assurera qu'on puisse reprendre nos tests là où ils se sont arretés en cas d'interruption. Dans ce cas, on veillera également à sauvegarder l'état des modèles ayant la meilleurs performance, afin de compléter l'entrainement sur les époques manquantes.\n",
        "\n",
        "Plus tard, le fichier **model_reporting.csv** nous servira aussi à comparer les modéles de chaque notebook de modélisation. Pour cette raison, on va tenter d'être le plus complet possible dans les informations qu'on y met."
      ],
      "metadata": {
        "id": "onGqFb04_wMH"
      }
    },
    {
      "cell_type": "markdown",
      "source": [
        "Ajoutons une fonction qui va créer le dataframe **df_reporting** en y ajoutant un modèles d'exemple"
      ],
      "metadata": {
        "id": "XPJgug0sCQkl"
      }
    },
    {
      "cell_type": "code",
      "source": [
        "def create_reporting_df(save=True):\n",
        "  reporting_df = pd.DataFrame([{\n",
        "      #model infos\n",
        "      \"model_id\":int(0),\n",
        "      \"model_name\":\"Example model\",\n",
        "\n",
        "      #data sources\n",
        "      \"dataset_source\": \"output/data-exploration/X_train_pre.csv\",\n",
        "      \"dataset_resampled\": False,\n",
        "      \"image_dataset_source\" : \"data/images.zip\",\n",
        "      \"image_dataset_zoomed\" : False,\n",
        "      \"train_size\": int(42458),\n",
        "\n",
        "      #hyper parameters\n",
        "      \"image_size\": int(300),\n",
        "      \"image_color_rgb\": True,\n",
        "      \"batch_size\":int(32),\n",
        "      \"image_data_generator_params\": {\"rescale\":1./255,\"shear_range\":0.2,\"zoom_range\":0.2,\"horizontal_flip\":True},\n",
        "      \"start_lr\": 0.001,\n",
        "      \"last_lr\": 0.0001,\n",
        "      \"optimizer\": \"adam\",\n",
        "\n",
        "      #fit info\n",
        "      \"target_epochs\": int(10),\n",
        "      \"last_epoch\": int(6),\n",
        "      \"fit_complete\": True,\n",
        "\n",
        "      #metrics\n",
        "      \"f1_score\": 0.42,\n",
        "      \"val_f1_score\": 0.37,\n",
        "      \"test_f1_score\": 0.35,\n",
        "      \"accuracy\": 0.57,\n",
        "      \"val_accuracy\": 0.39,\n",
        "      \"test_accuracy\": 0.41,\n",
        "      \"loss\": 1.567,\n",
        "      \"val_loss\": 2.657,\n",
        "\n",
        "      #other\n",
        "      \"remarks\": \"Ceci n'est pas un vrai modèle. C'est juste un exemple\",\n",
        "  }])\n",
        "\n",
        "  reporting_df.set_index(\"model_id\",inplace=True)\n",
        "  if save:\n",
        "    reporting_df.to_csv(output_dir+\"/model_reporting.csv\")\n",
        "  return reporting_df\n",
        "\n",
        "\n"
      ],
      "metadata": {
        "id": "F30Do8OFCbfM"
      },
      "execution_count": 125,
      "outputs": []
    },
    {
      "cell_type": "markdown",
      "source": [
        "Ajoutons également une fonction qui va nous permettre de charger un **model_reporting_df** s'il existe"
      ],
      "metadata": {
        "id": "3WHItTxrlNE-"
      }
    },
    {
      "cell_type": "code",
      "source": [
        "def load_reporting_df():\n",
        "  return pd.read_csv(output_dir+\"/model_reporting.csv\",index_col=\"model_id\")"
      ],
      "metadata": {
        "id": "pgimJraalYoT"
      },
      "execution_count": 126,
      "outputs": []
    },
    {
      "cell_type": "markdown",
      "source": [
        "On a besoin d'une fonction pour ajouter une nouvelle ligne dans **reporting_df**"
      ],
      "metadata": {
        "id": "gTyej2kHFF1Q"
      }
    },
    {
      "cell_type": "code",
      "source": [
        "def add_reporting_line(model_id:int,model_name:str,save:bool=True):\n",
        "  reporting_df.loc[int(model_id),\"model_name\"] = str(model_name)\n",
        "  if save:\n",
        "    reporting_df.to_csv(output_dir+\"/model_reporting.csv\")"
      ],
      "metadata": {
        "id": "mrh3JwHJFOKr"
      },
      "execution_count": 127,
      "outputs": []
    },
    {
      "cell_type": "markdown",
      "source": [
        "Ajoutons une fonction pour ajouter ou modifier des informations dans notre modèle. On veillera à ce que cette fonction sauvegarde automatiquement le dataframe dans **model_reporting.csv**. On a besoin de garder le maximum d'informations en cas d'interruption"
      ],
      "metadata": {
        "id": "0wp2L4X1DYqm"
      }
    },
    {
      "cell_type": "code",
      "source": [
        "def update_reporting_line(model_id: int,d:dict={},save:bool=True):\n",
        "  for key in d.keys():\n",
        "        reporting_df.at[int(model_id), str(key)] = d.get(key)\n",
        "  if save:\n",
        "    reporting_df.to_csv(output_dir+\"/model_reporting.csv\")"
      ],
      "metadata": {
        "id": "l_3maUh_EbEp"
      },
      "execution_count": 128,
      "outputs": []
    },
    {
      "cell_type": "markdown",
      "source": [
        "Ajoutons une fonction **get_reporting_value** qui permette de récupérer une information stockée pour un modèle"
      ],
      "metadata": {
        "id": "9Xrorou27Khy"
      }
    },
    {
      "cell_type": "code",
      "source": [
        "def get_reporting_value(model_id,key,default=None):\n",
        "  try:\n",
        "    value = reporting_df.at[model_id,key]\n",
        "    if np.isnan(value):\n",
        "      value=None\n",
        "  except KeyError:\n",
        "    value=None\n",
        "\n",
        "  if value == None and default != None:\n",
        "      value=default\n",
        "  return value"
      ],
      "metadata": {
        "id": "JC3OwMCprazp"
      },
      "execution_count": 129,
      "outputs": []
    },
    {
      "cell_type": "markdown",
      "source": [
        "## Création du modèle"
      ],
      "metadata": {
        "id": "QJ-hF0QOGw2m"
      }
    },
    {
      "cell_type": "markdown",
      "source": [
        "Ajoutons une fonction **build_model** qui va nous permettre de créer les différentes couches de notre architecture lenet."
      ],
      "metadata": {
        "id": "FaAQeqFfIFmi"
      }
    },
    {
      "cell_type": "code",
      "source": [
        "def build_model(input_shape):\n",
        "    model = Sequential()\n",
        "\n",
        "    model.add(Conv2D(6, (5, 5), activation='relu', input_shape=input_shape))\n",
        "    model.add(AveragePooling2D(pool_size=(2, 2)))\n",
        "    model.add(Conv2D(16, (5, 5), activation='relu'))\n",
        "    model.add(AveragePooling2D(pool_size=(2, 2)))\n",
        "\n",
        "    model.add(Flatten())\n",
        "    model.add(Dense(120, activation='relu'))\n",
        "    model.add(Dense(84, activation='relu'))\n",
        "\n",
        "    model.add(Dense(27, activation='softmax'))\n",
        "\n",
        "    return model"
      ],
      "metadata": {
        "id": "s_-M2qgDDNDB"
      },
      "execution_count": 130,
      "outputs": []
    },
    {
      "cell_type": "markdown",
      "source": [
        "Nous allons également avoir besoin d'un metric personnalisé **w_f1_score** qui permette de calculer le f1_score weighted.\n",
        "On veille à ajouter l'annotation **@keras.saving.register_keras_serializable** pour que keras ne pose pas de problème lors du chargement du modèle"
      ],
      "metadata": {
        "id": "bOju9nxRIWXW"
      }
    },
    {
      "cell_type": "code",
      "source": [
        "def f1_score_sklearn(y_true, y_pred):\n",
        "    y_true_classes = np.argmax(y_true, axis=1)\n",
        "    y_pred_classes = np.argmax(y_pred, axis=1)\n",
        "    return f1_score(y_true_classes, y_pred_classes, average='weighted')\n",
        "\n",
        "@keras.saving.register_keras_serializable(name='w_f1_score')\n",
        "def w_f1_score(y_true, y_pred):\n",
        "    f1 = tf.py_function(f1_score_sklearn, (y_true, y_pred), tf.float64)\n",
        "    return f1"
      ],
      "metadata": {
        "id": "AkinTDROGKJC"
      },
      "execution_count": 131,
      "outputs": []
    },
    {
      "cell_type": "markdown",
      "source": [
        "## Sauvegarde du modèle"
      ],
      "metadata": {
        "id": "EIdqXhvyG2Dh"
      }
    },
    {
      "cell_type": "markdown",
      "source": [
        "Toujours en vue d'être résilient par rapport aux interruptions qui ont lieu régulierement lors de la phase d'entrainement du modèle, créons des fonctions qui vont nous permettre de sauvgarder et restaurer un modèle keras, afin de pouvoir reprendre l'entrainement s'il a été stoppé, ou même d'afficher les metrics d'un modèle dont l'entrainement est complet."
      ],
      "metadata": {
        "id": "4OaIabBWn6rz"
      }
    },
    {
      "cell_type": "code",
      "source": [
        "def load_saved_model(model_id):\n",
        "  model_path = output_dir+(\"/model-%d.keras\" % model_id)\n",
        "  model_path_obj = Path(model_path)\n",
        "  if model_path_obj.exists():\n",
        "    print(\"Load previous model from\",model_path)\n",
        "    return load_model(model_path)\n",
        "  else:\n",
        "    print(\"No previous model found at\",model_path)\n",
        "    return None"
      ],
      "metadata": {
        "id": "8C_aBhf_ALJq"
      },
      "execution_count": 132,
      "outputs": []
    },
    {
      "cell_type": "code",
      "source": [
        "def save_model(model_id,model):\n",
        "  path = output_dir+(\"/model-%d.keras\" % model_id)\n",
        "  print(\"save model \",model_id,\"to \",path)\n",
        "  model.save(path)"
      ],
      "metadata": {
        "id": "J3wWACEpn7zw"
      },
      "execution_count": 133,
      "outputs": []
    },
    {
      "cell_type": "markdown",
      "source": [
        "Comme nous allons afficher des graphiques sur l'évolution des métriques pendant l'entrainement, il nous faut également des fonctions qui nous permettent de sauver, charger un historique"
      ],
      "metadata": {
        "id": "uDuh5wR5LMok"
      }
    },
    {
      "cell_type": "code",
      "source": [
        "def load_training_history(model_id):\n",
        "  path = output_dir+(\"/training_history_%d.pkl\" % model_id)\n",
        "  history = None\n",
        "  if Path(path).exists():\n",
        "    with open(path, \"rb\") as file:\n",
        "      history = pickle.load(file)\n",
        "  return history"
      ],
      "metadata": {
        "id": "M4cduBiAte32"
      },
      "execution_count": 134,
      "outputs": []
    },
    {
      "cell_type": "code",
      "source": [
        "def save_training_history(model_id,history):\n",
        "  path = output_dir+(\"/training_history_%d.pkl\" % model_id)\n",
        "  with open(path, \"wb\") as file:\n",
        "    pickle.dump(history,file)"
      ],
      "metadata": {
        "id": "gmDm5jPWwHK2"
      },
      "execution_count": 135,
      "outputs": []
    },
    {
      "cell_type": "markdown",
      "source": [
        "Parcequ'un entrainemnt peut être fait en plusieurs fois, nous devons pouvoir concaténer un historique d'entrainement actuel avec le précédent sauvegardé."
      ],
      "metadata": {
        "id": "zr06rM8vLhGF"
      }
    },
    {
      "cell_type": "code",
      "source": [
        "def concat_training_histories(prev_history,actual_history):\n",
        "  full_history = {}\n",
        "  for key in actual_history:\n",
        "    full_history[key]=np.concatenate((prev_history[key],actual_history[key]),axis=0)\n",
        "  return full_history"
      ],
      "metadata": {
        "id": "An8muuYvuNc9"
      },
      "execution_count": 136,
      "outputs": []
    },
    {
      "cell_type": "code",
      "source": [
        "def get_full_training_history(model_id,training_history):\n",
        "  if training_history == None:\n",
        "    history = load_training_history(model_id)\n",
        "  else:\n",
        "    prev_history = load_training_history(model_id)\n",
        "    if prev_history != None:\n",
        "      history = concat_training_histories(prev_history,training_history.history)\n",
        "    else:\n",
        "      history = training_history.history\n",
        "  return history"
      ],
      "metadata": {
        "id": "Q6foHnVgsZq0"
      },
      "execution_count": 137,
      "outputs": []
    },
    {
      "cell_type": "markdown",
      "source": [
        "## Callbacks pour l'entrainement du modèles"
      ],
      "metadata": {
        "id": "1G202Hr0JECq"
      }
    },
    {
      "cell_type": "markdown",
      "source": [
        "la callback **LogBest** va nous pemettre de sauvegarder l'état de l'entrainement et les métriques du modèle à la fin de chaque époque.\n",
        "\n",
        "Seules les meilleurs metriques ne sont sauvegardées. Elles correspondent à la meilleure époque du modèle que nous sauvegardons également. Ils sont donc mis à jour au fur et à mesure de l'entrainement"
      ],
      "metadata": {
        "id": "90tsUMoHJMyR"
      }
    },
    {
      "cell_type": "code",
      "source": [
        "class LogBest(Callback):\n",
        "    def __init__(self, model_id):\n",
        "        super().__init__()\n",
        "        self.model_id = model_id\n",
        "\n",
        "    def on_epoch_end(self, epoch, logs=None):\n",
        "\n",
        "        update_reporting_line(self.model_id,{\n",
        "            'last_epoch': epoch +1, # Epochs are 0-indexed, so we add 1\n",
        "            'last_lr': float(K.get_value(self.model.optimizer.learning_rate)),\n",
        "        })\n",
        "\n",
        "        if float(logs['val_w_f1_score']) <= float(get_reporting_value(self.model_id,\"val_f1_score\",0.0)):\n",
        "          return\n",
        "        print(\"\\nFound better model with val_f1_score=%.2f\" % float(logs['val_w_f1_score']))\n",
        "        update_reporting_line(self.model_id,{\n",
        "            \"f1_score\": logs['w_f1_score'],\n",
        "            \"val_f1_score\": logs['val_w_f1_score'],\n",
        "            \"accuracy\": logs['accuracy'],\n",
        "            \"val_accuracy\": logs['val_accuracy'],\n",
        "            \"loss\": logs['loss'],\n",
        "            \"val_loss\": logs['val_loss'],\n",
        "        })\n",
        "        save_model(self.model_id,self.model)\n"
      ],
      "metadata": {
        "id": "COevQcWlDWTN"
      },
      "execution_count": 138,
      "outputs": []
    },
    {
      "cell_type": "markdown",
      "source": [
        "Cette callback nous permet de stopper l'entrainement lorsque le f1 score ne progresse plus."
      ],
      "metadata": {
        "id": "_XXt4NyBKYDP"
      }
    },
    {
      "cell_type": "code",
      "source": [
        "early_stopping = EarlyStopping(\n",
        "              monitor='val_w_f1_score',\n",
        "              mode=\"max\", #stop when f1 score is not increasing anymore\n",
        "              patience=5,           # Number of epochs with no improvement\n",
        "              min_delta=1e-2,       # Minimum change to qualify as an improvement\n",
        ")"
      ],
      "metadata": {
        "id": "KIeb-leCJqGj"
      },
      "execution_count": 139,
      "outputs": []
    },
    {
      "cell_type": "markdown",
      "source": [
        "## Evaluation du modèle"
      ],
      "metadata": {
        "id": "2MlcPhSEL6S9"
      }
    },
    {
      "cell_type": "markdown",
      "source": [
        "Ajoutons quelques fonctions qui vont nous faciliter l'affichage de graphiques et de matrices lors de la phase d'évaluation du modèle"
      ],
      "metadata": {
        "id": "T7hk1gA3MCa3"
      }
    },
    {
      "cell_type": "markdown",
      "source": [
        "La fonction **plot_training_history** permet d'afficher l'évolution des différentes métriques en suivant le cours des époques de la phase d'entrainement"
      ],
      "metadata": {
        "id": "BL_nEGcnMVNC"
      }
    },
    {
      "cell_type": "code",
      "source": [
        "def plot_training_history(history):\n",
        "  x = range(1,len(history['accuracy']) + 1 )\n",
        "  plt.figure(figsize=(12,5))\n",
        "  plt.subplot(121)\n",
        "  plt.plot(x,history['val_accuracy'],label=\"val_accuracy\")\n",
        "  plt.plot(x,history['accuracy'],label=\"accuracy\")\n",
        "  plt.plot(x,history['val_w_f1_score'],label=\"val_f1_score\")\n",
        "  plt.plot(x,history['w_f1_score'],label=\"f1_score\")\n",
        "  plt.xticks(x)\n",
        "  plt.xlabel(\"Epoch\")\n",
        "  plt.ylabel(\"Score\")\n",
        "  plt.title(\"Accuracy/f1 evolution during training\")\n",
        "  plt.legend()\n",
        "\n",
        "  plt.subplot(122)\n",
        "  plt.plot(x,history['val_loss'],label=\"val_loss\")\n",
        "  plt.plot(x,history['loss'],label=\"loss\")\n",
        "  plt.xticks(x)\n",
        "  plt.xlabel(\"Epoch\")\n",
        "  plt.ylabel(\"Loss\")\n",
        "  plt.title(\"Loss evolution during training\")\n",
        "  plt.legend()\n",
        "\n",
        "  plt.show()\n"
      ],
      "metadata": {
        "id": "Cm0JAFhJ2UCB"
      },
      "execution_count": 140,
      "outputs": []
    },
    {
      "cell_type": "markdown",
      "source": [
        "Enfin ajoutons une fonction **plot_confusion_matrix** qui nous permette d'afficher la matrice de confusion d'une façon qui soit lisible"
      ],
      "metadata": {
        "id": "kNIpt9ZqMq9i"
      }
    },
    {
      "cell_type": "code",
      "source": [
        "def plot_confusion_matrix(cm):\n",
        "  plt.figure(figsize=(15, 8))\n",
        "  sns.set(font_scale=0.8)\n",
        "  sns.heatmap(cm, annot=True, cbar=True, square=False,fmt='g'\n",
        "              ,xticklabels=classes_keras,yticklabels=classes_keras)\n",
        "  plt.xlabel('Prédit')\n",
        "  plt.ylabel('Réel')\n",
        "  plt.title('Matrice de confusion')\n",
        "  plt.show()"
      ],
      "metadata": {
        "id": "y7uSuY_r_0M4"
      },
      "execution_count": 141,
      "outputs": []
    },
    {
      "cell_type": "markdown",
      "source": [
        "# Modélisation 1.1"
      ],
      "metadata": {
        "id": "gFSM5ko3tTaN"
      }
    },
    {
      "cell_type": "markdown",
      "source": [
        "Pour cette prémière modélisation, on va appliquer la statégie 1.1. C'est à dire tester un modèle simple lenet sur les données sans ré-équilibrage et sans zoom sur les images."
      ],
      "metadata": {
        "id": "yUdYNk8ausoa"
      }
    },
    {
      "cell_type": "markdown",
      "source": [
        "Commençons par initialiser la variable **model_id**\n",
        "Pour les ids de modèles, on va adopter une convention à trois chiffres:\n",
        "\n",
        "1.   Le numéro du notebook (ici 1)\n",
        "2.   Le premier niveau de stratégie (ici 1)\n",
        "3.   le deuxième niveau de stratégie (ici 1 également)\n",
        "\n"
      ],
      "metadata": {
        "id": "rPHNfPzCvHzr"
      }
    },
    {
      "cell_type": "code",
      "source": [
        "model_id = 111"
      ],
      "metadata": {
        "id": "hU7xDoUfviNr"
      },
      "execution_count": 142,
      "outputs": []
    },
    {
      "cell_type": "markdown",
      "source": [
        "## Import des données"
      ],
      "metadata": {
        "id": "S2shx3_QtoeL"
      }
    },
    {
      "cell_type": "markdown",
      "source": [
        "On va donc importer les images dans leur version originale (non zoomées)"
      ],
      "metadata": {
        "id": "nMKm0QSoxmhJ"
      }
    },
    {
      "cell_type": "code",
      "execution_count": 143,
      "metadata": {
        "colab": {
          "base_uri": "https://localhost:8080/"
        },
        "id": "S9G-y3_5vz-8",
        "outputId": "96860953-c642-4cab-e239-29d2c3be86e9"
      },
      "outputs": [
        {
          "output_type": "stream",
          "name": "stdout",
          "text": [
            "images already imported from drive\n"
          ]
        }
      ],
      "source": [
        "image_path = import_images(\"data/images.zip\",\"/tmp/rakuten-images-1\")"
      ]
    },
    {
      "cell_type": "markdown",
      "source": [
        "Chargeons maintenant les données du dataset sans ré-échantillonage"
      ],
      "metadata": {
        "id": "__SVeItsyLOI"
      }
    },
    {
      "cell_type": "code",
      "execution_count": 144,
      "metadata": {
        "colab": {
          "base_uri": "https://localhost:8080/",
          "height": 206
        },
        "id": "eXQY9xKTvz_A",
        "outputId": "07521526-e47e-4fad-d733-f29ec8ed10bb"
      },
      "outputs": [
        {
          "output_type": "execute_result",
          "data": {
            "text/plain": [
              "   index   productid     imageid  prdtypecode  \\\n",
              "0      0  3804725264  1263597046           10   \n",
              "1      1   436067568  1008141237         2280   \n",
              "2      2   201115110   938777978           50   \n",
              "3      3    50418756   457047496         1280   \n",
              "4      4   278535884  1077757786         2705   \n",
              "\n",
              "                                                text lang  \n",
              "0  Olivia: Personalisiertes Notizbuch / 150 Seite...   de  \n",
              "1  Journal Des Arts (Le) N° 133 Du 28/09/2001 - L...   fr  \n",
              "2  Grand Stylet Ergonomique Bleu Gamepad Nintendo...   fr  \n",
              "3  Peluche Donald - Europe - Disneyland 2000 (Mar...   de  \n",
              "4  La Guerre Des Tuques - Luc a des idées de gran...   fr  "
            ],
            "text/html": [
              "\n",
              "  <div id=\"df-83dbae30-b01c-45a5-895a-d0bd8c507c83\" class=\"colab-df-container\">\n",
              "    <div>\n",
              "<style scoped>\n",
              "    .dataframe tbody tr th:only-of-type {\n",
              "        vertical-align: middle;\n",
              "    }\n",
              "\n",
              "    .dataframe tbody tr th {\n",
              "        vertical-align: top;\n",
              "    }\n",
              "\n",
              "    .dataframe thead th {\n",
              "        text-align: right;\n",
              "    }\n",
              "</style>\n",
              "<table border=\"1\" class=\"dataframe\">\n",
              "  <thead>\n",
              "    <tr style=\"text-align: right;\">\n",
              "      <th></th>\n",
              "      <th>index</th>\n",
              "      <th>productid</th>\n",
              "      <th>imageid</th>\n",
              "      <th>prdtypecode</th>\n",
              "      <th>text</th>\n",
              "      <th>lang</th>\n",
              "    </tr>\n",
              "  </thead>\n",
              "  <tbody>\n",
              "    <tr>\n",
              "      <th>0</th>\n",
              "      <td>0</td>\n",
              "      <td>3804725264</td>\n",
              "      <td>1263597046</td>\n",
              "      <td>10</td>\n",
              "      <td>Olivia: Personalisiertes Notizbuch / 150 Seite...</td>\n",
              "      <td>de</td>\n",
              "    </tr>\n",
              "    <tr>\n",
              "      <th>1</th>\n",
              "      <td>1</td>\n",
              "      <td>436067568</td>\n",
              "      <td>1008141237</td>\n",
              "      <td>2280</td>\n",
              "      <td>Journal Des Arts (Le) N° 133 Du 28/09/2001 - L...</td>\n",
              "      <td>fr</td>\n",
              "    </tr>\n",
              "    <tr>\n",
              "      <th>2</th>\n",
              "      <td>2</td>\n",
              "      <td>201115110</td>\n",
              "      <td>938777978</td>\n",
              "      <td>50</td>\n",
              "      <td>Grand Stylet Ergonomique Bleu Gamepad Nintendo...</td>\n",
              "      <td>fr</td>\n",
              "    </tr>\n",
              "    <tr>\n",
              "      <th>3</th>\n",
              "      <td>3</td>\n",
              "      <td>50418756</td>\n",
              "      <td>457047496</td>\n",
              "      <td>1280</td>\n",
              "      <td>Peluche Donald - Europe - Disneyland 2000 (Mar...</td>\n",
              "      <td>de</td>\n",
              "    </tr>\n",
              "    <tr>\n",
              "      <th>4</th>\n",
              "      <td>4</td>\n",
              "      <td>278535884</td>\n",
              "      <td>1077757786</td>\n",
              "      <td>2705</td>\n",
              "      <td>La Guerre Des Tuques - Luc a des idées de gran...</td>\n",
              "      <td>fr</td>\n",
              "    </tr>\n",
              "  </tbody>\n",
              "</table>\n",
              "</div>\n",
              "    <div class=\"colab-df-buttons\">\n",
              "\n",
              "  <div class=\"colab-df-container\">\n",
              "    <button class=\"colab-df-convert\" onclick=\"convertToInteractive('df-83dbae30-b01c-45a5-895a-d0bd8c507c83')\"\n",
              "            title=\"Convert this dataframe to an interactive table.\"\n",
              "            style=\"display:none;\">\n",
              "\n",
              "  <svg xmlns=\"http://www.w3.org/2000/svg\" height=\"24px\" viewBox=\"0 -960 960 960\">\n",
              "    <path d=\"M120-120v-720h720v720H120Zm60-500h600v-160H180v160Zm220 220h160v-160H400v160Zm0 220h160v-160H400v160ZM180-400h160v-160H180v160Zm440 0h160v-160H620v160ZM180-180h160v-160H180v160Zm440 0h160v-160H620v160Z\"/>\n",
              "  </svg>\n",
              "    </button>\n",
              "\n",
              "  <style>\n",
              "    .colab-df-container {\n",
              "      display:flex;\n",
              "      gap: 12px;\n",
              "    }\n",
              "\n",
              "    .colab-df-convert {\n",
              "      background-color: #E8F0FE;\n",
              "      border: none;\n",
              "      border-radius: 50%;\n",
              "      cursor: pointer;\n",
              "      display: none;\n",
              "      fill: #1967D2;\n",
              "      height: 32px;\n",
              "      padding: 0 0 0 0;\n",
              "      width: 32px;\n",
              "    }\n",
              "\n",
              "    .colab-df-convert:hover {\n",
              "      background-color: #E2EBFA;\n",
              "      box-shadow: 0px 1px 2px rgba(60, 64, 67, 0.3), 0px 1px 3px 1px rgba(60, 64, 67, 0.15);\n",
              "      fill: #174EA6;\n",
              "    }\n",
              "\n",
              "    .colab-df-buttons div {\n",
              "      margin-bottom: 4px;\n",
              "    }\n",
              "\n",
              "    [theme=dark] .colab-df-convert {\n",
              "      background-color: #3B4455;\n",
              "      fill: #D2E3FC;\n",
              "    }\n",
              "\n",
              "    [theme=dark] .colab-df-convert:hover {\n",
              "      background-color: #434B5C;\n",
              "      box-shadow: 0px 1px 3px 1px rgba(0, 0, 0, 0.15);\n",
              "      filter: drop-shadow(0px 1px 2px rgba(0, 0, 0, 0.3));\n",
              "      fill: #FFFFFF;\n",
              "    }\n",
              "  </style>\n",
              "\n",
              "    <script>\n",
              "      const buttonEl =\n",
              "        document.querySelector('#df-83dbae30-b01c-45a5-895a-d0bd8c507c83 button.colab-df-convert');\n",
              "      buttonEl.style.display =\n",
              "        google.colab.kernel.accessAllowed ? 'block' : 'none';\n",
              "\n",
              "      async function convertToInteractive(key) {\n",
              "        const element = document.querySelector('#df-83dbae30-b01c-45a5-895a-d0bd8c507c83');\n",
              "        const dataTable =\n",
              "          await google.colab.kernel.invokeFunction('convertToInteractive',\n",
              "                                                    [key], {});\n",
              "        if (!dataTable) return;\n",
              "\n",
              "        const docLinkHtml = 'Like what you see? Visit the ' +\n",
              "          '<a target=\"_blank\" href=https://colab.research.google.com/notebooks/data_table.ipynb>data table notebook</a>'\n",
              "          + ' to learn more about interactive tables.';\n",
              "        element.innerHTML = '';\n",
              "        dataTable['output_type'] = 'display_data';\n",
              "        await google.colab.output.renderOutput(dataTable, element);\n",
              "        const docLink = document.createElement('div');\n",
              "        docLink.innerHTML = docLinkHtml;\n",
              "        element.appendChild(docLink);\n",
              "      }\n",
              "    </script>\n",
              "  </div>\n",
              "\n",
              "\n",
              "<div id=\"df-acc63a0d-f1fe-41c6-bbc8-83ca79d235b7\">\n",
              "  <button class=\"colab-df-quickchart\" onclick=\"quickchart('df-acc63a0d-f1fe-41c6-bbc8-83ca79d235b7')\"\n",
              "            title=\"Suggest charts\"\n",
              "            style=\"display:none;\">\n",
              "\n",
              "<svg xmlns=\"http://www.w3.org/2000/svg\" height=\"24px\"viewBox=\"0 0 24 24\"\n",
              "     width=\"24px\">\n",
              "    <g>\n",
              "        <path d=\"M19 3H5c-1.1 0-2 .9-2 2v14c0 1.1.9 2 2 2h14c1.1 0 2-.9 2-2V5c0-1.1-.9-2-2-2zM9 17H7v-7h2v7zm4 0h-2V7h2v10zm4 0h-2v-4h2v4z\"/>\n",
              "    </g>\n",
              "</svg>\n",
              "  </button>\n",
              "\n",
              "<style>\n",
              "  .colab-df-quickchart {\n",
              "      --bg-color: #E8F0FE;\n",
              "      --fill-color: #1967D2;\n",
              "      --hover-bg-color: #E2EBFA;\n",
              "      --hover-fill-color: #174EA6;\n",
              "      --disabled-fill-color: #AAA;\n",
              "      --disabled-bg-color: #DDD;\n",
              "  }\n",
              "\n",
              "  [theme=dark] .colab-df-quickchart {\n",
              "      --bg-color: #3B4455;\n",
              "      --fill-color: #D2E3FC;\n",
              "      --hover-bg-color: #434B5C;\n",
              "      --hover-fill-color: #FFFFFF;\n",
              "      --disabled-bg-color: #3B4455;\n",
              "      --disabled-fill-color: #666;\n",
              "  }\n",
              "\n",
              "  .colab-df-quickchart {\n",
              "    background-color: var(--bg-color);\n",
              "    border: none;\n",
              "    border-radius: 50%;\n",
              "    cursor: pointer;\n",
              "    display: none;\n",
              "    fill: var(--fill-color);\n",
              "    height: 32px;\n",
              "    padding: 0;\n",
              "    width: 32px;\n",
              "  }\n",
              "\n",
              "  .colab-df-quickchart:hover {\n",
              "    background-color: var(--hover-bg-color);\n",
              "    box-shadow: 0 1px 2px rgba(60, 64, 67, 0.3), 0 1px 3px 1px rgba(60, 64, 67, 0.15);\n",
              "    fill: var(--button-hover-fill-color);\n",
              "  }\n",
              "\n",
              "  .colab-df-quickchart-complete:disabled,\n",
              "  .colab-df-quickchart-complete:disabled:hover {\n",
              "    background-color: var(--disabled-bg-color);\n",
              "    fill: var(--disabled-fill-color);\n",
              "    box-shadow: none;\n",
              "  }\n",
              "\n",
              "  .colab-df-spinner {\n",
              "    border: 2px solid var(--fill-color);\n",
              "    border-color: transparent;\n",
              "    border-bottom-color: var(--fill-color);\n",
              "    animation:\n",
              "      spin 1s steps(1) infinite;\n",
              "  }\n",
              "\n",
              "  @keyframes spin {\n",
              "    0% {\n",
              "      border-color: transparent;\n",
              "      border-bottom-color: var(--fill-color);\n",
              "      border-left-color: var(--fill-color);\n",
              "    }\n",
              "    20% {\n",
              "      border-color: transparent;\n",
              "      border-left-color: var(--fill-color);\n",
              "      border-top-color: var(--fill-color);\n",
              "    }\n",
              "    30% {\n",
              "      border-color: transparent;\n",
              "      border-left-color: var(--fill-color);\n",
              "      border-top-color: var(--fill-color);\n",
              "      border-right-color: var(--fill-color);\n",
              "    }\n",
              "    40% {\n",
              "      border-color: transparent;\n",
              "      border-right-color: var(--fill-color);\n",
              "      border-top-color: var(--fill-color);\n",
              "    }\n",
              "    60% {\n",
              "      border-color: transparent;\n",
              "      border-right-color: var(--fill-color);\n",
              "    }\n",
              "    80% {\n",
              "      border-color: transparent;\n",
              "      border-right-color: var(--fill-color);\n",
              "      border-bottom-color: var(--fill-color);\n",
              "    }\n",
              "    90% {\n",
              "      border-color: transparent;\n",
              "      border-bottom-color: var(--fill-color);\n",
              "    }\n",
              "  }\n",
              "</style>\n",
              "\n",
              "  <script>\n",
              "    async function quickchart(key) {\n",
              "      const quickchartButtonEl =\n",
              "        document.querySelector('#' + key + ' button');\n",
              "      quickchartButtonEl.disabled = true;  // To prevent multiple clicks.\n",
              "      quickchartButtonEl.classList.add('colab-df-spinner');\n",
              "      try {\n",
              "        const charts = await google.colab.kernel.invokeFunction(\n",
              "            'suggestCharts', [key], {});\n",
              "      } catch (error) {\n",
              "        console.error('Error during call to suggestCharts:', error);\n",
              "      }\n",
              "      quickchartButtonEl.classList.remove('colab-df-spinner');\n",
              "      quickchartButtonEl.classList.add('colab-df-quickchart-complete');\n",
              "    }\n",
              "    (() => {\n",
              "      let quickchartButtonEl =\n",
              "        document.querySelector('#df-acc63a0d-f1fe-41c6-bbc8-83ca79d235b7 button');\n",
              "      quickchartButtonEl.style.display =\n",
              "        google.colab.kernel.accessAllowed ? 'block' : 'none';\n",
              "    })();\n",
              "  </script>\n",
              "</div>\n",
              "    </div>\n",
              "  </div>\n"
            ]
          },
          "metadata": {},
          "execution_count": 144
        }
      ],
      "source": [
        "df = pd.read_csv(\"output/data-exploration/X_train_pre.csv\")\n",
        "df.head()"
      ]
    },
    {
      "cell_type": "markdown",
      "source": [
        "## Preprocessing"
      ],
      "metadata": {
        "id": "hLrE7DJJ33xF"
      }
    },
    {
      "cell_type": "markdown",
      "source": [
        "Cette version du dataset ne contenant pas encore la colonne **imagefile** qui va nous être necessaire, ajoutons là"
      ],
      "metadata": {
        "id": "aWXCenwQybnP"
      }
    },
    {
      "cell_type": "code",
      "source": [
        "df[\"imagefile\"] = \"image_\" + df[\"imageid\"].astype(\"str\") + \"_product_\" + df[\"productid\"].astype(\"str\") + \".jpg\"\n",
        "df.head()"
      ],
      "metadata": {
        "colab": {
          "base_uri": "https://localhost:8080/",
          "height": 293
        },
        "id": "UOeJ5vZiywbf",
        "outputId": "1a525adb-06a0-418e-fc43-d022a8effdfb"
      },
      "execution_count": 145,
      "outputs": [
        {
          "output_type": "execute_result",
          "data": {
            "text/plain": [
              "   index   productid     imageid  prdtypecode  \\\n",
              "0      0  3804725264  1263597046           10   \n",
              "1      1   436067568  1008141237         2280   \n",
              "2      2   201115110   938777978           50   \n",
              "3      3    50418756   457047496         1280   \n",
              "4      4   278535884  1077757786         2705   \n",
              "\n",
              "                                                text lang  \\\n",
              "0  Olivia: Personalisiertes Notizbuch / 150 Seite...   de   \n",
              "1  Journal Des Arts (Le) N° 133 Du 28/09/2001 - L...   fr   \n",
              "2  Grand Stylet Ergonomique Bleu Gamepad Nintendo...   fr   \n",
              "3  Peluche Donald - Europe - Disneyland 2000 (Mar...   de   \n",
              "4  La Guerre Des Tuques - Luc a des idées de gran...   fr   \n",
              "\n",
              "                                 imagefile  \n",
              "0  image_1263597046_product_3804725264.jpg  \n",
              "1   image_1008141237_product_436067568.jpg  \n",
              "2    image_938777978_product_201115110.jpg  \n",
              "3     image_457047496_product_50418756.jpg  \n",
              "4   image_1077757786_product_278535884.jpg  "
            ],
            "text/html": [
              "\n",
              "  <div id=\"df-5fa8d042-07bc-4730-8eed-f0f38a00ab03\" class=\"colab-df-container\">\n",
              "    <div>\n",
              "<style scoped>\n",
              "    .dataframe tbody tr th:only-of-type {\n",
              "        vertical-align: middle;\n",
              "    }\n",
              "\n",
              "    .dataframe tbody tr th {\n",
              "        vertical-align: top;\n",
              "    }\n",
              "\n",
              "    .dataframe thead th {\n",
              "        text-align: right;\n",
              "    }\n",
              "</style>\n",
              "<table border=\"1\" class=\"dataframe\">\n",
              "  <thead>\n",
              "    <tr style=\"text-align: right;\">\n",
              "      <th></th>\n",
              "      <th>index</th>\n",
              "      <th>productid</th>\n",
              "      <th>imageid</th>\n",
              "      <th>prdtypecode</th>\n",
              "      <th>text</th>\n",
              "      <th>lang</th>\n",
              "      <th>imagefile</th>\n",
              "    </tr>\n",
              "  </thead>\n",
              "  <tbody>\n",
              "    <tr>\n",
              "      <th>0</th>\n",
              "      <td>0</td>\n",
              "      <td>3804725264</td>\n",
              "      <td>1263597046</td>\n",
              "      <td>10</td>\n",
              "      <td>Olivia: Personalisiertes Notizbuch / 150 Seite...</td>\n",
              "      <td>de</td>\n",
              "      <td>image_1263597046_product_3804725264.jpg</td>\n",
              "    </tr>\n",
              "    <tr>\n",
              "      <th>1</th>\n",
              "      <td>1</td>\n",
              "      <td>436067568</td>\n",
              "      <td>1008141237</td>\n",
              "      <td>2280</td>\n",
              "      <td>Journal Des Arts (Le) N° 133 Du 28/09/2001 - L...</td>\n",
              "      <td>fr</td>\n",
              "      <td>image_1008141237_product_436067568.jpg</td>\n",
              "    </tr>\n",
              "    <tr>\n",
              "      <th>2</th>\n",
              "      <td>2</td>\n",
              "      <td>201115110</td>\n",
              "      <td>938777978</td>\n",
              "      <td>50</td>\n",
              "      <td>Grand Stylet Ergonomique Bleu Gamepad Nintendo...</td>\n",
              "      <td>fr</td>\n",
              "      <td>image_938777978_product_201115110.jpg</td>\n",
              "    </tr>\n",
              "    <tr>\n",
              "      <th>3</th>\n",
              "      <td>3</td>\n",
              "      <td>50418756</td>\n",
              "      <td>457047496</td>\n",
              "      <td>1280</td>\n",
              "      <td>Peluche Donald - Europe - Disneyland 2000 (Mar...</td>\n",
              "      <td>de</td>\n",
              "      <td>image_457047496_product_50418756.jpg</td>\n",
              "    </tr>\n",
              "    <tr>\n",
              "      <th>4</th>\n",
              "      <td>4</td>\n",
              "      <td>278535884</td>\n",
              "      <td>1077757786</td>\n",
              "      <td>2705</td>\n",
              "      <td>La Guerre Des Tuques - Luc a des idées de gran...</td>\n",
              "      <td>fr</td>\n",
              "      <td>image_1077757786_product_278535884.jpg</td>\n",
              "    </tr>\n",
              "  </tbody>\n",
              "</table>\n",
              "</div>\n",
              "    <div class=\"colab-df-buttons\">\n",
              "\n",
              "  <div class=\"colab-df-container\">\n",
              "    <button class=\"colab-df-convert\" onclick=\"convertToInteractive('df-5fa8d042-07bc-4730-8eed-f0f38a00ab03')\"\n",
              "            title=\"Convert this dataframe to an interactive table.\"\n",
              "            style=\"display:none;\">\n",
              "\n",
              "  <svg xmlns=\"http://www.w3.org/2000/svg\" height=\"24px\" viewBox=\"0 -960 960 960\">\n",
              "    <path d=\"M120-120v-720h720v720H120Zm60-500h600v-160H180v160Zm220 220h160v-160H400v160Zm0 220h160v-160H400v160ZM180-400h160v-160H180v160Zm440 0h160v-160H620v160ZM180-180h160v-160H180v160Zm440 0h160v-160H620v160Z\"/>\n",
              "  </svg>\n",
              "    </button>\n",
              "\n",
              "  <style>\n",
              "    .colab-df-container {\n",
              "      display:flex;\n",
              "      gap: 12px;\n",
              "    }\n",
              "\n",
              "    .colab-df-convert {\n",
              "      background-color: #E8F0FE;\n",
              "      border: none;\n",
              "      border-radius: 50%;\n",
              "      cursor: pointer;\n",
              "      display: none;\n",
              "      fill: #1967D2;\n",
              "      height: 32px;\n",
              "      padding: 0 0 0 0;\n",
              "      width: 32px;\n",
              "    }\n",
              "\n",
              "    .colab-df-convert:hover {\n",
              "      background-color: #E2EBFA;\n",
              "      box-shadow: 0px 1px 2px rgba(60, 64, 67, 0.3), 0px 1px 3px 1px rgba(60, 64, 67, 0.15);\n",
              "      fill: #174EA6;\n",
              "    }\n",
              "\n",
              "    .colab-df-buttons div {\n",
              "      margin-bottom: 4px;\n",
              "    }\n",
              "\n",
              "    [theme=dark] .colab-df-convert {\n",
              "      background-color: #3B4455;\n",
              "      fill: #D2E3FC;\n",
              "    }\n",
              "\n",
              "    [theme=dark] .colab-df-convert:hover {\n",
              "      background-color: #434B5C;\n",
              "      box-shadow: 0px 1px 3px 1px rgba(0, 0, 0, 0.15);\n",
              "      filter: drop-shadow(0px 1px 2px rgba(0, 0, 0, 0.3));\n",
              "      fill: #FFFFFF;\n",
              "    }\n",
              "  </style>\n",
              "\n",
              "    <script>\n",
              "      const buttonEl =\n",
              "        document.querySelector('#df-5fa8d042-07bc-4730-8eed-f0f38a00ab03 button.colab-df-convert');\n",
              "      buttonEl.style.display =\n",
              "        google.colab.kernel.accessAllowed ? 'block' : 'none';\n",
              "\n",
              "      async function convertToInteractive(key) {\n",
              "        const element = document.querySelector('#df-5fa8d042-07bc-4730-8eed-f0f38a00ab03');\n",
              "        const dataTable =\n",
              "          await google.colab.kernel.invokeFunction('convertToInteractive',\n",
              "                                                    [key], {});\n",
              "        if (!dataTable) return;\n",
              "\n",
              "        const docLinkHtml = 'Like what you see? Visit the ' +\n",
              "          '<a target=\"_blank\" href=https://colab.research.google.com/notebooks/data_table.ipynb>data table notebook</a>'\n",
              "          + ' to learn more about interactive tables.';\n",
              "        element.innerHTML = '';\n",
              "        dataTable['output_type'] = 'display_data';\n",
              "        await google.colab.output.renderOutput(dataTable, element);\n",
              "        const docLink = document.createElement('div');\n",
              "        docLink.innerHTML = docLinkHtml;\n",
              "        element.appendChild(docLink);\n",
              "      }\n",
              "    </script>\n",
              "  </div>\n",
              "\n",
              "\n",
              "<div id=\"df-ced13700-3d90-4b62-a06c-1f77fa1085ed\">\n",
              "  <button class=\"colab-df-quickchart\" onclick=\"quickchart('df-ced13700-3d90-4b62-a06c-1f77fa1085ed')\"\n",
              "            title=\"Suggest charts\"\n",
              "            style=\"display:none;\">\n",
              "\n",
              "<svg xmlns=\"http://www.w3.org/2000/svg\" height=\"24px\"viewBox=\"0 0 24 24\"\n",
              "     width=\"24px\">\n",
              "    <g>\n",
              "        <path d=\"M19 3H5c-1.1 0-2 .9-2 2v14c0 1.1.9 2 2 2h14c1.1 0 2-.9 2-2V5c0-1.1-.9-2-2-2zM9 17H7v-7h2v7zm4 0h-2V7h2v10zm4 0h-2v-4h2v4z\"/>\n",
              "    </g>\n",
              "</svg>\n",
              "  </button>\n",
              "\n",
              "<style>\n",
              "  .colab-df-quickchart {\n",
              "      --bg-color: #E8F0FE;\n",
              "      --fill-color: #1967D2;\n",
              "      --hover-bg-color: #E2EBFA;\n",
              "      --hover-fill-color: #174EA6;\n",
              "      --disabled-fill-color: #AAA;\n",
              "      --disabled-bg-color: #DDD;\n",
              "  }\n",
              "\n",
              "  [theme=dark] .colab-df-quickchart {\n",
              "      --bg-color: #3B4455;\n",
              "      --fill-color: #D2E3FC;\n",
              "      --hover-bg-color: #434B5C;\n",
              "      --hover-fill-color: #FFFFFF;\n",
              "      --disabled-bg-color: #3B4455;\n",
              "      --disabled-fill-color: #666;\n",
              "  }\n",
              "\n",
              "  .colab-df-quickchart {\n",
              "    background-color: var(--bg-color);\n",
              "    border: none;\n",
              "    border-radius: 50%;\n",
              "    cursor: pointer;\n",
              "    display: none;\n",
              "    fill: var(--fill-color);\n",
              "    height: 32px;\n",
              "    padding: 0;\n",
              "    width: 32px;\n",
              "  }\n",
              "\n",
              "  .colab-df-quickchart:hover {\n",
              "    background-color: var(--hover-bg-color);\n",
              "    box-shadow: 0 1px 2px rgba(60, 64, 67, 0.3), 0 1px 3px 1px rgba(60, 64, 67, 0.15);\n",
              "    fill: var(--button-hover-fill-color);\n",
              "  }\n",
              "\n",
              "  .colab-df-quickchart-complete:disabled,\n",
              "  .colab-df-quickchart-complete:disabled:hover {\n",
              "    background-color: var(--disabled-bg-color);\n",
              "    fill: var(--disabled-fill-color);\n",
              "    box-shadow: none;\n",
              "  }\n",
              "\n",
              "  .colab-df-spinner {\n",
              "    border: 2px solid var(--fill-color);\n",
              "    border-color: transparent;\n",
              "    border-bottom-color: var(--fill-color);\n",
              "    animation:\n",
              "      spin 1s steps(1) infinite;\n",
              "  }\n",
              "\n",
              "  @keyframes spin {\n",
              "    0% {\n",
              "      border-color: transparent;\n",
              "      border-bottom-color: var(--fill-color);\n",
              "      border-left-color: var(--fill-color);\n",
              "    }\n",
              "    20% {\n",
              "      border-color: transparent;\n",
              "      border-left-color: var(--fill-color);\n",
              "      border-top-color: var(--fill-color);\n",
              "    }\n",
              "    30% {\n",
              "      border-color: transparent;\n",
              "      border-left-color: var(--fill-color);\n",
              "      border-top-color: var(--fill-color);\n",
              "      border-right-color: var(--fill-color);\n",
              "    }\n",
              "    40% {\n",
              "      border-color: transparent;\n",
              "      border-right-color: var(--fill-color);\n",
              "      border-top-color: var(--fill-color);\n",
              "    }\n",
              "    60% {\n",
              "      border-color: transparent;\n",
              "      border-right-color: var(--fill-color);\n",
              "    }\n",
              "    80% {\n",
              "      border-color: transparent;\n",
              "      border-right-color: var(--fill-color);\n",
              "      border-bottom-color: var(--fill-color);\n",
              "    }\n",
              "    90% {\n",
              "      border-color: transparent;\n",
              "      border-bottom-color: var(--fill-color);\n",
              "    }\n",
              "  }\n",
              "</style>\n",
              "\n",
              "  <script>\n",
              "    async function quickchart(key) {\n",
              "      const quickchartButtonEl =\n",
              "        document.querySelector('#' + key + ' button');\n",
              "      quickchartButtonEl.disabled = true;  // To prevent multiple clicks.\n",
              "      quickchartButtonEl.classList.add('colab-df-spinner');\n",
              "      try {\n",
              "        const charts = await google.colab.kernel.invokeFunction(\n",
              "            'suggestCharts', [key], {});\n",
              "      } catch (error) {\n",
              "        console.error('Error during call to suggestCharts:', error);\n",
              "      }\n",
              "      quickchartButtonEl.classList.remove('colab-df-spinner');\n",
              "      quickchartButtonEl.classList.add('colab-df-quickchart-complete');\n",
              "    }\n",
              "    (() => {\n",
              "      let quickchartButtonEl =\n",
              "        document.querySelector('#df-ced13700-3d90-4b62-a06c-1f77fa1085ed button');\n",
              "      quickchartButtonEl.style.display =\n",
              "        google.colab.kernel.accessAllowed ? 'block' : 'none';\n",
              "    })();\n",
              "  </script>\n",
              "</div>\n",
              "    </div>\n",
              "  </div>\n"
            ]
          },
          "metadata": {},
          "execution_count": 145
        }
      ]
    },
    {
      "cell_type": "markdown",
      "source": [
        "On souhaiter mener nos test sur avec un ensemble d'entrainement constitué d'environ 50% des données. Ca représente à peu près 42,000 observations. On tentera de conserver le même nombre d'observations pour les ensembles d'entrainement qu'on va utiliser aux différentes étapes de notre stratégie.\n",
        "\n",
        "On va d'abord constituer un ensemble de test et un ensemble de validaton identiques à ceux généré par le notebook **data_preprocessing_resampling**, ça nous facilitera les comparaisons dans le cadre de notre stratégie."
      ],
      "metadata": {
        "id": "7rze97uT1RQ9"
      }
    },
    {
      "cell_type": "markdown",
      "source": [
        "Créons deux variables **X** et **y** qui vont contenir respectivement, les variables explicatives et la variable cible."
      ],
      "metadata": {
        "id": "PTtfy0oT3qeM"
      }
    },
    {
      "cell_type": "code",
      "source": [
        "X = df.drop(\"prdtypecode\",axis=1)\n",
        "y = df[\"prdtypecode\"]"
      ],
      "metadata": {
        "id": "_il-IcQ83a4j"
      },
      "execution_count": 146,
      "outputs": []
    },
    {
      "cell_type": "markdown",
      "source": [
        "Commençons par scinder les données en un set d’entraînement (**X_train**,**y_train**) et un set de test (**X_test**,**y_test**).\n",
        "\n",
        "Ce premier ensemble de test comprend 20% des données choisies aléatoirement mais en respectant la répartition initiale des classes. On veille également à toujours passer le même **random_state** pour s'assurer que la fonction renvoie toujours le même résultat si on doit ré-executer ce notebook plus tard."
      ],
      "metadata": {
        "id": "VaQqbo-z3rXM"
      }
    },
    {
      "cell_type": "code",
      "source": [
        "X_train, X_test, y_train, y_test = train_test_split(X,y,test_size=0.2,random_state = random_state,shuffle=True,stratify=y)"
      ],
      "metadata": {
        "id": "zTHo-R3e3dpB"
      },
      "execution_count": 147,
      "outputs": []
    },
    {
      "cell_type": "markdown",
      "source": [
        "On va maintenant couper en deux l'ensemble de test pour que la moitié de ses données aillent dans un ensemble de validation (**X_val**,**y_val**)."
      ],
      "metadata": {
        "id": "9F9TISlu3yUs"
      }
    },
    {
      "cell_type": "code",
      "source": [
        "X_val, X_test, y_val, y_test = train_test_split(X_test,y_test,test_size=0.5,random_state = random_state,shuffle=True,stratify=y_test)"
      ],
      "metadata": {
        "id": "msMEPQla3gua"
      },
      "execution_count": 148,
      "outputs": []
    },
    {
      "cell_type": "markdown",
      "source": [
        "Finalement, on réduit encore l'ensemble d'entrainement pour qu'il contienne environ 50% des données de départ."
      ],
      "metadata": {
        "id": "WCQZI53039Bl"
      }
    },
    {
      "cell_type": "code",
      "source": [
        "target_train_size = int(len(X) * 0.10)\n",
        "print(\"Target train size is\",target_train_size)\n",
        "train_split_rate = (len(X_train) - target_train_size) / len(X_train)\n",
        "X_train, X_none, y_train, y_none = train_test_split(X_train,y_train,test_size=train_split_rate,random_state = random_state,\n",
        "                                                    shuffle=True,stratify=y_train)\n",
        "print(\"X_train length is now\",len(X_train))"
      ],
      "metadata": {
        "colab": {
          "base_uri": "https://localhost:8080/"
        },
        "id": "6gcdeLkm38hY",
        "outputId": "f43c1661-0fef-4e9e-e633-497bca843a02"
      },
      "execution_count": 149,
      "outputs": [
        {
          "output_type": "stream",
          "name": "stdout",
          "text": [
            "Target train size is 8491\n",
            "X_train length is now 8491\n"
          ]
        }
      ]
    },
    {
      "cell_type": "markdown",
      "source": [
        "## Initialisation du rapport de modéle"
      ],
      "metadata": {
        "id": "EGcPLLT7_lHk"
      }
    },
    {
      "cell_type": "markdown",
      "source": [
        "Si un fichier **model_reporting.csv** existe, on le charge. Autrement, on en crée un nouveau."
      ],
      "metadata": {
        "id": "5GBCxJuonBhK"
      }
    },
    {
      "cell_type": "code",
      "source": [
        "Path(output_dir).mkdir(parents=True, exist_ok=True)\n",
        "try:\n",
        "  reporting_df = load_reporting_df()\n",
        "  print(\"loaded \",output_dir+\"/model_reporting.csv\")\n",
        "except FileNotFoundError:\n",
        "  reporting_df = create_reporting_df()\n",
        "  print(output_dir+\"/model_reporting.csv\",\"not found. creating one\")\n"
      ],
      "metadata": {
        "colab": {
          "base_uri": "https://localhost:8080/"
        },
        "id": "b1XZccrm--yI",
        "outputId": "6f3d18a1-ffa0-44a0-8fca-46eea272aa81"
      },
      "execution_count": 150,
      "outputs": [
        {
          "output_type": "stream",
          "name": "stdout",
          "text": [
            "output/data-modeling-images-1/model_reporting.csv not found. creating one\n"
          ]
        }
      ]
    },
    {
      "cell_type": "code",
      "source": [
        "#test todo: remove\n",
        "#reporting_df = create_reporting_df()"
      ],
      "metadata": {
        "id": "nHR56ApacH8A"
      },
      "execution_count": 151,
      "outputs": []
    },
    {
      "cell_type": "code",
      "source": [
        "reporting_df.head()"
      ],
      "metadata": {
        "colab": {
          "base_uri": "https://localhost:8080/",
          "height": 266
        },
        "id": "VPLqWsozMZ_v",
        "outputId": "87f6a70a-e264-427c-908b-f4c35809de84"
      },
      "execution_count": 152,
      "outputs": [
        {
          "output_type": "execute_result",
          "data": {
            "text/plain": [
              "             model_name                           dataset_source  \\\n",
              "model_id                                                           \n",
              "0         Example model  output/data-exploration/X_train_pre.csv   \n",
              "\n",
              "          dataset_resampled image_dataset_source  image_dataset_zoomed  \\\n",
              "model_id                                                                 \n",
              "0                     False      data/images.zip                 False   \n",
              "\n",
              "          train_size  image_size  image_color_rgb  batch_size  \\\n",
              "model_id                                                        \n",
              "0              42458         300             True          32   \n",
              "\n",
              "                                image_data_generator_params  ...  \\\n",
              "model_id                                                     ...   \n",
              "0         {'rescale': 0.00392156862745098, 'shear_range'...  ...   \n",
              "\n",
              "          fit_complete  f1_score val_f1_score  test_f1_score  accuracy  \\\n",
              "model_id                                                                 \n",
              "0                 True      0.42         0.37           0.35      0.57   \n",
              "\n",
              "          val_accuracy  test_accuracy   loss  val_loss  \\\n",
              "model_id                                                 \n",
              "0                 0.39           0.41  1.567     2.657   \n",
              "\n",
              "                                                    remarks  \n",
              "model_id                                                     \n",
              "0         Ceci n'est pas un vrai modèle. C'est juste un ...  \n",
              "\n",
              "[1 rows x 25 columns]"
            ],
            "text/html": [
              "\n",
              "  <div id=\"df-685bba97-c6d7-4613-af20-bf3131b1c453\" class=\"colab-df-container\">\n",
              "    <div>\n",
              "<style scoped>\n",
              "    .dataframe tbody tr th:only-of-type {\n",
              "        vertical-align: middle;\n",
              "    }\n",
              "\n",
              "    .dataframe tbody tr th {\n",
              "        vertical-align: top;\n",
              "    }\n",
              "\n",
              "    .dataframe thead th {\n",
              "        text-align: right;\n",
              "    }\n",
              "</style>\n",
              "<table border=\"1\" class=\"dataframe\">\n",
              "  <thead>\n",
              "    <tr style=\"text-align: right;\">\n",
              "      <th></th>\n",
              "      <th>model_name</th>\n",
              "      <th>dataset_source</th>\n",
              "      <th>dataset_resampled</th>\n",
              "      <th>image_dataset_source</th>\n",
              "      <th>image_dataset_zoomed</th>\n",
              "      <th>train_size</th>\n",
              "      <th>image_size</th>\n",
              "      <th>image_color_rgb</th>\n",
              "      <th>batch_size</th>\n",
              "      <th>image_data_generator_params</th>\n",
              "      <th>...</th>\n",
              "      <th>fit_complete</th>\n",
              "      <th>f1_score</th>\n",
              "      <th>val_f1_score</th>\n",
              "      <th>test_f1_score</th>\n",
              "      <th>accuracy</th>\n",
              "      <th>val_accuracy</th>\n",
              "      <th>test_accuracy</th>\n",
              "      <th>loss</th>\n",
              "      <th>val_loss</th>\n",
              "      <th>remarks</th>\n",
              "    </tr>\n",
              "    <tr>\n",
              "      <th>model_id</th>\n",
              "      <th></th>\n",
              "      <th></th>\n",
              "      <th></th>\n",
              "      <th></th>\n",
              "      <th></th>\n",
              "      <th></th>\n",
              "      <th></th>\n",
              "      <th></th>\n",
              "      <th></th>\n",
              "      <th></th>\n",
              "      <th></th>\n",
              "      <th></th>\n",
              "      <th></th>\n",
              "      <th></th>\n",
              "      <th></th>\n",
              "      <th></th>\n",
              "      <th></th>\n",
              "      <th></th>\n",
              "      <th></th>\n",
              "      <th></th>\n",
              "      <th></th>\n",
              "    </tr>\n",
              "  </thead>\n",
              "  <tbody>\n",
              "    <tr>\n",
              "      <th>0</th>\n",
              "      <td>Example model</td>\n",
              "      <td>output/data-exploration/X_train_pre.csv</td>\n",
              "      <td>False</td>\n",
              "      <td>data/images.zip</td>\n",
              "      <td>False</td>\n",
              "      <td>42458</td>\n",
              "      <td>300</td>\n",
              "      <td>True</td>\n",
              "      <td>32</td>\n",
              "      <td>{'rescale': 0.00392156862745098, 'shear_range'...</td>\n",
              "      <td>...</td>\n",
              "      <td>True</td>\n",
              "      <td>0.42</td>\n",
              "      <td>0.37</td>\n",
              "      <td>0.35</td>\n",
              "      <td>0.57</td>\n",
              "      <td>0.39</td>\n",
              "      <td>0.41</td>\n",
              "      <td>1.567</td>\n",
              "      <td>2.657</td>\n",
              "      <td>Ceci n'est pas un vrai modèle. C'est juste un ...</td>\n",
              "    </tr>\n",
              "  </tbody>\n",
              "</table>\n",
              "<p>1 rows × 25 columns</p>\n",
              "</div>\n",
              "    <div class=\"colab-df-buttons\">\n",
              "\n",
              "  <div class=\"colab-df-container\">\n",
              "    <button class=\"colab-df-convert\" onclick=\"convertToInteractive('df-685bba97-c6d7-4613-af20-bf3131b1c453')\"\n",
              "            title=\"Convert this dataframe to an interactive table.\"\n",
              "            style=\"display:none;\">\n",
              "\n",
              "  <svg xmlns=\"http://www.w3.org/2000/svg\" height=\"24px\" viewBox=\"0 -960 960 960\">\n",
              "    <path d=\"M120-120v-720h720v720H120Zm60-500h600v-160H180v160Zm220 220h160v-160H400v160Zm0 220h160v-160H400v160ZM180-400h160v-160H180v160Zm440 0h160v-160H620v160ZM180-180h160v-160H180v160Zm440 0h160v-160H620v160Z\"/>\n",
              "  </svg>\n",
              "    </button>\n",
              "\n",
              "  <style>\n",
              "    .colab-df-container {\n",
              "      display:flex;\n",
              "      gap: 12px;\n",
              "    }\n",
              "\n",
              "    .colab-df-convert {\n",
              "      background-color: #E8F0FE;\n",
              "      border: none;\n",
              "      border-radius: 50%;\n",
              "      cursor: pointer;\n",
              "      display: none;\n",
              "      fill: #1967D2;\n",
              "      height: 32px;\n",
              "      padding: 0 0 0 0;\n",
              "      width: 32px;\n",
              "    }\n",
              "\n",
              "    .colab-df-convert:hover {\n",
              "      background-color: #E2EBFA;\n",
              "      box-shadow: 0px 1px 2px rgba(60, 64, 67, 0.3), 0px 1px 3px 1px rgba(60, 64, 67, 0.15);\n",
              "      fill: #174EA6;\n",
              "    }\n",
              "\n",
              "    .colab-df-buttons div {\n",
              "      margin-bottom: 4px;\n",
              "    }\n",
              "\n",
              "    [theme=dark] .colab-df-convert {\n",
              "      background-color: #3B4455;\n",
              "      fill: #D2E3FC;\n",
              "    }\n",
              "\n",
              "    [theme=dark] .colab-df-convert:hover {\n",
              "      background-color: #434B5C;\n",
              "      box-shadow: 0px 1px 3px 1px rgba(0, 0, 0, 0.15);\n",
              "      filter: drop-shadow(0px 1px 2px rgba(0, 0, 0, 0.3));\n",
              "      fill: #FFFFFF;\n",
              "    }\n",
              "  </style>\n",
              "\n",
              "    <script>\n",
              "      const buttonEl =\n",
              "        document.querySelector('#df-685bba97-c6d7-4613-af20-bf3131b1c453 button.colab-df-convert');\n",
              "      buttonEl.style.display =\n",
              "        google.colab.kernel.accessAllowed ? 'block' : 'none';\n",
              "\n",
              "      async function convertToInteractive(key) {\n",
              "        const element = document.querySelector('#df-685bba97-c6d7-4613-af20-bf3131b1c453');\n",
              "        const dataTable =\n",
              "          await google.colab.kernel.invokeFunction('convertToInteractive',\n",
              "                                                    [key], {});\n",
              "        if (!dataTable) return;\n",
              "\n",
              "        const docLinkHtml = 'Like what you see? Visit the ' +\n",
              "          '<a target=\"_blank\" href=https://colab.research.google.com/notebooks/data_table.ipynb>data table notebook</a>'\n",
              "          + ' to learn more about interactive tables.';\n",
              "        element.innerHTML = '';\n",
              "        dataTable['output_type'] = 'display_data';\n",
              "        await google.colab.output.renderOutput(dataTable, element);\n",
              "        const docLink = document.createElement('div');\n",
              "        docLink.innerHTML = docLinkHtml;\n",
              "        element.appendChild(docLink);\n",
              "      }\n",
              "    </script>\n",
              "  </div>\n",
              "\n",
              "    </div>\n",
              "  </div>\n"
            ]
          },
          "metadata": {},
          "execution_count": 152
        }
      ]
    },
    {
      "cell_type": "markdown",
      "source": [
        "Ajoutons une ligne correspondant à notre modèle et commençons à renseigner ses informations."
      ],
      "metadata": {
        "id": "nZaNgIR3BvwH"
      }
    },
    {
      "cell_type": "code",
      "source": [
        "add_reporting_line(model_id,\"Modèle 1.1\")"
      ],
      "metadata": {
        "id": "H_fYGbirOsB0"
      },
      "execution_count": 153,
      "outputs": []
    },
    {
      "cell_type": "markdown",
      "source": [
        "On peut déja renseigner les informations sur les données sources qu'on utilise"
      ],
      "metadata": {
        "id": "lWAb_-kKd9rO"
      }
    },
    {
      "cell_type": "code",
      "source": [
        "\n",
        "update_reporting_line(model_id,{\n",
        "    \"dataset_source\": \"output/data-exploration/X_train_pre.csv\",\n",
        "    \"dataset_resampled\": False,\n",
        "    \"image_dataset_source\" : \"data/images.zip\",\n",
        "    \"image_dataset_zoomed\" : False,\n",
        "    \"train_size\": len(X_train),\n",
        "})"
      ],
      "metadata": {
        "id": "cAawyaJHB6df"
      },
      "execution_count": 154,
      "outputs": []
    },
    {
      "cell_type": "markdown",
      "metadata": {
        "id": "Jbg-RwVOvz_E"
      },
      "source": [
        "## Générateurs d'images"
      ]
    },
    {
      "cell_type": "markdown",
      "source": [
        "Dans cette section, nous allons créer les générateurs d'image qui vont fournir au modèle les images."
      ],
      "metadata": {
        "id": "bC3JWpZOAZjJ"
      }
    },
    {
      "cell_type": "markdown",
      "source": [
        "Commençons par créer une liste ordonnée des classes que l'on va fournir aux générateurs. Plus tard cette liste nous servira à retrouver les classes correspondant aux prédictions car la methode **predict** de keras retourne une matrice dont les colonnes correspondent aux classes dans l'ordre auquel on les a fourni."
      ],
      "metadata": {
        "id": "5fzraNIcArCY"
      }
    },
    {
      "cell_type": "code",
      "execution_count": 155,
      "metadata": {
        "id": "3gBuIiXEvz_G"
      },
      "outputs": [],
      "source": [
        "classes_keras = list(np.sort(np.array(df[\"prdtypecode\"].unique(),dtype=\"str\")))\n"
      ]
    },
    {
      "cell_type": "markdown",
      "source": [
        "Pour le genrateur d'entrainement, on va volontairement limiter les transformations appliquées aux images afin de réduire le temps d'entrainement. Rappelons que nous ne sommes pas pour l'instant à la recherche de la meilleur performance. On souhaite juste avoir une base de comparaison solide pour nos différentes startégies.\n",
        "\n",
        "Pour la même raison, on restreint également la taille des images"
      ],
      "metadata": {
        "id": "gPvZuI0JOHvZ"
      }
    },
    {
      "cell_type": "code",
      "execution_count": 156,
      "metadata": {
        "colab": {
          "base_uri": "https://localhost:8080/"
        },
        "id": "z-0e0sQmvz_H",
        "outputId": "a5206492-4b8a-4d76-80e9-09fe08ab7778"
      },
      "outputs": [
        {
          "output_type": "stream",
          "name": "stdout",
          "text": [
            "Found 8491 validated image filenames belonging to 27 classes.\n"
          ]
        }
      ],
      "source": [
        "train_data_generator = ImageDataGenerator(\n",
        "    rescale=1./255,\n",
        "    rotation_range=0.5,\n",
        "    width_shift_range=0.05,\n",
        "    height_shift_range=0.05,\n",
        "    shear_range=0.05,\n",
        "    zoom_range=0.05,\n",
        "    horizontal_flip=True,\n",
        "    vertical_flip=False,\n",
        "    fill_mode='nearest'\n",
        ")\n",
        "\n",
        "update_reporting_line(model_id, {\n",
        "    \"image_data_generator_params\" : {\n",
        "      \"rescale\":1./255,\n",
        "      \"rotation_range\":0.5,\n",
        "      \"width_shift_range\":0.05,\n",
        "      \"height_shift_range\":0.05,\n",
        "      \"shear_range\":0.05,\n",
        "      \"zoom_range\":0.05,\n",
        "      \"horizontal_flip\":True,\n",
        "      \"vertical_flip\":False,\n",
        "      \"fill_mode\":'nearest'\n",
        "      }\n",
        "})\n",
        "batch_size=32\n",
        "target_img_size = (128,128,3)\n",
        "color_mode = \"rgb\"\n",
        "\n",
        "update_reporting_line(model_id, {\n",
        "    \"batch_size\":32,\n",
        "    \"image_size\": target_img_size[0],\n",
        "    \"image_color_rgb\": True\n",
        "})\n",
        "\n",
        "train_generator = train_data_generator.flow_from_dataframe(\n",
        "    dataframe=pd.DataFrame({\"imagefile\": X_train['imagefile'],\"prdtypecode\": y_train.astype(\"str\")}),\n",
        "    x_col=\"imagefile\",\n",
        "    y_col=\"prdtypecode\",\n",
        "    directory=image_path,\n",
        "    target_size=target_img_size[:2],\n",
        "    color_mode=color_mode,\n",
        "    batch_size=batch_size,\n",
        "    class_mode=\"categorical\",\n",
        "    classes=classes_keras\n",
        ")\n",
        "\n",
        "\n",
        "\n"
      ]
    },
    {
      "cell_type": "code",
      "execution_count": 157,
      "metadata": {
        "colab": {
          "base_uri": "https://localhost:8080/"
        },
        "id": "z66MaRXKvz_I",
        "outputId": "563f3b51-2922-4c5a-c550-aba31e720929"
      },
      "outputs": [
        {
          "output_type": "stream",
          "name": "stdout",
          "text": [
            "Found 8492 validated image filenames belonging to 27 classes.\n"
          ]
        }
      ],
      "source": [
        "validation_data_generator = ImageDataGenerator(\n",
        "    rescale=1./255\n",
        ")\n",
        "\n",
        "validation_generator = validation_data_generator.flow_from_dataframe(\n",
        "    dataframe=pd.DataFrame({\"imagefile\": X_val['imagefile'],\"prdtypecode\": y_val.astype(\"str\")}),\n",
        "    x_col=\"imagefile\",\n",
        "    y_col=\"prdtypecode\",\n",
        "    directory=image_path,\n",
        "    target_size=target_img_size[:2],\n",
        "    color_mode=color_mode,\n",
        "    batch_size=batch_size,\n",
        "    class_mode=\"categorical\",\n",
        "    classes=classes_keras\n",
        ")"
      ]
    },
    {
      "cell_type": "code",
      "execution_count": 158,
      "metadata": {
        "colab": {
          "base_uri": "https://localhost:8080/"
        },
        "id": "SboQ3Tp1vz_I",
        "outputId": "1b7dc5aa-8d40-4dd1-c6bc-934aa2e21cfc"
      },
      "outputs": [
        {
          "output_type": "stream",
          "name": "stdout",
          "text": [
            "Found 8492 validated image filenames belonging to 27 classes.\n"
          ]
        }
      ],
      "source": [
        "test_data_generator = ImageDataGenerator(\n",
        "    rescale=1./255\n",
        ")\n",
        "\n",
        "test_generator = test_data_generator.flow_from_dataframe(\n",
        "    dataframe=pd.DataFrame({\"imagefile\": X_test['imagefile'],\"prdtypecode\": y_test.astype(\"str\")}),\n",
        "    x_col=\"imagefile\",\n",
        "    y_col=\"prdtypecode\",\n",
        "    directory=image_path,\n",
        "    target_size=target_img_size[:2],\n",
        "    color_mode=color_mode,\n",
        "    batch_size=batch_size,\n",
        "    class_mode=\"categorical\",\n",
        "    classes=classes_keras,\n",
        "    shuffle=False\n",
        ")"
      ]
    },
    {
      "cell_type": "markdown",
      "source": [
        "## Création du model"
      ],
      "metadata": {
        "id": "bkvQqYZ0n1DN"
      }
    },
    {
      "cell_type": "markdown",
      "source": [
        "S'il ny a pas encore de modèle enregistré, on le construit puis on le compile en veillant à passer notre métrique **w_f1_score** personnalisée.\n",
        "On choisi d'utiliser le taux d'apprentissage par défaut (0.001) pour comparer nos stratégies, toujours dans l'esprit de garde une base de comparaison simple."
      ],
      "metadata": {
        "id": "t72t5p-5PIbp"
      }
    },
    {
      "cell_type": "code",
      "source": [
        "model = load_saved_model(model_id)\n",
        "start_lr = 0.001\n",
        "if model == None:\n",
        "  print(\"build model\")\n",
        "  model = build_model(target_img_size)\n",
        "  model.compile(\n",
        "      optimizer=Adam(learning_rate=start_lr),\n",
        "      loss='categorical_crossentropy',\n",
        "      metrics=['accuracy',w_f1_score]\n",
        "  )\n",
        "  update_reporting_line(model_id,{\n",
        "      \"start_lr\": start_lr,\n",
        "      \"optimizer\": \"adam\",\n",
        "  })\n",
        "\n",
        "model.summary()"
      ],
      "metadata": {
        "id": "B9-Uj7WnA1XO",
        "colab": {
          "base_uri": "https://localhost:8080/"
        },
        "outputId": "0d7bdaa0-de46-4bb8-fdca-00c7cfd64e73"
      },
      "execution_count": 159,
      "outputs": [
        {
          "output_type": "stream",
          "name": "stdout",
          "text": [
            "No previous model found at output/data-modeling-images-1/model-111.keras\n",
            "build model\n",
            "Model: \"sequential_1\"\n",
            "_________________________________________________________________\n",
            " Layer (type)                Output Shape              Param #   \n",
            "=================================================================\n",
            " conv2d_2 (Conv2D)           (None, 124, 124, 6)       456       \n",
            "                                                                 \n",
            " average_pooling2d_2 (Avera  (None, 62, 62, 6)         0         \n",
            " gePooling2D)                                                    \n",
            "                                                                 \n",
            " conv2d_3 (Conv2D)           (None, 58, 58, 16)        2416      \n",
            "                                                                 \n",
            " average_pooling2d_3 (Avera  (None, 29, 29, 16)        0         \n",
            " gePooling2D)                                                    \n",
            "                                                                 \n",
            " flatten_1 (Flatten)         (None, 13456)             0         \n",
            "                                                                 \n",
            " dense_3 (Dense)             (None, 120)               1614840   \n",
            "                                                                 \n",
            " dense_4 (Dense)             (None, 84)                10164     \n",
            "                                                                 \n",
            " dense_5 (Dense)             (None, 27)                2295      \n",
            "                                                                 \n",
            "=================================================================\n",
            "Total params: 1630171 (6.22 MB)\n",
            "Trainable params: 1630171 (6.22 MB)\n",
            "Non-trainable params: 0 (0.00 Byte)\n",
            "_________________________________________________________________\n"
          ]
        }
      ]
    },
    {
      "cell_type": "markdown",
      "source": [
        "## Entrainement du model"
      ],
      "metadata": {
        "id": "LaWuIxiy0nc2"
      }
    },
    {
      "cell_type": "markdown",
      "source": [
        "On procéde à l'entrainement du modèle uniquement si le rapport nous indique que son entrainement n'est pas fini (colonne **fit_complete**).\n",
        "\n",
        "Dans le cas de la reprise d'un entrainement interrompu, on reprend l'entrainement pour le nombre d'époques qu'il reste à accomplir pour atteindre le nombre d'époque visée **target_epochs**\n",
        "\n",
        "Une fois l'entrainement terminé, on passe **fit_complete** à **True**.\n",
        "\n",
        "Les metriques sur la progression l'entrainement ainsi que les meilleurs modèles sont récoltées et enregistrées dans la callback **LogBest**"
      ],
      "metadata": {
        "id": "bxha35QpP6o3"
      }
    },
    {
      "cell_type": "code",
      "execution_count": 160,
      "metadata": {
        "colab": {
          "base_uri": "https://localhost:8080/"
        },
        "id": "aao_wEEPvz_J",
        "outputId": "53bce87d-834f-4613-d02d-351a0bbe9e58"
      },
      "outputs": [
        {
          "output_type": "stream",
          "name": "stdout",
          "text": [
            "Epoch 1/3\n",
            "265/265 [==============================] - ETA: 0s - loss: 2.9513 - accuracy: 0.1656 - w_f1_score: 0.0964\n",
            "Found better model with val_f1_score=0.15\n",
            "save model  111 to  output/data-modeling-images-1/model-111.keras\n",
            "265/265 [==============================] - 169s 631ms/step - loss: 2.9513 - accuracy: 0.1656 - w_f1_score: 0.0964 - val_loss: 2.7741 - val_accuracy: 0.2171 - val_w_f1_score: 0.1540\n",
            "Epoch 2/3\n",
            "265/265 [==============================] - ETA: 0s - loss: 2.7073 - accuracy: 0.2276 - w_f1_score: 0.1724\n",
            "Found better model with val_f1_score=0.21\n",
            "save model  111 to  output/data-modeling-images-1/model-111.keras\n",
            "265/265 [==============================] - 106s 400ms/step - loss: 2.7073 - accuracy: 0.2276 - w_f1_score: 0.1724 - val_loss: 2.6336 - val_accuracy: 0.2587 - val_w_f1_score: 0.2076\n",
            "Epoch 3/3\n",
            "265/265 [==============================] - ETA: 0s - loss: 2.5623 - accuracy: 0.2634 - w_f1_score: 0.2194\n",
            "Found better model with val_f1_score=0.23\n",
            "save model  111 to  output/data-modeling-images-1/model-111.keras\n",
            "265/265 [==============================] - 109s 412ms/step - loss: 2.5623 - accuracy: 0.2634 - w_f1_score: 0.2194 - val_loss: 2.5120 - val_accuracy: 0.2778 - val_w_f1_score: 0.2345\n"
          ]
        }
      ],
      "source": [
        "target_epochs = 3\n",
        "if not get_reporting_value(model_id,\"fit_complete\",False):\n",
        "  update_reporting_line(model_id,{\n",
        "      \"target_epochs\": target_epochs\n",
        "  })\n",
        "  training_history = model.fit(\n",
        "      train_generator,\n",
        "      validation_data=validation_generator,\n",
        "      steps_per_epoch=train_generator.samples // batch_size,\n",
        "      validation_steps = validation_generator.samples // batch_size,\n",
        "      epochs=target_epochs - int(get_reporting_value(model_id,\"last_epoch\",0)),\n",
        "      verbose=1,\n",
        "      callbacks=[LogBest(model_id),early_stopping]\n",
        "  )\n",
        "  update_reporting_line(model_id,{\"fit_complete\":True})\n",
        "else:\n",
        "  print(\"No need to train model\")\n",
        "  training_history = None"
      ]
    },
    {
      "cell_type": "markdown",
      "source": [
        "## Evaluation du modèle"
      ],
      "metadata": {
        "id": "PDPznCir0vAj"
      }
    },
    {
      "cell_type": "markdown",
      "source": [
        "Si un entrainement a eu lieu au cours de cette execution du notebook, on recharge le meilleur modèle qu'on a trouvé"
      ],
      "metadata": {
        "id": "mhVS-e5sRk8q"
      }
    },
    {
      "cell_type": "code",
      "execution_count": 161,
      "metadata": {
        "id": "n8XShNSLDik0",
        "colab": {
          "base_uri": "https://localhost:8080/"
        },
        "outputId": "8c3c5ddf-31c0-413f-cf23-5a3d3b5ae1b8"
      },
      "outputs": [
        {
          "output_type": "stream",
          "name": "stdout",
          "text": [
            "Load previous model from output/data-modeling-images-1/model-111.keras\n"
          ]
        }
      ],
      "source": [
        "if training_history != None:\n",
        "  #if fit wad called, make sure to load best saved model, otherwise it's already loaded\n",
        "  model = load_saved_model(model_id)\n"
      ]
    },
    {
      "cell_type": "markdown",
      "source": [
        "On teste le modèle sur l'ensemble de test"
      ],
      "metadata": {
        "id": "ynclhTKgR4IS"
      }
    },
    {
      "cell_type": "code",
      "source": [
        "test_pred = model.predict(test_generator,verbose=1)"
      ],
      "metadata": {
        "colab": {
          "base_uri": "https://localhost:8080/"
        },
        "id": "E0kFOcdKrHD7",
        "outputId": "2ba86722-f3f0-44ab-b7b1-86683e7939f5"
      },
      "execution_count": 162,
      "outputs": [
        {
          "output_type": "stream",
          "name": "stdout",
          "text": [
            "266/266 [==============================] - 32s 121ms/step\n"
          ]
        }
      ]
    },
    {
      "cell_type": "markdown",
      "source": [
        "On doit convertir le resulat de **predict** depuis le format renvoyés par keras qui est une matrice de probabilités avec les classes en colonnes et les observations du jeu de test en lignes en un tableau à 1 dimension contenant les classes prédites pour chaque observation.\n",
        "\n",
        "Pour cela, on extrait pour chaque observation l'index de la probabilité max de prédiction. On utilise ensuite cet index pour retrouver la classe correspondante dans **classes_keras**, la liste des classes telle qu'on la fourni à keras."
      ],
      "metadata": {
        "id": "FvqQhexzR_bK"
      }
    },
    {
      "cell_type": "code",
      "source": [
        "test_pred_class = np.argmax(test_pred,axis=1)\n",
        "test_pred_class = [classes_keras[c] for c in test_pred_class]"
      ],
      "metadata": {
        "id": "LgI7yv_w1Dt6"
      },
      "execution_count": 163,
      "outputs": []
    },
    {
      "cell_type": "markdown",
      "source": [
        "A partir des classes prédites et des observations réelles, on calcul, le score f1 ainsi que l'accuracy de notre modèle, toujours sur le jeu de test.\n",
        "\n",
        "On enregistrer ces infos dans le rapport."
      ],
      "metadata": {
        "id": "uPzzQfAhi2J1"
      }
    },
    {
      "cell_type": "code",
      "source": [
        "f1_weighted = f1_score(y_test.astype(\"str\"),test_pred_class,average=\"weighted\")\n",
        "accuracy = accuracy_score(y_test.astype(\"str\"),test_pred_class)\n",
        "update_reporting_line(model_id,{\n",
        "    \"test_f1_score\":f1_weighted,\n",
        "    \"test_accuracy\":f1_weighted\n",
        "})\n",
        "\n",
        "print(\"f1_score on test dataset=%.2f\" % f1_weighted)\n",
        "print(\"accuracy on test dataset=%.2f\" % accuracy)"
      ],
      "metadata": {
        "colab": {
          "base_uri": "https://localhost:8080/"
        },
        "id": "OqaR_Rro09qF",
        "outputId": "c1f79887-25d6-4972-e693-0d40b54202dd"
      },
      "execution_count": 164,
      "outputs": [
        {
          "output_type": "stream",
          "name": "stdout",
          "text": [
            "f1_score on test dataset=0.23\n",
            "accuracy on test dataset=0.28\n"
          ]
        }
      ]
    },
    {
      "cell_type": "markdown",
      "source": [
        "On récupère l'historique d'entrainement complet gràce à **get_full_training_history** qu'on va enregistrer puis on affiche deux graphiques:\n",
        "\n",
        "* L'évolution de l'accuracy et du score f1 pendant en fonction des époques\n",
        "* L'évolution des indicateurs de perte **loss** et **val_loss**"
      ],
      "metadata": {
        "id": "YR6wELfmjYGS"
      }
    },
    {
      "cell_type": "code",
      "source": [
        "history = get_full_training_history(model_id,training_history)\n",
        "if history != None:\n",
        "  save_training_history(model_id,history)\n",
        "  #to avoid concat of same history when re-executing this cell\n",
        "  training_history = None\n",
        "  plot_training_history(history)"
      ],
      "metadata": {
        "id": "_BuEDL316zhc",
        "colab": {
          "base_uri": "https://localhost:8080/",
          "height": 480
        },
        "outputId": "377e2737-1a76-4279-c959-f4523c9b3c2a"
      },
      "execution_count": 165,
      "outputs": [
        {
          "output_type": "display_data",
          "data": {
            "text/plain": [
              "<Figure size 1200x500 with 2 Axes>"
            ],
            "image/png": "[encoded data removed]"
          },
          "metadata": {}
        }
      ]
    },
    {
      "cell_type": "markdown",
      "source": [
        "todo: comment"
      ],
      "metadata": {
        "id": "yMtSYXIPkKjP"
      }
    },
    {
      "cell_type": "markdown",
      "source": [
        "On va maintenant afficher le rapport de classification qui va nous donner une vision détaillée par classe des scores de prédiction."
      ],
      "metadata": {
        "id": "r_gdsutnkNCW"
      }
    },
    {
      "cell_type": "code",
      "execution_count": 166,
      "metadata": {
        "colab": {
          "base_uri": "https://localhost:8080/"
        },
        "id": "IP9_UWfaD8dh",
        "outputId": "c5951da4-2f2d-4cfb-a2ff-3365382cef6b"
      },
      "outputs": [
        {
          "output_type": "stream",
          "name": "stdout",
          "text": [
            "              precision    recall  f1-score   support\n",
            "\n",
            "          10       0.21      0.41      0.28       311\n",
            "        1140       0.12      0.09      0.10       267\n",
            "        1160       0.69      0.46      0.55       396\n",
            "        1180       0.00      0.00      0.00        76\n",
            "        1280       0.15      0.11      0.13       487\n",
            "        1281       0.00      0.00      0.00       207\n",
            "        1300       0.22      0.31      0.26       505\n",
            "        1301       0.00      0.00      0.00        81\n",
            "        1302       0.00      0.00      0.00       249\n",
            "        1320       0.18      0.03      0.05       324\n",
            "        1560       0.13      0.03      0.05       507\n",
            "        1920       0.40      0.55      0.47       431\n",
            "        1940       0.00      0.00      0.00        81\n",
            "        2060       0.23      0.31      0.27       499\n",
            "        2220       0.00      0.00      0.00        82\n",
            "        2280       0.47      0.30      0.37       476\n",
            "        2403       0.28      0.46      0.35       477\n",
            "        2462       0.33      0.06      0.11       142\n",
            "        2522       0.21      0.26      0.23       499\n",
            "        2582       0.00      0.00      0.00       259\n",
            "        2583       0.29      0.70      0.41      1021\n",
            "        2585       0.00      0.00      0.00       250\n",
            "        2705       0.32      0.57      0.41       276\n",
            "        2905       0.23      0.62      0.34        87\n",
            "          40       0.25      0.06      0.09       251\n",
            "          50       0.24      0.03      0.05       168\n",
            "          60       0.00      0.00      0.00        83\n",
            "\n",
            "    accuracy                           0.28      8492\n",
            "   macro avg       0.18      0.20      0.17      8492\n",
            "weighted avg       0.24      0.28      0.23      8492\n",
            "\n"
          ]
        },
        {
          "output_type": "stream",
          "name": "stderr",
          "text": [
            "/usr/local/lib/python3.10/dist-packages/sklearn/metrics/_classification.py:1344: UndefinedMetricWarning: Precision and F-score are ill-defined and being set to 0.0 in labels with no predicted samples. Use `zero_division` parameter to control this behavior.\n",
            "  _warn_prf(average, modifier, msg_start, len(result))\n",
            "/usr/local/lib/python3.10/dist-packages/sklearn/metrics/_classification.py:1344: UndefinedMetricWarning: Precision and F-score are ill-defined and being set to 0.0 in labels with no predicted samples. Use `zero_division` parameter to control this behavior.\n",
            "  _warn_prf(average, modifier, msg_start, len(result))\n",
            "/usr/local/lib/python3.10/dist-packages/sklearn/metrics/_classification.py:1344: UndefinedMetricWarning: Precision and F-score are ill-defined and being set to 0.0 in labels with no predicted samples. Use `zero_division` parameter to control this behavior.\n",
            "  _warn_prf(average, modifier, msg_start, len(result))\n"
          ]
        }
      ],
      "source": [
        "\n",
        "print(classification_report(y_test.astype(\"str\"),test_pred_class))\n"
      ]
    },
    {
      "cell_type": "markdown",
      "source": [
        "todo: comment"
      ],
      "metadata": {
        "id": "EjOPJq-fkZF4"
      }
    },
    {
      "cell_type": "markdown",
      "source": [
        "Affichons la matrice de confusion sous forme de heatmap pour plus de lisibilité."
      ],
      "metadata": {
        "id": "Xr8wjdtjkblI"
      }
    },
    {
      "cell_type": "code",
      "execution_count": 167,
      "metadata": {
        "colab": {
          "base_uri": "https://localhost:8080/",
          "height": 634
        },
        "id": "YBf7Z4D8mrCQ",
        "outputId": "2a3b8dc1-1193-4c62-a5b9-653f18df6d27"
      },
      "outputs": [
        {
          "output_type": "display_data",
          "data": {
            "text/plain": [
              "<Figure size 1500x800 with 2 Axes>"
            ],
            "image/png": "[encoded data removed]"
          },
          "metadata": {}
        }
      ],
      "source": [
        "cm = pd.crosstab(y_test,test_pred_class,rownames=[\"réel\"],colnames=[\"prédit\"])\n",
        "plot_confusion_matrix(np.array(cm))\n",
        "\n"
      ]
    },
    {
      "cell_type": "markdown",
      "source": [
        "todo: comment"
      ],
      "metadata": {
        "id": "9E7UJmlrki9U"
      }
    },
    {
      "cell_type": "markdown",
      "source": [
        "## Résumé"
      ],
      "metadata": {
        "id": "sl2T5jQGknkw"
      }
    },
    {
      "cell_type": "markdown",
      "source": [
        "Nous avons atteint la fin de l'évaluation de cette modélisation. Affichons le rapport du modèle"
      ],
      "metadata": {
        "id": "DZX8i052lEfv"
      }
    },
    {
      "cell_type": "code",
      "source": [
        "reporting_df.loc[model_id].T"
      ],
      "metadata": {
        "colab": {
          "base_uri": "https://localhost:8080/"
        },
        "id": "AjzGSYNvlKit",
        "outputId": "b3b2964a-41fc-4aff-9e18-839dafe08fb1"
      },
      "execution_count": 168,
      "outputs": [
        {
          "output_type": "execute_result",
          "data": {
            "text/plain": [
              "model_name                                                            Modèle 1.1\n",
              "dataset_source                           output/data-exploration/X_train_pre.csv\n",
              "dataset_resampled                                                          False\n",
              "image_dataset_source                                             data/images.zip\n",
              "image_dataset_zoomed                                                       False\n",
              "train_size                                                                8491.0\n",
              "image_size                                                                 128.0\n",
              "image_color_rgb                                                             True\n",
              "batch_size                                                                  32.0\n",
              "image_data_generator_params    {'rescale': 0.00392156862745098, 'rotation_ran...\n",
              "start_lr                                                                   0.001\n",
              "last_lr                                                                    0.001\n",
              "optimizer                                                                   adam\n",
              "target_epochs                                                                3.0\n",
              "last_epoch                                                                   3.0\n",
              "fit_complete                                                                True\n",
              "f1_score                                                                0.219402\n",
              "val_f1_score                                                            0.234481\n",
              "test_f1_score                                                           0.232259\n",
              "accuracy                                                                0.263388\n",
              "val_accuracy                                                             0.27783\n",
              "test_accuracy                                                           0.232259\n",
              "loss                                                                    2.562348\n",
              "val_loss                                                                2.511956\n",
              "remarks                                                                      NaN\n",
              "Name: 111, dtype: object"
            ]
          },
          "metadata": {},
          "execution_count": 168
        }
      ]
    },
    {
      "cell_type": "markdown",
      "source": [
        "# Modélisation 1.2"
      ],
      "metadata": {
        "id": "l2jhPALamwB8"
      }
    },
    {
      "cell_type": "markdown",
      "source": [
        "On va maintenant tester les paramètres du même modèles mais en utilisant cette fois les images zoomées. Tous les autres paramètres restent identiques"
      ],
      "metadata": {
        "id": "ipDqaSyym5RU"
      }
    },
    {
      "cell_type": "markdown",
      "source": [
        "Changeons la variables **model_id** pour qu'elle corresponde au modèle en cours"
      ],
      "metadata": {
        "id": "RDwiV8lXvmwt"
      }
    },
    {
      "cell_type": "code",
      "source": [
        "model_id = 112"
      ],
      "metadata": {
        "id": "zYRm4W9LvxP4"
      },
      "execution_count": 169,
      "outputs": []
    },
    {
      "cell_type": "markdown",
      "source": [
        "## Import des données"
      ],
      "metadata": {
        "id": "rJVNiypcmwCH"
      }
    },
    {
      "cell_type": "markdown",
      "source": [
        "Cette fois-ci, on importe donc les images zoomées qui ont été produites par le notebook **data_preprocessing_images**"
      ],
      "metadata": {
        "id": "ugSFTa5CmwCH"
      }
    },
    {
      "cell_type": "code",
      "execution_count": 170,
      "metadata": {
        "colab": {
          "base_uri": "https://localhost:8080/"
        },
        "outputId": "b0cc5e57-3e10-46f3-b772-017a517ee1c9",
        "id": "Kgyd8IRCmwCI"
      },
      "outputs": [
        {
          "output_type": "stream",
          "name": "stdout",
          "text": [
            "images already imported from drive\n"
          ]
        }
      ],
      "source": [
        "image_path = import_images(\"output/data-preprocessing-images/images_pre.zip\",\"/tmp/rakuten-images-2\")"
      ]
    },
    {
      "cell_type": "markdown",
      "source": [
        "On charge maintenant le csv des données modifié par le même notebook. La seule différence par rapport au dataset de la modélisation 1.1, étant l'ajout d'une colonne **imagefile** contenant les chemins relatifs de fichiers.  "
      ],
      "metadata": {
        "id": "mFWKNSDumwCI"
      }
    },
    {
      "cell_type": "code",
      "execution_count": 171,
      "metadata": {
        "colab": {
          "base_uri": "https://localhost:8080/",
          "height": 536
        },
        "outputId": "ffbb1031-06c8-4d08-8b78-f31a43a325f2",
        "id": "hYdbxeaPmwCI"
      },
      "outputs": [
        {
          "output_type": "execute_result",
          "data": {
            "text/plain": [
              "   index   productid     imageid  prdtypecode  \\\n",
              "0      0  3804725264  1263597046           10   \n",
              "1      1   436067568  1008141237         2280   \n",
              "2      2   201115110   938777978           50   \n",
              "3      3    50418756   457047496         1280   \n",
              "4      4   278535884  1077757786         2705   \n",
              "\n",
              "                                                text lang  \\\n",
              "0  Olivia: Personalisiertes Notizbuch / 150 Seite...   de   \n",
              "1  Journal Des Arts (Le) N° 133 Du 28/09/2001 - L...   fr   \n",
              "2  Grand Stylet Ergonomique Bleu Gamepad Nintendo...   fr   \n",
              "3  Peluche Donald - Europe - Disneyland 2000 (Mar...   de   \n",
              "4  La Guerre Des Tuques - Luc a des idées de gran...   fr   \n",
              "\n",
              "                                             text_fr  \\\n",
              "0  Olivia: cahier personnalisé / 150 pages / gril...   \n",
              "1  Journal Des Arts (Le) N° 133 Du 28/09/2001 - L...   \n",
              "2  Grand Stylet Ergonomique Bleu Gamepad Nintendo...   \n",
              "3  Peluche Donald - Europe - Disneyland 2000 (Mar...   \n",
              "4  La Guerre Des Tuques - Luc a des idées de gran...   \n",
              "\n",
              "                                     imagefile  \n",
              "0   10/image_1263597046_product_3804725264.jpg  \n",
              "1  2280/image_1008141237_product_436067568.jpg  \n",
              "2     50/image_938777978_product_201115110.jpg  \n",
              "3    1280/image_457047496_product_50418756.jpg  \n",
              "4  2705/image_1077757786_product_278535884.jpg  "
            ],
            "text/html": [
              "\n",
              "  <div id=\"df-ae2bac6a-0e7f-484e-a86a-62d3ff3f0263\" class=\"colab-df-container\">\n",
              "    <div>\n",
              "<style scoped>\n",
              "    .dataframe tbody tr th:only-of-type {\n",
              "        vertical-align: middle;\n",
              "    }\n",
              "\n",
              "    .dataframe tbody tr th {\n",
              "        vertical-align: top;\n",
              "    }\n",
              "\n",
              "    .dataframe thead th {\n",
              "        text-align: right;\n",
              "    }\n",
              "</style>\n",
              "<table border=\"1\" class=\"dataframe\">\n",
              "  <thead>\n",
              "    <tr style=\"text-align: right;\">\n",
              "      <th></th>\n",
              "      <th>index</th>\n",
              "      <th>productid</th>\n",
              "      <th>imageid</th>\n",
              "      <th>prdtypecode</th>\n",
              "      <th>text</th>\n",
              "      <th>lang</th>\n",
              "      <th>text_fr</th>\n",
              "      <th>imagefile</th>\n",
              "    </tr>\n",
              "  </thead>\n",
              "  <tbody>\n",
              "    <tr>\n",
              "      <th>0</th>\n",
              "      <td>0</td>\n",
              "      <td>3804725264</td>\n",
              "      <td>1263597046</td>\n",
              "      <td>10</td>\n",
              "      <td>Olivia: Personalisiertes Notizbuch / 150 Seite...</td>\n",
              "      <td>de</td>\n",
              "      <td>Olivia: cahier personnalisé / 150 pages / gril...</td>\n",
              "      <td>10/image_1263597046_product_3804725264.jpg</td>\n",
              "    </tr>\n",
              "    <tr>\n",
              "      <th>1</th>\n",
              "      <td>1</td>\n",
              "      <td>436067568</td>\n",
              "      <td>1008141237</td>\n",
              "      <td>2280</td>\n",
              "      <td>Journal Des Arts (Le) N° 133 Du 28/09/2001 - L...</td>\n",
              "      <td>fr</td>\n",
              "      <td>Journal Des Arts (Le) N° 133 Du 28/09/2001 - L...</td>\n",
              "      <td>2280/image_1008141237_product_436067568.jpg</td>\n",
              "    </tr>\n",
              "    <tr>\n",
              "      <th>2</th>\n",
              "      <td>2</td>\n",
              "      <td>201115110</td>\n",
              "      <td>938777978</td>\n",
              "      <td>50</td>\n",
              "      <td>Grand Stylet Ergonomique Bleu Gamepad Nintendo...</td>\n",
              "      <td>fr</td>\n",
              "      <td>Grand Stylet Ergonomique Bleu Gamepad Nintendo...</td>\n",
              "      <td>50/image_938777978_product_201115110.jpg</td>\n",
              "    </tr>\n",
              "    <tr>\n",
              "      <th>3</th>\n",
              "      <td>3</td>\n",
              "      <td>50418756</td>\n",
              "      <td>457047496</td>\n",
              "      <td>1280</td>\n",
              "      <td>Peluche Donald - Europe - Disneyland 2000 (Mar...</td>\n",
              "      <td>de</td>\n",
              "      <td>Peluche Donald - Europe - Disneyland 2000 (Mar...</td>\n",
              "      <td>1280/image_457047496_product_50418756.jpg</td>\n",
              "    </tr>\n",
              "    <tr>\n",
              "      <th>4</th>\n",
              "      <td>4</td>\n",
              "      <td>278535884</td>\n",
              "      <td>1077757786</td>\n",
              "      <td>2705</td>\n",
              "      <td>La Guerre Des Tuques - Luc a des idées de gran...</td>\n",
              "      <td>fr</td>\n",
              "      <td>La Guerre Des Tuques - Luc a des idées de gran...</td>\n",
              "      <td>2705/image_1077757786_product_278535884.jpg</td>\n",
              "    </tr>\n",
              "  </tbody>\n",
              "</table>\n",
              "</div>\n",
              "    <div class=\"colab-df-buttons\">\n",
              "\n",
              "  <div class=\"colab-df-container\">\n",
              "    <button class=\"colab-df-convert\" onclick=\"convertToInteractive('df-ae2bac6a-0e7f-484e-a86a-62d3ff3f0263')\"\n",
              "            title=\"Convert this dataframe to an interactive table.\"\n",
              "            style=\"display:none;\">\n",
              "\n",
              "  <svg xmlns=\"http://www.w3.org/2000/svg\" height=\"24px\" viewBox=\"0 -960 960 960\">\n",
              "    <path d=\"M120-120v-720h720v720H120Zm60-500h600v-160H180v160Zm220 220h160v-160H400v160Zm0 220h160v-160H400v160ZM180-400h160v-160H180v160Zm440 0h160v-160H620v160ZM180-180h160v-160H180v160Zm440 0h160v-160H620v160Z\"/>\n",
              "  </svg>\n",
              "    </button>\n",
              "\n",
              "  <style>\n",
              "    .colab-df-container {\n",
              "      display:flex;\n",
              "      gap: 12px;\n",
              "    }\n",
              "\n",
              "    .colab-df-convert {\n",
              "      background-color: #E8F0FE;\n",
              "      border: none;\n",
              "      border-radius: 50%;\n",
              "      cursor: pointer;\n",
              "      display: none;\n",
              "      fill: #1967D2;\n",
              "      height: 32px;\n",
              "      padding: 0 0 0 0;\n",
              "      width: 32px;\n",
              "    }\n",
              "\n",
              "    .colab-df-convert:hover {\n",
              "      background-color: #E2EBFA;\n",
              "      box-shadow: 0px 1px 2px rgba(60, 64, 67, 0.3), 0px 1px 3px 1px rgba(60, 64, 67, 0.15);\n",
              "      fill: #174EA6;\n",
              "    }\n",
              "\n",
              "    .colab-df-buttons div {\n",
              "      margin-bottom: 4px;\n",
              "    }\n",
              "\n",
              "    [theme=dark] .colab-df-convert {\n",
              "      background-color: #3B4455;\n",
              "      fill: #D2E3FC;\n",
              "    }\n",
              "\n",
              "    [theme=dark] .colab-df-convert:hover {\n",
              "      background-color: #434B5C;\n",
              "      box-shadow: 0px 1px 3px 1px rgba(0, 0, 0, 0.15);\n",
              "      filter: drop-shadow(0px 1px 2px rgba(0, 0, 0, 0.3));\n",
              "      fill: #FFFFFF;\n",
              "    }\n",
              "  </style>\n",
              "\n",
              "    <script>\n",
              "      const buttonEl =\n",
              "        document.querySelector('#df-ae2bac6a-0e7f-484e-a86a-62d3ff3f0263 button.colab-df-convert');\n",
              "      buttonEl.style.display =\n",
              "        google.colab.kernel.accessAllowed ? 'block' : 'none';\n",
              "\n",
              "      async function convertToInteractive(key) {\n",
              "        const element = document.querySelector('#df-ae2bac6a-0e7f-484e-a86a-62d3ff3f0263');\n",
              "        const dataTable =\n",
              "          await google.colab.kernel.invokeFunction('convertToInteractive',\n",
              "                                                    [key], {});\n",
              "        if (!dataTable) return;\n",
              "\n",
              "        const docLinkHtml = 'Like what you see? Visit the ' +\n",
              "          '<a target=\"_blank\" href=https://colab.research.google.com/notebooks/data_table.ipynb>data table notebook</a>'\n",
              "          + ' to learn more about interactive tables.';\n",
              "        element.innerHTML = '';\n",
              "        dataTable['output_type'] = 'display_data';\n",
              "        await google.colab.output.renderOutput(dataTable, element);\n",
              "        const docLink = document.createElement('div');\n",
              "        docLink.innerHTML = docLinkHtml;\n",
              "        element.appendChild(docLink);\n",
              "      }\n",
              "    </script>\n",
              "  </div>\n",
              "\n",
              "\n",
              "<div id=\"df-a1522c30-5f0f-4553-b12f-2a018c6ede71\">\n",
              "  <button class=\"colab-df-quickchart\" onclick=\"quickchart('df-a1522c30-5f0f-4553-b12f-2a018c6ede71')\"\n",
              "            title=\"Suggest charts\"\n",
              "            style=\"display:none;\">\n",
              "\n",
              "<svg xmlns=\"http://www.w3.org/2000/svg\" height=\"24px\"viewBox=\"0 0 24 24\"\n",
              "     width=\"24px\">\n",
              "    <g>\n",
              "        <path d=\"M19 3H5c-1.1 0-2 .9-2 2v14c0 1.1.9 2 2 2h14c1.1 0 2-.9 2-2V5c0-1.1-.9-2-2-2zM9 17H7v-7h2v7zm4 0h-2V7h2v10zm4 0h-2v-4h2v4z\"/>\n",
              "    </g>\n",
              "</svg>\n",
              "  </button>\n",
              "\n",
              "<style>\n",
              "  .colab-df-quickchart {\n",
              "      --bg-color: #E8F0FE;\n",
              "      --fill-color: #1967D2;\n",
              "      --hover-bg-color: #E2EBFA;\n",
              "      --hover-fill-color: #174EA6;\n",
              "      --disabled-fill-color: #AAA;\n",
              "      --disabled-bg-color: #DDD;\n",
              "  }\n",
              "\n",
              "  [theme=dark] .colab-df-quickchart {\n",
              "      --bg-color: #3B4455;\n",
              "      --fill-color: #D2E3FC;\n",
              "      --hover-bg-color: #434B5C;\n",
              "      --hover-fill-color: #FFFFFF;\n",
              "      --disabled-bg-color: #3B4455;\n",
              "      --disabled-fill-color: #666;\n",
              "  }\n",
              "\n",
              "  .colab-df-quickchart {\n",
              "    background-color: var(--bg-color);\n",
              "    border: none;\n",
              "    border-radius: 50%;\n",
              "    cursor: pointer;\n",
              "    display: none;\n",
              "    fill: var(--fill-color);\n",
              "    height: 32px;\n",
              "    padding: 0;\n",
              "    width: 32px;\n",
              "  }\n",
              "\n",
              "  .colab-df-quickchart:hover {\n",
              "    background-color: var(--hover-bg-color);\n",
              "    box-shadow: 0 1px 2px rgba(60, 64, 67, 0.3), 0 1px 3px 1px rgba(60, 64, 67, 0.15);\n",
              "    fill: var(--button-hover-fill-color);\n",
              "  }\n",
              "\n",
              "  .colab-df-quickchart-complete:disabled,\n",
              "  .colab-df-quickchart-complete:disabled:hover {\n",
              "    background-color: var(--disabled-bg-color);\n",
              "    fill: var(--disabled-fill-color);\n",
              "    box-shadow: none;\n",
              "  }\n",
              "\n",
              "  .colab-df-spinner {\n",
              "    border: 2px solid var(--fill-color);\n",
              "    border-color: transparent;\n",
              "    border-bottom-color: var(--fill-color);\n",
              "    animation:\n",
              "      spin 1s steps(1) infinite;\n",
              "  }\n",
              "\n",
              "  @keyframes spin {\n",
              "    0% {\n",
              "      border-color: transparent;\n",
              "      border-bottom-color: var(--fill-color);\n",
              "      border-left-color: var(--fill-color);\n",
              "    }\n",
              "    20% {\n",
              "      border-color: transparent;\n",
              "      border-left-color: var(--fill-color);\n",
              "      border-top-color: var(--fill-color);\n",
              "    }\n",
              "    30% {\n",
              "      border-color: transparent;\n",
              "      border-left-color: var(--fill-color);\n",
              "      border-top-color: var(--fill-color);\n",
              "      border-right-color: var(--fill-color);\n",
              "    }\n",
              "    40% {\n",
              "      border-color: transparent;\n",
              "      border-right-color: var(--fill-color);\n",
              "      border-top-color: var(--fill-color);\n",
              "    }\n",
              "    60% {\n",
              "      border-color: transparent;\n",
              "      border-right-color: var(--fill-color);\n",
              "    }\n",
              "    80% {\n",
              "      border-color: transparent;\n",
              "      border-right-color: var(--fill-color);\n",
              "      border-bottom-color: var(--fill-color);\n",
              "    }\n",
              "    90% {\n",
              "      border-color: transparent;\n",
              "      border-bottom-color: var(--fill-color);\n",
              "    }\n",
              "  }\n",
              "</style>\n",
              "\n",
              "  <script>\n",
              "    async function quickchart(key) {\n",
              "      const quickchartButtonEl =\n",
              "        document.querySelector('#' + key + ' button');\n",
              "      quickchartButtonEl.disabled = true;  // To prevent multiple clicks.\n",
              "      quickchartButtonEl.classList.add('colab-df-spinner');\n",
              "      try {\n",
              "        const charts = await google.colab.kernel.invokeFunction(\n",
              "            'suggestCharts', [key], {});\n",
              "      } catch (error) {\n",
              "        console.error('Error during call to suggestCharts:', error);\n",
              "      }\n",
              "      quickchartButtonEl.classList.remove('colab-df-spinner');\n",
              "      quickchartButtonEl.classList.add('colab-df-quickchart-complete');\n",
              "    }\n",
              "    (() => {\n",
              "      let quickchartButtonEl =\n",
              "        document.querySelector('#df-a1522c30-5f0f-4553-b12f-2a018c6ede71 button');\n",
              "      quickchartButtonEl.style.display =\n",
              "        google.colab.kernel.accessAllowed ? 'block' : 'none';\n",
              "    })();\n",
              "  </script>\n",
              "</div>\n",
              "    </div>\n",
              "  </div>\n"
            ]
          },
          "metadata": {},
          "execution_count": 171
        }
      ],
      "source": [
        "df = pd.read_csv(\"output/data-preprocessing-images/df_pre.csv\")\n",
        "df.head()"
      ]
    },
    {
      "cell_type": "markdown",
      "source": [
        "## Preprocessing"
      ],
      "metadata": {
        "id": "RFcypZxtmwCJ"
      }
    },
    {
      "cell_type": "markdown",
      "source": [
        "On doit refaire la préparation des ensembles de données d'entrainement, de validation et de test, ayant changé de dataset source.\n",
        "\n",
        "Malrgé le changement de source de données, la préparation reste identique"
      ],
      "metadata": {
        "id": "b3N7fhxCmwCK"
      }
    },
    {
      "cell_type": "markdown",
      "source": [
        "Créons deux variables **X** et **y** qui vont contenir respectivement, les variables explicatives et la variable cible."
      ],
      "metadata": {
        "id": "rl5o7d8smwCK"
      }
    },
    {
      "cell_type": "code",
      "source": [
        "X = df.drop(\"prdtypecode\",axis=1)\n",
        "y = df[\"prdtypecode\"]"
      ],
      "metadata": {
        "id": "Hx9e55XkmwCK"
      },
      "execution_count": 172,
      "outputs": []
    },
    {
      "cell_type": "markdown",
      "source": [
        "Commençons par scinder les données en un set d’entraînement (**X_train**,**y_train**) et un set de test (**X_test**,**y_test**).\n",
        "\n",
        "Ce premier ensemble de test comprend 20% des données choisies aléatoirement mais en respectant la répartition initiale des classes. On veille également à toujours passer le même **random_state** pour s'assurer que la fonction renvoie toujours le même résultat si on doit ré-executer ce notebook plus tard."
      ],
      "metadata": {
        "id": "ELfjiY-JmwCK"
      }
    },
    {
      "cell_type": "code",
      "source": [
        "X_train, X_test, y_train, y_test = train_test_split(X,y,test_size=0.2,random_state = random_state,shuffle=True,stratify=y)"
      ],
      "metadata": {
        "id": "gxJxT5AfmwCL"
      },
      "execution_count": 173,
      "outputs": []
    },
    {
      "cell_type": "markdown",
      "source": [
        "On va maintenant couper en deux l'ensemble de test pour que la moitié de ses données aillent dans un ensemble de validation (**X_val**,**y_val**)."
      ],
      "metadata": {
        "id": "XYnrPPZkmwCL"
      }
    },
    {
      "cell_type": "code",
      "source": [
        "X_val, X_test, y_val, y_test = train_test_split(X_test,y_test,test_size=0.5,random_state = random_state,shuffle=True,stratify=y_test)"
      ],
      "metadata": {
        "id": "xS2JDYNsmwCL"
      },
      "execution_count": 174,
      "outputs": []
    },
    {
      "cell_type": "markdown",
      "source": [
        "Finalement, on réduit encore l'ensemble d'entrainement pour qu'il contienne environ 50% des données de départ."
      ],
      "metadata": {
        "id": "ISJhQX4qmwCL"
      }
    },
    {
      "cell_type": "code",
      "source": [
        "print(\"Target train size is\",target_train_size)\n",
        "train_split_rate = (len(X_train) - target_train_size) / len(X_train)\n",
        "X_train, X_none, y_train, y_none = train_test_split(X_train,y_train,test_size=train_split_rate,random_state = random_state,\n",
        "                                                    shuffle=True,stratify=y_train)\n",
        "print(\"X_train length is now\",len(X_train))"
      ],
      "metadata": {
        "colab": {
          "base_uri": "https://localhost:8080/"
        },
        "outputId": "472b7ad6-46ec-4fef-9700-f0a6fc4471e9",
        "id": "EI4Rg9P1mwCL"
      },
      "execution_count": 175,
      "outputs": [
        {
          "output_type": "stream",
          "name": "stdout",
          "text": [
            "Target train size is 8491\n",
            "X_train length is now 8491\n"
          ]
        }
      ]
    },
    {
      "cell_type": "markdown",
      "source": [
        "## Initialisation du rapport de modéle"
      ],
      "metadata": {
        "id": "OJ-9u7vsmwCM"
      }
    },
    {
      "cell_type": "markdown",
      "source": [
        "Si un fichier **model_reporting.csv** existe, on le charge. Autrement, on en crée un nouveau."
      ],
      "metadata": {
        "id": "Dxyfs0-mmwCM"
      }
    },
    {
      "cell_type": "code",
      "source": [
        "Path(output_dir).mkdir(parents=True, exist_ok=True)\n",
        "try:\n",
        "  reporting_df = load_reporting_df()\n",
        "  print(\"loaded \",output_dir+\"/model_reporting.csv\")\n",
        "except FileNotFoundError:\n",
        "  reporting_df = create_reporting_df()\n",
        "  print(output_dir+\"/model_reporting.csv\",\"not found. creating one\")\n"
      ],
      "metadata": {
        "colab": {
          "base_uri": "https://localhost:8080/"
        },
        "outputId": "f0074a97-062b-4f52-eed1-899f1006ff4c",
        "id": "Eu03luEymwCM"
      },
      "execution_count": 176,
      "outputs": [
        {
          "output_type": "stream",
          "name": "stdout",
          "text": [
            "loaded  output/data-modeling-images-1/model_reporting.csv\n"
          ]
        }
      ]
    },
    {
      "cell_type": "code",
      "source": [
        "reporting_df.head()"
      ],
      "metadata": {
        "colab": {
          "base_uri": "https://localhost:8080/",
          "height": 314
        },
        "outputId": "2b005de6-a827-4567-c826-71ece397d4e1",
        "id": "PGxqCZyymwCN"
      },
      "execution_count": 177,
      "outputs": [
        {
          "output_type": "execute_result",
          "data": {
            "text/plain": [
              "             model_name                           dataset_source  \\\n",
              "model_id                                                           \n",
              "0         Example model  output/data-exploration/X_train_pre.csv   \n",
              "111          Modèle 1.1  output/data-exploration/X_train_pre.csv   \n",
              "\n",
              "          dataset_resampled image_dataset_source  image_dataset_zoomed  \\\n",
              "model_id                                                                 \n",
              "0                     False      data/images.zip                 False   \n",
              "111                   False      data/images.zip                 False   \n",
              "\n",
              "          train_size  image_size  image_color_rgb  batch_size  \\\n",
              "model_id                                                        \n",
              "0            42458.0       300.0             True        32.0   \n",
              "111           8491.0       128.0             True        32.0   \n",
              "\n",
              "                                image_data_generator_params  ...  \\\n",
              "model_id                                                     ...   \n",
              "0         {'rescale': 0.00392156862745098, 'shear_range'...  ...   \n",
              "111       {'rescale': 0.00392156862745098, 'rotation_ran...  ...   \n",
              "\n",
              "          fit_complete  f1_score val_f1_score  test_f1_score  accuracy  \\\n",
              "model_id                                                                 \n",
              "0                 True  0.420000     0.370000       0.350000  0.570000   \n",
              "111               True  0.219402     0.234481       0.232259  0.263388   \n",
              "\n",
              "          val_accuracy  test_accuracy      loss  val_loss  \\\n",
              "model_id                                                    \n",
              "0              0.39000       0.410000  1.567000  2.657000   \n",
              "111            0.27783       0.232259  2.562348  2.511956   \n",
              "\n",
              "                                                    remarks  \n",
              "model_id                                                     \n",
              "0         Ceci n'est pas un vrai modèle. C'est juste un ...  \n",
              "111                                                     NaN  \n",
              "\n",
              "[2 rows x 25 columns]"
            ],
            "text/html": [
              "\n",
              "  <div id=\"df-aee9cb28-4e10-4e7f-b1a5-6c38a7f5e446\" class=\"colab-df-container\">\n",
              "    <div>\n",
              "<style scoped>\n",
              "    .dataframe tbody tr th:only-of-type {\n",
              "        vertical-align: middle;\n",
              "    }\n",
              "\n",
              "    .dataframe tbody tr th {\n",
              "        vertical-align: top;\n",
              "    }\n",
              "\n",
              "    .dataframe thead th {\n",
              "        text-align: right;\n",
              "    }\n",
              "</style>\n",
              "<table border=\"1\" class=\"dataframe\">\n",
              "  <thead>\n",
              "    <tr style=\"text-align: right;\">\n",
              "      <th></th>\n",
              "      <th>model_name</th>\n",
              "      <th>dataset_source</th>\n",
              "      <th>dataset_resampled</th>\n",
              "      <th>image_dataset_source</th>\n",
              "      <th>image_dataset_zoomed</th>\n",
              "      <th>train_size</th>\n",
              "      <th>image_size</th>\n",
              "      <th>image_color_rgb</th>\n",
              "      <th>batch_size</th>\n",
              "      <th>image_data_generator_params</th>\n",
              "      <th>...</th>\n",
              "      <th>fit_complete</th>\n",
              "      <th>f1_score</th>\n",
              "      <th>val_f1_score</th>\n",
              "      <th>test_f1_score</th>\n",
              "      <th>accuracy</th>\n",
              "      <th>val_accuracy</th>\n",
              "      <th>test_accuracy</th>\n",
              "      <th>loss</th>\n",
              "      <th>val_loss</th>\n",
              "      <th>remarks</th>\n",
              "    </tr>\n",
              "    <tr>\n",
              "      <th>model_id</th>\n",
              "      <th></th>\n",
              "      <th></th>\n",
              "      <th></th>\n",
              "      <th></th>\n",
              "      <th></th>\n",
              "      <th></th>\n",
              "      <th></th>\n",
              "      <th></th>\n",
              "      <th></th>\n",
              "      <th></th>\n",
              "      <th></th>\n",
              "      <th></th>\n",
              "      <th></th>\n",
              "      <th></th>\n",
              "      <th></th>\n",
              "      <th></th>\n",
              "      <th></th>\n",
              "      <th></th>\n",
              "      <th></th>\n",
              "      <th></th>\n",
              "      <th></th>\n",
              "    </tr>\n",
              "  </thead>\n",
              "  <tbody>\n",
              "    <tr>\n",
              "      <th>0</th>\n",
              "      <td>Example model</td>\n",
              "      <td>output/data-exploration/X_train_pre.csv</td>\n",
              "      <td>False</td>\n",
              "      <td>data/images.zip</td>\n",
              "      <td>False</td>\n",
              "      <td>42458.0</td>\n",
              "      <td>300.0</td>\n",
              "      <td>True</td>\n",
              "      <td>32.0</td>\n",
              "      <td>{'rescale': 0.00392156862745098, 'shear_range'...</td>\n",
              "      <td>...</td>\n",
              "      <td>True</td>\n",
              "      <td>0.420000</td>\n",
              "      <td>0.370000</td>\n",
              "      <td>0.350000</td>\n",
              "      <td>0.570000</td>\n",
              "      <td>0.39000</td>\n",
              "      <td>0.410000</td>\n",
              "      <td>1.567000</td>\n",
              "      <td>2.657000</td>\n",
              "      <td>Ceci n'est pas un vrai modèle. C'est juste un ...</td>\n",
              "    </tr>\n",
              "    <tr>\n",
              "      <th>111</th>\n",
              "      <td>Modèle 1.1</td>\n",
              "      <td>output/data-exploration/X_train_pre.csv</td>\n",
              "      <td>False</td>\n",
              "      <td>data/images.zip</td>\n",
              "      <td>False</td>\n",
              "      <td>8491.0</td>\n",
              "      <td>128.0</td>\n",
              "      <td>True</td>\n",
              "      <td>32.0</td>\n",
              "      <td>{'rescale': 0.00392156862745098, 'rotation_ran...</td>\n",
              "      <td>...</td>\n",
              "      <td>True</td>\n",
              "      <td>0.219402</td>\n",
              "      <td>0.234481</td>\n",
              "      <td>0.232259</td>\n",
              "      <td>0.263388</td>\n",
              "      <td>0.27783</td>\n",
              "      <td>0.232259</td>\n",
              "      <td>2.562348</td>\n",
              "      <td>2.511956</td>\n",
              "      <td>NaN</td>\n",
              "    </tr>\n",
              "  </tbody>\n",
              "</table>\n",
              "<p>2 rows × 25 columns</p>\n",
              "</div>\n",
              "    <div class=\"colab-df-buttons\">\n",
              "\n",
              "  <div class=\"colab-df-container\">\n",
              "    <button class=\"colab-df-convert\" onclick=\"convertToInteractive('df-aee9cb28-4e10-4e7f-b1a5-6c38a7f5e446')\"\n",
              "            title=\"Convert this dataframe to an interactive table.\"\n",
              "            style=\"display:none;\">\n",
              "\n",
              "  <svg xmlns=\"http://www.w3.org/2000/svg\" height=\"24px\" viewBox=\"0 -960 960 960\">\n",
              "    <path d=\"M120-120v-720h720v720H120Zm60-500h600v-160H180v160Zm220 220h160v-160H400v160Zm0 220h160v-160H400v160ZM180-400h160v-160H180v160Zm440 0h160v-160H620v160ZM180-180h160v-160H180v160Zm440 0h160v-160H620v160Z\"/>\n",
              "  </svg>\n",
              "    </button>\n",
              "\n",
              "  <style>\n",
              "    .colab-df-container {\n",
              "      display:flex;\n",
              "      gap: 12px;\n",
              "    }\n",
              "\n",
              "    .colab-df-convert {\n",
              "      background-color: #E8F0FE;\n",
              "      border: none;\n",
              "      border-radius: 50%;\n",
              "      cursor: pointer;\n",
              "      display: none;\n",
              "      fill: #1967D2;\n",
              "      height: 32px;\n",
              "      padding: 0 0 0 0;\n",
              "      width: 32px;\n",
              "    }\n",
              "\n",
              "    .colab-df-convert:hover {\n",
              "      background-color: #E2EBFA;\n",
              "      box-shadow: 0px 1px 2px rgba(60, 64, 67, 0.3), 0px 1px 3px 1px rgba(60, 64, 67, 0.15);\n",
              "      fill: #174EA6;\n",
              "    }\n",
              "\n",
              "    .colab-df-buttons div {\n",
              "      margin-bottom: 4px;\n",
              "    }\n",
              "\n",
              "    [theme=dark] .colab-df-convert {\n",
              "      background-color: #3B4455;\n",
              "      fill: #D2E3FC;\n",
              "    }\n",
              "\n",
              "    [theme=dark] .colab-df-convert:hover {\n",
              "      background-color: #434B5C;\n",
              "      box-shadow: 0px 1px 3px 1px rgba(0, 0, 0, 0.15);\n",
              "      filter: drop-shadow(0px 1px 2px rgba(0, 0, 0, 0.3));\n",
              "      fill: #FFFFFF;\n",
              "    }\n",
              "  </style>\n",
              "\n",
              "    <script>\n",
              "      const buttonEl =\n",
              "        document.querySelector('#df-aee9cb28-4e10-4e7f-b1a5-6c38a7f5e446 button.colab-df-convert');\n",
              "      buttonEl.style.display =\n",
              "        google.colab.kernel.accessAllowed ? 'block' : 'none';\n",
              "\n",
              "      async function convertToInteractive(key) {\n",
              "        const element = document.querySelector('#df-aee9cb28-4e10-4e7f-b1a5-6c38a7f5e446');\n",
              "        const dataTable =\n",
              "          await google.colab.kernel.invokeFunction('convertToInteractive',\n",
              "                                                    [key], {});\n",
              "        if (!dataTable) return;\n",
              "\n",
              "        const docLinkHtml = 'Like what you see? Visit the ' +\n",
              "          '<a target=\"_blank\" href=https://colab.research.google.com/notebooks/data_table.ipynb>data table notebook</a>'\n",
              "          + ' to learn more about interactive tables.';\n",
              "        element.innerHTML = '';\n",
              "        dataTable['output_type'] = 'display_data';\n",
              "        await google.colab.output.renderOutput(dataTable, element);\n",
              "        const docLink = document.createElement('div');\n",
              "        docLink.innerHTML = docLinkHtml;\n",
              "        element.appendChild(docLink);\n",
              "      }\n",
              "    </script>\n",
              "  </div>\n",
              "\n",
              "\n",
              "<div id=\"df-3e084dbb-7de8-4356-862b-94695ce14b20\">\n",
              "  <button class=\"colab-df-quickchart\" onclick=\"quickchart('df-3e084dbb-7de8-4356-862b-94695ce14b20')\"\n",
              "            title=\"Suggest charts\"\n",
              "            style=\"display:none;\">\n",
              "\n",
              "<svg xmlns=\"http://www.w3.org/2000/svg\" height=\"24px\"viewBox=\"0 0 24 24\"\n",
              "     width=\"24px\">\n",
              "    <g>\n",
              "        <path d=\"M19 3H5c-1.1 0-2 .9-2 2v14c0 1.1.9 2 2 2h14c1.1 0 2-.9 2-2V5c0-1.1-.9-2-2-2zM9 17H7v-7h2v7zm4 0h-2V7h2v10zm4 0h-2v-4h2v4z\"/>\n",
              "    </g>\n",
              "</svg>\n",
              "  </button>\n",
              "\n",
              "<style>\n",
              "  .colab-df-quickchart {\n",
              "      --bg-color: #E8F0FE;\n",
              "      --fill-color: #1967D2;\n",
              "      --hover-bg-color: #E2EBFA;\n",
              "      --hover-fill-color: #174EA6;\n",
              "      --disabled-fill-color: #AAA;\n",
              "      --disabled-bg-color: #DDD;\n",
              "  }\n",
              "\n",
              "  [theme=dark] .colab-df-quickchart {\n",
              "      --bg-color: #3B4455;\n",
              "      --fill-color: #D2E3FC;\n",
              "      --hover-bg-color: #434B5C;\n",
              "      --hover-fill-color: #FFFFFF;\n",
              "      --disabled-bg-color: #3B4455;\n",
              "      --disabled-fill-color: #666;\n",
              "  }\n",
              "\n",
              "  .colab-df-quickchart {\n",
              "    background-color: var(--bg-color);\n",
              "    border: none;\n",
              "    border-radius: 50%;\n",
              "    cursor: pointer;\n",
              "    display: none;\n",
              "    fill: var(--fill-color);\n",
              "    height: 32px;\n",
              "    padding: 0;\n",
              "    width: 32px;\n",
              "  }\n",
              "\n",
              "  .colab-df-quickchart:hover {\n",
              "    background-color: var(--hover-bg-color);\n",
              "    box-shadow: 0 1px 2px rgba(60, 64, 67, 0.3), 0 1px 3px 1px rgba(60, 64, 67, 0.15);\n",
              "    fill: var(--button-hover-fill-color);\n",
              "  }\n",
              "\n",
              "  .colab-df-quickchart-complete:disabled,\n",
              "  .colab-df-quickchart-complete:disabled:hover {\n",
              "    background-color: var(--disabled-bg-color);\n",
              "    fill: var(--disabled-fill-color);\n",
              "    box-shadow: none;\n",
              "  }\n",
              "\n",
              "  .colab-df-spinner {\n",
              "    border: 2px solid var(--fill-color);\n",
              "    border-color: transparent;\n",
              "    border-bottom-color: var(--fill-color);\n",
              "    animation:\n",
              "      spin 1s steps(1) infinite;\n",
              "  }\n",
              "\n",
              "  @keyframes spin {\n",
              "    0% {\n",
              "      border-color: transparent;\n",
              "      border-bottom-color: var(--fill-color);\n",
              "      border-left-color: var(--fill-color);\n",
              "    }\n",
              "    20% {\n",
              "      border-color: transparent;\n",
              "      border-left-color: var(--fill-color);\n",
              "      border-top-color: var(--fill-color);\n",
              "    }\n",
              "    30% {\n",
              "      border-color: transparent;\n",
              "      border-left-color: var(--fill-color);\n",
              "      border-top-color: var(--fill-color);\n",
              "      border-right-color: var(--fill-color);\n",
              "    }\n",
              "    40% {\n",
              "      border-color: transparent;\n",
              "      border-right-color: var(--fill-color);\n",
              "      border-top-color: var(--fill-color);\n",
              "    }\n",
              "    60% {\n",
              "      border-color: transparent;\n",
              "      border-right-color: var(--fill-color);\n",
              "    }\n",
              "    80% {\n",
              "      border-color: transparent;\n",
              "      border-right-color: var(--fill-color);\n",
              "      border-bottom-color: var(--fill-color);\n",
              "    }\n",
              "    90% {\n",
              "      border-color: transparent;\n",
              "      border-bottom-color: var(--fill-color);\n",
              "    }\n",
              "  }\n",
              "</style>\n",
              "\n",
              "  <script>\n",
              "    async function quickchart(key) {\n",
              "      const quickchartButtonEl =\n",
              "        document.querySelector('#' + key + ' button');\n",
              "      quickchartButtonEl.disabled = true;  // To prevent multiple clicks.\n",
              "      quickchartButtonEl.classList.add('colab-df-spinner');\n",
              "      try {\n",
              "        const charts = await google.colab.kernel.invokeFunction(\n",
              "            'suggestCharts', [key], {});\n",
              "      } catch (error) {\n",
              "        console.error('Error during call to suggestCharts:', error);\n",
              "      }\n",
              "      quickchartButtonEl.classList.remove('colab-df-spinner');\n",
              "      quickchartButtonEl.classList.add('colab-df-quickchart-complete');\n",
              "    }\n",
              "    (() => {\n",
              "      let quickchartButtonEl =\n",
              "        document.querySelector('#df-3e084dbb-7de8-4356-862b-94695ce14b20 button');\n",
              "      quickchartButtonEl.style.display =\n",
              "        google.colab.kernel.accessAllowed ? 'block' : 'none';\n",
              "    })();\n",
              "  </script>\n",
              "</div>\n",
              "    </div>\n",
              "  </div>\n"
            ]
          },
          "metadata": {},
          "execution_count": 177
        }
      ]
    },
    {
      "cell_type": "markdown",
      "source": [
        "Ajoutons une ligne correspondant à notre modèle et commençons à renseigner ses informations."
      ],
      "metadata": {
        "id": "6LuOGPlumwCN"
      }
    },
    {
      "cell_type": "code",
      "source": [
        "add_reporting_line(model_id,\"Modèle 1.2\")"
      ],
      "metadata": {
        "id": "kq-2bhubmwCN"
      },
      "execution_count": 178,
      "outputs": []
    },
    {
      "cell_type": "markdown",
      "source": [
        "On peut déja renseigner les informations sur les données sources qu'on utilise"
      ],
      "metadata": {
        "id": "j46MeZ7hmwCN"
      }
    },
    {
      "cell_type": "code",
      "source": [
        "\n",
        "update_reporting_line(model_id,{\n",
        "    \"dataset_source\": \"output/data-preprocessing-images/df_pre.zip\",\n",
        "    \"dataset_resampled\": False,\n",
        "    \"image_dataset_source\" : \"output/data-preprocessing-images/images_pre.zip\",\n",
        "    \"image_dataset_zoomed\" : True,\n",
        "    \"train_size\": len(X_train),\n",
        "})"
      ],
      "metadata": {
        "id": "en9Ls8FHmwCN"
      },
      "execution_count": 179,
      "outputs": []
    },
    {
      "cell_type": "markdown",
      "metadata": {
        "id": "a1wsi5uTmwCO"
      },
      "source": [
        "## Générateurs d'images"
      ]
    },
    {
      "cell_type": "markdown",
      "source": [
        "Commençons par créer une liste ordonnée des classes que l'on va fournir aux générateurs. Plus tard cette liste nous servira à retrouver les classes correspondant aux prédictions car la methode **predict** de keras retourne une matrice dont les colonnes correspondent aux classes dans l'ordre auquel on les a fourni."
      ],
      "metadata": {
        "id": "cQlSIlGwmwCO"
      }
    },
    {
      "cell_type": "code",
      "execution_count": 180,
      "metadata": {
        "id": "LMjvpI8tmwCO"
      },
      "outputs": [],
      "source": [
        "classes_keras = list(np.sort(np.array(df[\"prdtypecode\"].unique(),dtype=\"str\")))\n"
      ]
    },
    {
      "cell_type": "markdown",
      "source": [
        "On va reprendre ici les même générateurs d'image que pour la modélisation 1.1. On se contente de rappeler leur méthode **flow_from_dataframe** pour obtenir une instance adaptée au nouveau jeu de données.\n",
        "\n",
        "On pense quand même à sauvegarder dans le rapport les paramètres de **ImageDataGenerator** pour le modèle en cours."
      ],
      "metadata": {
        "id": "_f8QYwxEmwCO"
      }
    },
    {
      "cell_type": "code",
      "execution_count": 181,
      "metadata": {
        "colab": {
          "base_uri": "https://localhost:8080/"
        },
        "outputId": "b3cf495b-9308-43cd-96a5-1f6546eaccb5",
        "id": "R-v9IYxqmwCP"
      },
      "outputs": [
        {
          "output_type": "stream",
          "name": "stdout",
          "text": [
            "Found 8491 validated image filenames belonging to 27 classes.\n"
          ]
        }
      ],
      "source": [
        "update_reporting_line(model_id, {\n",
        "    \"image_data_generator_params\" : {\n",
        "      \"rescale\":1./255,\n",
        "      \"rotation_range\":0.5,\n",
        "      \"width_shift_range\":0.05,\n",
        "      \"height_shift_range\":0.05,\n",
        "      \"shear_range\":0.05,\n",
        "      \"zoom_range\":0.05,\n",
        "      \"horizontal_flip\":True,\n",
        "      \"vertical_flip\":False,\n",
        "      \"fill_mode\":'nearest'\n",
        "      }\n",
        "})\n",
        "\n",
        "update_reporting_line(model_id, {\n",
        "    \"batch_size\":32,\n",
        "    \"image_size\": target_img_size[0],\n",
        "    \"image_color_rgb\": True\n",
        "})\n",
        "\n",
        "train_generator = train_data_generator.flow_from_dataframe(\n",
        "    dataframe=pd.DataFrame({\"imagefile\": X_train['imagefile'],\"prdtypecode\": y_train.astype(\"str\")}),\n",
        "    x_col=\"imagefile\",\n",
        "    y_col=\"prdtypecode\",\n",
        "    directory=image_path,\n",
        "    target_size=target_img_size[:2],\n",
        "    color_mode=color_mode,\n",
        "    batch_size=batch_size,\n",
        "    class_mode=\"categorical\",\n",
        "    classes=classes_keras\n",
        ")"
      ]
    },
    {
      "cell_type": "code",
      "execution_count": 182,
      "metadata": {
        "colab": {
          "base_uri": "https://localhost:8080/"
        },
        "outputId": "52fbde68-e1e9-4bc7-b55e-f6be05115219",
        "id": "OMPYS-hQmwCQ"
      },
      "outputs": [
        {
          "output_type": "stream",
          "name": "stdout",
          "text": [
            "Found 8492 validated image filenames belonging to 27 classes.\n"
          ]
        }
      ],
      "source": [
        "validation_generator = validation_data_generator.flow_from_dataframe(\n",
        "    dataframe=pd.DataFrame({\"imagefile\": X_val['imagefile'],\"prdtypecode\": y_val.astype(\"str\")}),\n",
        "    x_col=\"imagefile\",\n",
        "    y_col=\"prdtypecode\",\n",
        "    directory=image_path,\n",
        "    target_size=target_img_size[:2],\n",
        "    color_mode=color_mode,\n",
        "    batch_size=batch_size,\n",
        "    class_mode=\"categorical\",\n",
        "    classes=classes_keras\n",
        ")"
      ]
    },
    {
      "cell_type": "code",
      "execution_count": 183,
      "metadata": {
        "colab": {
          "base_uri": "https://localhost:8080/"
        },
        "outputId": "4100a6f2-3ea3-411c-98b5-9e8e93ceffa0",
        "id": "WmSGNXSdmwCQ"
      },
      "outputs": [
        {
          "output_type": "stream",
          "name": "stdout",
          "text": [
            "Found 8492 validated image filenames belonging to 27 classes.\n"
          ]
        }
      ],
      "source": [
        "test_generator = test_data_generator.flow_from_dataframe(\n",
        "    dataframe=pd.DataFrame({\"imagefile\": X_test['imagefile'],\"prdtypecode\": y_test.astype(\"str\")}),\n",
        "    x_col=\"imagefile\",\n",
        "    y_col=\"prdtypecode\",\n",
        "    directory=image_path,\n",
        "    target_size=target_img_size[:2],\n",
        "    color_mode=color_mode,\n",
        "    batch_size=batch_size,\n",
        "    class_mode=\"categorical\",\n",
        "    classes=classes_keras,\n",
        "    shuffle=False\n",
        ")"
      ]
    },
    {
      "cell_type": "markdown",
      "source": [
        "## Création du model"
      ],
      "metadata": {
        "id": "NGQud1xUmwCR"
      }
    },
    {
      "cell_type": "markdown",
      "source": [
        "S'il ny a pas encore de modèle enregistré, on le construit puis on le compile en veillant à passer notre métrique **w_f1_score** personnalisée.\n",
        "On conserve le même taux d'apprentissage de départ que dans la modélisation 1.1"
      ],
      "metadata": {
        "id": "m45bp5t_mwCR"
      }
    },
    {
      "cell_type": "code",
      "source": [
        "model = load_saved_model(model_id)\n",
        "if model == None:\n",
        "  print(\"build model\")\n",
        "  model = build_model(target_img_size)\n",
        "  model.compile(\n",
        "      optimizer=Adam(learning_rate=start_lr),\n",
        "      loss='categorical_crossentropy',\n",
        "      metrics=['accuracy',w_f1_score]\n",
        "  )\n",
        "  update_reporting_line(model_id,{\n",
        "      \"start_lr\": start_lr,\n",
        "      \"optimizer\": \"adam\",\n",
        "  })\n",
        "\n",
        "model.summary()"
      ],
      "metadata": {
        "colab": {
          "base_uri": "https://localhost:8080/"
        },
        "outputId": "4a8bcdfa-88e4-4745-b5d8-d08d84efcf68",
        "id": "VOgAc-iqmwCS"
      },
      "execution_count": 184,
      "outputs": [
        {
          "output_type": "stream",
          "name": "stdout",
          "text": [
            "No previous model found at output/data-modeling-images-1/model-112.keras\n",
            "build model\n",
            "Model: \"sequential_2\"\n",
            "_________________________________________________________________\n",
            " Layer (type)                Output Shape              Param #   \n",
            "=================================================================\n",
            " conv2d_4 (Conv2D)           (None, 124, 124, 6)       456       \n",
            "                                                                 \n",
            " average_pooling2d_4 (Avera  (None, 62, 62, 6)         0         \n",
            " gePooling2D)                                                    \n",
            "                                                                 \n",
            " conv2d_5 (Conv2D)           (None, 58, 58, 16)        2416      \n",
            "                                                                 \n",
            " average_pooling2d_5 (Avera  (None, 29, 29, 16)        0         \n",
            " gePooling2D)                                                    \n",
            "                                                                 \n",
            " flatten_2 (Flatten)         (None, 13456)             0         \n",
            "                                                                 \n",
            " dense_6 (Dense)             (None, 120)               1614840   \n",
            "                                                                 \n",
            " dense_7 (Dense)             (None, 84)                10164     \n",
            "                                                                 \n",
            " dense_8 (Dense)             (None, 27)                2295      \n",
            "                                                                 \n",
            "=================================================================\n",
            "Total params: 1630171 (6.22 MB)\n",
            "Trainable params: 1630171 (6.22 MB)\n",
            "Non-trainable params: 0 (0.00 Byte)\n",
            "_________________________________________________________________\n"
          ]
        }
      ]
    },
    {
      "cell_type": "markdown",
      "source": [
        "## Entrainement du model"
      ],
      "metadata": {
        "id": "LRwVa2T7mwCS"
      }
    },
    {
      "cell_type": "markdown",
      "source": [
        "On procéde à l'entrainement du modèle de la même façon que lors de la modélisation 1.1. Là encore, on réutilise les mêmes paramètres."
      ],
      "metadata": {
        "id": "R33Mks91mwCS"
      }
    },
    {
      "cell_type": "code",
      "execution_count": 185,
      "metadata": {
        "colab": {
          "base_uri": "https://localhost:8080/"
        },
        "outputId": "c9d02b35-e162-49d8-ba85-92b9dfc8ce23",
        "id": "iHA_9KGnmwCT"
      },
      "outputs": [
        {
          "output_type": "stream",
          "name": "stdout",
          "text": [
            "Epoch 1/3\n",
            "265/265 [==============================] - ETA: 0s - loss: 2.8965 - accuracy: 0.1718 - w_f1_score: 0.1005\n",
            "Found better model with val_f1_score=0.15\n",
            "save model  112 to  output/data-modeling-images-1/model-112.keras\n",
            "265/265 [==============================] - 110s 405ms/step - loss: 2.8965 - accuracy: 0.1718 - w_f1_score: 0.1005 - val_loss: 2.7156 - val_accuracy: 0.2191 - val_w_f1_score: 0.1500\n",
            "Epoch 2/3\n",
            "265/265 [==============================] - ETA: 0s - loss: 2.6571 - accuracy: 0.2382 - w_f1_score: 0.1846\n",
            "Found better model with val_f1_score=0.22\n",
            "save model  112 to  output/data-modeling-images-1/model-112.keras\n",
            "265/265 [==============================] - 106s 399ms/step - loss: 2.6571 - accuracy: 0.2382 - w_f1_score: 0.1846 - val_loss: 2.6534 - val_accuracy: 0.2494 - val_w_f1_score: 0.2153\n",
            "Epoch 3/3\n",
            "265/265 [==============================] - 104s 392ms/step - loss: 2.5452 - accuracy: 0.2661 - w_f1_score: 0.2189 - val_loss: 2.6418 - val_accuracy: 0.2390 - val_w_f1_score: 0.2053\n"
          ]
        }
      ],
      "source": [
        "if not get_reporting_value(model_id,\"fit_complete\",False):\n",
        "  update_reporting_line(model_id,{\n",
        "      \"target_epochs\": target_epochs\n",
        "  })\n",
        "  training_history = model.fit(\n",
        "      train_generator,\n",
        "      validation_data=validation_generator,\n",
        "      steps_per_epoch=train_generator.samples // batch_size,\n",
        "      validation_steps = validation_generator.samples // batch_size,\n",
        "      epochs=target_epochs - int(get_reporting_value(model_id,\"last_epoch\",0)),\n",
        "      verbose=1,\n",
        "      callbacks=[LogBest(model_id),early_stopping]\n",
        "  )\n",
        "  update_reporting_line(model_id,{\"fit_complete\":True})\n",
        "else:\n",
        "  print(\"No need to train model\")\n",
        "  training_history = None"
      ]
    },
    {
      "cell_type": "markdown",
      "source": [
        "## Evaluation du modèle"
      ],
      "metadata": {
        "id": "Vyxg4ZRSmwCT"
      }
    },
    {
      "cell_type": "markdown",
      "source": [
        "Si un entrainement a eu lieu au cours de cette execution du notebook, on recharge le meilleur modèle qu'on a trouvé"
      ],
      "metadata": {
        "id": "vEJHRy9zmwCU"
      }
    },
    {
      "cell_type": "code",
      "execution_count": 186,
      "metadata": {
        "colab": {
          "base_uri": "https://localhost:8080/"
        },
        "id": "NWBrtjMkmwCU",
        "outputId": "d8c0b1ca-c3c4-45e1-f0df-2867e268d9a7"
      },
      "outputs": [
        {
          "output_type": "stream",
          "name": "stdout",
          "text": [
            "Load previous model from output/data-modeling-images-1/model-112.keras\n"
          ]
        }
      ],
      "source": [
        "if training_history != None:\n",
        "  #if fit wad called, make sure to load best saved model, otherwise it's already loaded\n",
        "  model = load_saved_model(model_id)\n"
      ]
    },
    {
      "cell_type": "markdown",
      "source": [
        "On teste le modèle sur l'ensemble de test"
      ],
      "metadata": {
        "id": "jYjKn7EimwCU"
      }
    },
    {
      "cell_type": "code",
      "source": [
        "test_pred = model.predict(test_generator,verbose=1)"
      ],
      "metadata": {
        "colab": {
          "base_uri": "https://localhost:8080/"
        },
        "outputId": "7930b079-abd1-430e-9a52-69be6aa48a8f",
        "id": "XGiBIuIhmwCU"
      },
      "execution_count": 187,
      "outputs": [
        {
          "output_type": "stream",
          "name": "stdout",
          "text": [
            "266/266 [==============================] - 31s 115ms/step\n"
          ]
        }
      ]
    },
    {
      "cell_type": "markdown",
      "source": [
        "On doit convertir le resulat de **predict** depuis le format renvoyés par keras qui est une matrice de probabilités avec les classes en colonnes et les observations du jeu de test en lignes en un tableau à 1 dimension contenant les classes prédites pour chaque observation.\n",
        "\n",
        "Pour cela, on extrait pour chaque observation l'index de la probabilité max de prédiction. On utilise ensuite cet index pour retrouver la classe correspondante dans **classes_keras**, la liste des classes telle qu'on la fourni à keras."
      ],
      "metadata": {
        "id": "jBoiHlN8mwCU"
      }
    },
    {
      "cell_type": "code",
      "source": [
        "test_pred_class = np.argmax(test_pred,axis=1)\n",
        "test_pred_class = [classes_keras[c] for c in test_pred_class]"
      ],
      "metadata": {
        "id": "8MpC9we-mwCV"
      },
      "execution_count": 188,
      "outputs": []
    },
    {
      "cell_type": "markdown",
      "source": [
        "A partir des classes prédites et des observations réelles, on calcul, le score f1 ainsi que l'accuracy de notre modèle, toujours sur le jeu de test.\n",
        "\n",
        "On enregistre ces infos dans le rapport."
      ],
      "metadata": {
        "id": "NH6c2pNwmwCV"
      }
    },
    {
      "cell_type": "code",
      "source": [
        "f1_weighted = f1_score(y_test.astype(\"str\"),test_pred_class,average=\"weighted\")\n",
        "accuracy = accuracy_score(y_test.astype(\"str\"),test_pred_class)\n",
        "update_reporting_line(model_id,{\n",
        "    \"test_f1_score\":f1_weighted,\n",
        "    \"test_accuracy\":f1_weighted\n",
        "})\n",
        "\n",
        "print(\"f1_score on test dataset=%.2f\" % f1_weighted)\n",
        "print(\"accuracy on test dataset=%.2f\" % accuracy)"
      ],
      "metadata": {
        "colab": {
          "base_uri": "https://localhost:8080/"
        },
        "outputId": "c09c8b51-c6f8-4b4f-93c4-6453051c191e",
        "id": "UgSPc0qumwCW"
      },
      "execution_count": 189,
      "outputs": [
        {
          "output_type": "stream",
          "name": "stdout",
          "text": [
            "f1_score on test dataset=0.20\n",
            "accuracy on test dataset=0.25\n"
          ]
        }
      ]
    },
    {
      "cell_type": "markdown",
      "source": [
        "On récupère l'historique d'entrainement complet gràce à **get_full_training_history** qu'on va enregistrer puis on affiche deux graphiques:\n",
        "\n",
        "* L'évolution de l'accuracy et du score f1 pendant en fonction des époques\n",
        "* L'évolution des indicateurs de perte **loss** et **val_loss**"
      ],
      "metadata": {
        "id": "NGyWEss6mwCW"
      }
    },
    {
      "cell_type": "code",
      "source": [
        "history = get_full_training_history(model_id,training_history)\n",
        "if history != None:\n",
        "  save_training_history(model_id,history)\n",
        "  #to avoid concat of same history when re-executing this cell\n",
        "  training_history = None\n",
        "  plot_training_history(history)"
      ],
      "metadata": {
        "colab": {
          "base_uri": "https://localhost:8080/",
          "height": 480
        },
        "outputId": "b49e3b46-1c41-450e-b45f-cb30971d566a",
        "id": "Id24ikfqmwCW"
      },
      "execution_count": 190,
      "outputs": [
        {
          "output_type": "display_data",
          "data": {
            "text/plain": [
              "<Figure size 1200x500 with 2 Axes>"
            ],
            "image/png": "[encoded data removed]"
          },
          "metadata": {}
        }
      ]
    },
    {
      "cell_type": "markdown",
      "source": [
        "todo: comment"
      ],
      "metadata": {
        "id": "s-wu_AGjmwCX"
      }
    },
    {
      "cell_type": "markdown",
      "source": [
        "On va maintenant afficher le rapport de classification qui va nous donner une vision détaillée par classe des scores de prédiction."
      ],
      "metadata": {
        "id": "hF3lhMUxmwCX"
      }
    },
    {
      "cell_type": "code",
      "execution_count": 191,
      "metadata": {
        "colab": {
          "base_uri": "https://localhost:8080/"
        },
        "outputId": "4ddda834-a50b-4610-fbe5-c123700efebd",
        "id": "20WTG6c4mwCX"
      },
      "outputs": [
        {
          "output_type": "stream",
          "name": "stdout",
          "text": [
            "              precision    recall  f1-score   support\n",
            "\n",
            "          10       0.05      0.00      0.01       311\n",
            "        1140       0.15      0.10      0.12       267\n",
            "        1160       0.40      0.69      0.51       396\n",
            "        1180       0.00      0.00      0.00        76\n",
            "        1280       0.12      0.03      0.04       487\n",
            "        1281       0.00      0.00      0.00       207\n",
            "        1300       0.16      0.37      0.23       505\n",
            "        1301       0.00      0.00      0.00        81\n",
            "        1302       0.12      0.01      0.02       249\n",
            "        1320       0.18      0.05      0.07       324\n",
            "        1560       0.17      0.28      0.21       507\n",
            "        1920       0.25      0.59      0.35       431\n",
            "        1940       0.00      0.00      0.00        81\n",
            "        2060       0.29      0.18      0.22       499\n",
            "        2220       0.00      0.00      0.00        82\n",
            "        2280       0.34      0.50      0.41       476\n",
            "        2403       0.32      0.24      0.28       477\n",
            "        2462       0.00      0.00      0.00       142\n",
            "        2522       0.16      0.32      0.21       499\n",
            "        2582       0.00      0.00      0.00       259\n",
            "        2583       0.35      0.41      0.38      1021\n",
            "        2585       0.00      0.00      0.00       250\n",
            "        2705       0.19      0.51      0.28       276\n",
            "        2905       0.00      0.00      0.00        87\n",
            "          40       0.28      0.11      0.16       251\n",
            "          50       0.00      0.00      0.00       168\n",
            "          60       0.00      0.00      0.00        83\n",
            "\n",
            "    accuracy                           0.25      8492\n",
            "   macro avg       0.13      0.16      0.13      8492\n",
            "weighted avg       0.20      0.25      0.20      8492\n",
            "\n"
          ]
        },
        {
          "output_type": "stream",
          "name": "stderr",
          "text": [
            "/usr/local/lib/python3.10/dist-packages/sklearn/metrics/_classification.py:1344: UndefinedMetricWarning: Precision and F-score are ill-defined and being set to 0.0 in labels with no predicted samples. Use `zero_division` parameter to control this behavior.\n",
            "  _warn_prf(average, modifier, msg_start, len(result))\n",
            "/usr/local/lib/python3.10/dist-packages/sklearn/metrics/_classification.py:1344: UndefinedMetricWarning: Precision and F-score are ill-defined and being set to 0.0 in labels with no predicted samples. Use `zero_division` parameter to control this behavior.\n",
            "  _warn_prf(average, modifier, msg_start, len(result))\n",
            "/usr/local/lib/python3.10/dist-packages/sklearn/metrics/_classification.py:1344: UndefinedMetricWarning: Precision and F-score are ill-defined and being set to 0.0 in labels with no predicted samples. Use `zero_division` parameter to control this behavior.\n",
            "  _warn_prf(average, modifier, msg_start, len(result))\n"
          ]
        }
      ],
      "source": [
        "\n",
        "print(classification_report(y_test.astype(\"str\"),test_pred_class))\n"
      ]
    },
    {
      "cell_type": "markdown",
      "source": [
        "todo: comment"
      ],
      "metadata": {
        "id": "Cv5Is8oWmwCX"
      }
    },
    {
      "cell_type": "markdown",
      "source": [
        "Affichons la matrice de confusion sous forme de heatmap pour plus de lisibilité."
      ],
      "metadata": {
        "id": "hgZYm8timwCY"
      }
    },
    {
      "cell_type": "code",
      "execution_count": 192,
      "metadata": {
        "colab": {
          "base_uri": "https://localhost:8080/",
          "height": 634
        },
        "outputId": "cd095802-486a-4ab9-eede-4ab3ba413f26",
        "id": "P5pDTMm6mwCY"
      },
      "outputs": [
        {
          "output_type": "display_data",
          "data": {
            "text/plain": [
              "<Figure size 1500x800 with 2 Axes>"
            ],
            "image/png": "[encoded data removed]"
          },
          "metadata": {}
        }
      ],
      "source": [
        "cm = pd.crosstab(y_test,test_pred_class,rownames=[\"réel\"],colnames=[\"prédit\"])\n",
        "plot_confusion_matrix(np.array(cm))\n",
        "\n"
      ]
    },
    {
      "cell_type": "markdown",
      "source": [
        "todo: comment"
      ],
      "metadata": {
        "id": "aDYywI_5mwCY"
      }
    },
    {
      "cell_type": "markdown",
      "source": [
        "## Résumé"
      ],
      "metadata": {
        "id": "ha20WjbJmwCY"
      }
    },
    {
      "cell_type": "markdown",
      "source": [
        "Nous avons atteint la fin de l'évaluation de cette modélisation. Affichons le rapport du modèle"
      ],
      "metadata": {
        "id": "mfkPh7B6mwCZ"
      }
    },
    {
      "cell_type": "code",
      "source": [
        "reporting_df.loc[model_id].T"
      ],
      "metadata": {
        "colab": {
          "base_uri": "https://localhost:8080/"
        },
        "outputId": "f71a3838-274c-4152-e3c9-67b1b8cf8d74",
        "id": "oOU2pJbymwCZ"
      },
      "execution_count": 193,
      "outputs": [
        {
          "output_type": "execute_result",
          "data": {
            "text/plain": [
              "model_name                                                            Modèle 1.2\n",
              "dataset_source                       output/data-preprocessing-images/df_pre.zip\n",
              "dataset_resampled                                                          False\n",
              "image_dataset_source             output/data-preprocessing-images/images_pre.zip\n",
              "image_dataset_zoomed                                                        True\n",
              "train_size                                                                8491.0\n",
              "image_size                                                                 128.0\n",
              "image_color_rgb                                                             True\n",
              "batch_size                                                                  32.0\n",
              "image_data_generator_params    {'rescale': 0.00392156862745098, 'rotation_ran...\n",
              "start_lr                                                                   0.001\n",
              "last_lr                                                                    0.001\n",
              "optimizer                                                                   adam\n",
              "target_epochs                                                                3.0\n",
              "last_epoch                                                                   3.0\n",
              "fit_complete                                                                True\n",
              "f1_score                                                                0.184574\n",
              "val_f1_score                                                            0.215316\n",
              "test_f1_score                                                           0.200091\n",
              "accuracy                                                                0.238208\n",
              "val_accuracy                                                             0.24941\n",
              "test_accuracy                                                           0.200091\n",
              "loss                                                                    2.657121\n",
              "val_loss                                                                2.653432\n",
              "remarks                                                                      NaN\n",
              "Name: 112, dtype: object"
            ]
          },
          "metadata": {},
          "execution_count": 193
        }
      ]
    }
  ],
  "metadata": {
    "colab": {
      "provenance": [],
      "gpuType": "T4",
      "toc_visible": true
    },
    "kernelspec": {
      "display_name": "Python 3",
      "name": "python3"
    },
    "language_info": {
      "codemirror_mode": {
        "name": "ipython",
        "version": 3
      },
      "file_extension": ".py",
      "mimetype": "text/x-python",
      "name": "python",
      "nbconvert_exporter": "python",
      "pygments_lexer": "ipython3",
      "version": "3.9.18"
    },
    "accelerator": "GPU"
  },
  "nbformat": 4,
  "nbformat_minor": 0
}