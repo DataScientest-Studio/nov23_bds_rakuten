{
  "cells": [
    {
      "cell_type": "code",
      "execution_count": null,
      "metadata": {
        "id": "v1bgefCMY6ov"
      },
      "outputs": [],
      "source": [
        "random_state = 42"
      ]
    },
    {
      "cell_type": "code",
      "execution_count": null,
      "metadata": {
        "colab": {
          "base_uri": "https://localhost:8080/"
        },
        "id": "fdQtZTlxXecp",
        "outputId": "15b26edd-5546-4530-8442-3a980e8aa1b9"
      },
      "outputs": [],
      "source": [
        "import sys\n",
        "import os\n",
        "if 'google.colab' in sys.modules:\n",
        "    from google.colab import drive\n",
        "    drive.mount('/content/drive/', force_remount=True)\n",
        "    %cd drive/MyDrive/nov23_bds_rakuten\n",
        "else:\n",
        "    root_files = os.listdir()\n",
        "    if not \"requirements.txt\" in root_files:\n",
        "        print(\"The jupyter server root should be set to root of git project\")\n",
        "        print(\"If you're on vscode add the following to your settings.json file\")\n",
        "        print('\"jupyter.notebookFileRoot\": \"${workspaceFolder}\"')"
      ]
    },
    {
      "cell_type": "code",
      "execution_count": null,
      "metadata": {
        "colab": {
          "base_uri": "https://localhost:8080/",
          "height": 238
        },
        "id": "Ze3tEowUXxJG",
        "outputId": "1be8d092-c732-4551-92f8-21d3f25f956a"
      },
      "outputs": [],
      "source": [
        "import pandas as pd\n",
        "\n",
        "df = pd.read_csv('output/traduction_fr/X_train_trad_fr.csv', index_col=0)\n",
        "df.head()"
      ]
    },
    {
      "cell_type": "code",
      "execution_count": null,
      "metadata": {
        "id": "4P7vu2MnYWAQ"
      },
      "outputs": [],
      "source": [
        "# to remove once it will be done in data-exploration\n",
        "df[\"imagezoomed\"] = False\n",
        "X = df.drop(\"prdtypecode\",axis=1)\n",
        "y = df[\"prdtypecode\"]"
      ]
    },
    {
      "cell_type": "code",
      "execution_count": null,
      "metadata": {
        "id": "n5fN3zagYkSk"
      },
      "outputs": [],
      "source": [
        "from sklearn.model_selection import train_test_split\n",
        "\n",
        "X_train, X_test, y_train, y_test = train_test_split(X,y,test_size=0.2,random_state = random_state,shuffle=True,stratify=y)\n"
      ]
    },
    {
      "cell_type": "code",
      "execution_count": null,
      "metadata": {
        "id": "HlCe9lgYa50J"
      },
      "outputs": [],
      "source": [
        "#display(y_train.value_counts(normalize=True))\n",
        "#display(y_test.value_counts(normalize=True))"
      ]
    },
    {
      "cell_type": "code",
      "execution_count": null,
      "metadata": {
        "id": "LXrTOF3gbiJQ"
      },
      "outputs": [],
      "source": [
        "X_val,X_test, y_val,y_test = train_test_split(X_test,y_test,test_size=0.5,random_state = random_state,shuffle=True,stratify=y_test)"
      ]
    },
    {
      "cell_type": "code",
      "execution_count": null,
      "metadata": {
        "colab": {
          "base_uri": "https://localhost:8080/"
        },
        "id": "bkvDhLlnbsan",
        "outputId": "db8b4178-fb4e-4dbe-d6b6-a9977d41c4ad"
      },
      "outputs": [],
      "source": [
        "X_train.shape"
      ]
    },
    {
      "cell_type": "code",
      "execution_count": null,
      "metadata": {
        "colab": {
          "base_uri": "https://localhost:8080/"
        },
        "id": "JZnfdFFqb1mg",
        "outputId": "d0d886bc-0742-402e-844a-d306ce2dc0b2"
      },
      "outputs": [],
      "source": [
        "y_train.value_counts()"
      ]
    },
    {
      "cell_type": "code",
      "execution_count": null,
      "metadata": {
        "id": "fCwUoVg5cS1j"
      },
      "outputs": [],
      "source": [
        "from imblearn.under_sampling import RandomUnderSampler\n",
        "\n",
        "under_strategy  = {2583: 4000}\n",
        "# Appliquer le sous-échantillonnage\n",
        "under_sampler = RandomUnderSampler(sampling_strategy = under_strategy,random_state=random_state)\n",
        "X_train, y_train = under_sampler.fit_resample(X_train, y_train)"
      ]
    },
    {
      "cell_type": "code",
      "execution_count": null,
      "metadata": {
        "id": "zY-rnhw4dcFi"
      },
      "outputs": [],
      "source": [
        "from imblearn.over_sampling import RandomOverSampler\n",
        "\n",
        "ros = RandomOverSampler(random_state=random_state)\n",
        "X_train, y_train = ros.fit_resample(X_train, y_train)"
      ]
    },
    {
      "cell_type": "code",
      "execution_count": null,
      "metadata": {
        "colab": {
          "base_uri": "https://localhost:8080/",
          "height": 503
        },
        "id": "CPUgJFxudqGn",
        "outputId": "0d66b76d-64c6-4282-faab-3a86978d7024"
      },
      "outputs": [],
      "source": [
        "display(y_train.value_counts())"
      ]
    },
    {
      "cell_type": "code",
      "execution_count": null,
      "metadata": {
        "id": "idBurGIBhAiN"
      },
      "outputs": [],
      "source": [
        "from pathlib import Path\n",
        "\n",
        "output_dir = \"output/data-preprocessing-resampling\"\n",
        "Path(output_dir).mkdir(parents=True, exist_ok=True)"
      ]
    },
    {
      "cell_type": "code",
      "execution_count": null,
      "metadata": {
        "colab": {
          "base_uri": "https://localhost:8080/",
          "height": 467
        },
        "id": "Ik84hAqMgfiq",
        "outputId": "65404338-0055-4062-ce6b-17bfe132d8de"
      },
      "outputs": [],
      "source": [
        "df_train = pd.concat([X_train,y_train],axis=1)\n",
        "display(df_train.head())\n",
        "display(df_train.info())\n",
        "df_train.to_csv(output_dir+\"/df_train.csv\")\n"
      ]
    },
    {
      "cell_type": "code",
      "execution_count": null,
      "metadata": {
        "colab": {
          "base_uri": "https://localhost:8080/",
          "height": 498
        },
        "id": "NCMCHqEgh5ll",
        "outputId": "f23a42bd-6559-4e6e-b924-ff20353348e5"
      },
      "outputs": [],
      "source": [
        "df_val = pd.concat([X_val,y_val],axis=1)\n",
        "display(df_val.head())\n",
        "display(df_val.info())\n",
        "df_val.to_csv(output_dir+\"/df_val.csv\")\n"
      ]
    },
    {
      "cell_type": "code",
      "execution_count": null,
      "metadata": {
        "colab": {
          "base_uri": "https://localhost:8080/",
          "height": 498
        },
        "id": "MsrjoHrDiFq3",
        "outputId": "72e58489-0622-4fa9-8edb-64abd7226327"
      },
      "outputs": [],
      "source": [
        "df_test = pd.concat([X_test,y_test],axis=1)\n",
        "display(df_test.head())\n",
        "display(df_test.info())\n",
        "df_test.to_csv(output_dir+\"/df_test.csv\")\n"
      ]
    }
  ],
  "metadata": {
    "colab": {
      "provenance": []
    },
    "kernelspec": {
      "display_name": "Python 3",
      "name": "python3"
    },
    "language_info": {
      "name": "python"
    }
  },
  "nbformat": 4,
  "nbformat_minor": 0
}
